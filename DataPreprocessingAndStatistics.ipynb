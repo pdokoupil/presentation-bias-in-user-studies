{
 "cells": [
  {
   "cell_type": "code",
   "execution_count": 304,
   "id": "43e786e2",
   "metadata": {},
   "outputs": [],
   "source": [
    "import pandas as pd\n",
    "import numpy as np\n",
    "import os"
   ]
  },
  {
   "cell_type": "markdown",
   "id": "70049cbc",
   "metadata": {},
   "source": [
    "# Load Participants data"
   ]
  },
  {
   "cell_type": "code",
   "execution_count": 305,
   "id": "ebc71bf7",
   "metadata": {},
   "outputs": [],
   "source": [
    "gender_mapping = {\n",
    "    -1: \"__noData__\",\n",
    "    0: \"Male\",\n",
    "    1: \"Female\",\n",
    "    2: \"Other\"\n",
    "}\n",
    "\n",
    "education_mapping = {\n",
    "    -1: \"__noData__\",\n",
    "    0: \"No\",\n",
    "    1: \"Primary\",\n",
    "    2: \"High\",\n",
    "    3: \"Bachelor\",\n",
    "    4: \"Master\",\n",
    "    5: \"Doctoral\"\n",
    "}\n",
    "\n",
    "age_mapping = {\n",
    "    -1: \"__noData__\",\n",
    "    0: \"0-15\",\n",
    "    16: \"16-20\",\n",
    "    21: \"21-30\",\n",
    "    29: \"31-40\",\n",
    "    41: \"41-50\",\n",
    "    51: \"51-65\",\n",
    "    65: \"65+\"\n",
    "}"
   ]
  },
  {
   "cell_type": "code",
   "execution_count": 306,
   "id": "8b0249a9",
   "metadata": {},
   "outputs": [
    {
     "data": {
      "text/plain": [
       "(222, 11)"
      ]
     },
     "execution_count": 306,
     "metadata": {},
     "output_type": "execute_result"
    }
   ],
   "source": [
    "df_participation = pd.read_csv(\"participation-export.csv\", index_col=0)\n",
    "# All participants with lower ID are dummy data\n",
    "df_participation = df_participation.loc[31:]\n",
    "# Filter out all testusers\n",
    "df_participation.participant_email = df_participation.participant_email.fillna(\"\")\n",
    "df_participation = df_participation[~df_participation.participant_email.str.contains(\"testuser\")]\n",
    "df_participation.shape"
   ]
  },
  {
   "cell_type": "code",
   "execution_count": 307,
   "id": "b3bf5373",
   "metadata": {},
   "outputs": [],
   "source": [
    "df_participation = df_participation[df_participation.age_group.notna()]\n",
    "\n",
    "\n",
    "df_completed_participation = df_participation[df_participation.time_finished.notna()]\n",
    "df_uncompleted_participation = df_participation[df_participation.time_finished.isna()]\n",
    "\n",
    "df_participation.time_joined = pd.to_datetime(df_completed_participation.time_joined)\n",
    "df_participation.time_finished = pd.to_datetime(df_completed_participation.time_finished)\n",
    "\n",
    "df_participation.age_group = df_participation.age_group.astype(int).map(lambda x: age_mapping[x])\n",
    "df_participation.gender = df_participation.gender.astype(int).map(lambda x: gender_mapping[x])\n",
    "df_participation.education = df_participation.education.astype(int).map(lambda x: education_mapping[x])"
   ]
  },
  {
   "cell_type": "code",
   "execution_count": 308,
   "id": "ce0e280b",
   "metadata": {
    "scrolled": false
   },
   "outputs": [
    {
     "data": {
      "text/plain": [
       "((218, 11), (138, 11))"
      ]
     },
     "execution_count": 308,
     "metadata": {},
     "output_type": "execute_result"
    }
   ],
   "source": [
    "df_participation.shape, df_completed_participation.shape"
   ]
  },
  {
   "cell_type": "code",
   "execution_count": 309,
   "id": "b0766069",
   "metadata": {},
   "outputs": [
    {
     "name": "stderr",
     "output_type": "stream",
     "text": [
      "<ipython-input-309-024dc0c69fa6>:1: SettingWithCopyWarning: \n",
      "A value is trying to be set on a copy of a slice from a DataFrame.\n",
      "Try using .loc[row_indexer,col_indexer] = value instead\n",
      "\n",
      "See the caveats in the documentation: https://pandas.pydata.org/pandas-docs/stable/user_guide/indexing.html#returning-a-view-versus-a-copy\n",
      "  df_completed_participation[\"source\"] = \"organic\"\n",
      "C:\\Users\\lpesk\\AppData\\Roaming\\Python\\Python38\\site-packages\\pandas\\core\\indexing.py:1817: SettingWithCopyWarning: \n",
      "A value is trying to be set on a copy of a slice from a DataFrame.\n",
      "Try using .loc[row_indexer,col_indexer] = value instead\n",
      "\n",
      "See the caveats in the documentation: https://pandas.pydata.org/pandas-docs/stable/user_guide/indexing.html#returning-a-view-versus-a-copy\n",
      "  self._setitem_single_column(loc, value, pi)\n"
     ]
    }
   ],
   "source": [
    "df_completed_participation[\"source\"] = \"organic\"\n",
    "df_completed_participation.loc[df_completed_participation.user_study_id == 14, \"source\"] = \"proliferic\""
   ]
  },
  {
   "cell_type": "code",
   "execution_count": 310,
   "id": "7e570c6c",
   "metadata": {},
   "outputs": [
    {
     "data": {
      "text/html": [
       "<div>\n",
       "<style scoped>\n",
       "    .dataframe tbody tr th:only-of-type {\n",
       "        vertical-align: middle;\n",
       "    }\n",
       "\n",
       "    .dataframe tbody tr th {\n",
       "        vertical-align: top;\n",
       "    }\n",
       "\n",
       "    .dataframe thead th {\n",
       "        text-align: right;\n",
       "    }\n",
       "</style>\n",
       "<table border=\"1\" class=\"dataframe\">\n",
       "  <thead>\n",
       "    <tr style=\"text-align: right;\">\n",
       "      <th></th>\n",
       "      <th>participant_email</th>\n",
       "      <th>age_group</th>\n",
       "      <th>gender</th>\n",
       "      <th>education</th>\n",
       "      <th>ml_familiar</th>\n",
       "      <th>time_joined</th>\n",
       "      <th>time_finished</th>\n",
       "      <th>uuid</th>\n",
       "      <th>language</th>\n",
       "      <th>extra_data</th>\n",
       "      <th>source</th>\n",
       "    </tr>\n",
       "    <tr>\n",
       "      <th>user_study_id</th>\n",
       "      <th></th>\n",
       "      <th></th>\n",
       "      <th></th>\n",
       "      <th></th>\n",
       "      <th></th>\n",
       "      <th></th>\n",
       "      <th></th>\n",
       "      <th></th>\n",
       "      <th></th>\n",
       "      <th></th>\n",
       "      <th></th>\n",
       "    </tr>\n",
       "  </thead>\n",
       "  <tbody>\n",
       "    <tr>\n",
       "      <th>13</th>\n",
       "      <td>44</td>\n",
       "      <td>44</td>\n",
       "      <td>44</td>\n",
       "      <td>44</td>\n",
       "      <td>44</td>\n",
       "      <td>44</td>\n",
       "      <td>44</td>\n",
       "      <td>44</td>\n",
       "      <td>44</td>\n",
       "      <td>30</td>\n",
       "      <td>44</td>\n",
       "    </tr>\n",
       "    <tr>\n",
       "      <th>14</th>\n",
       "      <td>73</td>\n",
       "      <td>73</td>\n",
       "      <td>73</td>\n",
       "      <td>73</td>\n",
       "      <td>73</td>\n",
       "      <td>73</td>\n",
       "      <td>73</td>\n",
       "      <td>73</td>\n",
       "      <td>73</td>\n",
       "      <td>73</td>\n",
       "      <td>73</td>\n",
       "    </tr>\n",
       "    <tr>\n",
       "      <th>15</th>\n",
       "      <td>8</td>\n",
       "      <td>8</td>\n",
       "      <td>8</td>\n",
       "      <td>8</td>\n",
       "      <td>8</td>\n",
       "      <td>8</td>\n",
       "      <td>8</td>\n",
       "      <td>8</td>\n",
       "      <td>8</td>\n",
       "      <td>8</td>\n",
       "      <td>8</td>\n",
       "    </tr>\n",
       "    <tr>\n",
       "      <th>16</th>\n",
       "      <td>8</td>\n",
       "      <td>8</td>\n",
       "      <td>8</td>\n",
       "      <td>8</td>\n",
       "      <td>8</td>\n",
       "      <td>8</td>\n",
       "      <td>8</td>\n",
       "      <td>8</td>\n",
       "      <td>8</td>\n",
       "      <td>8</td>\n",
       "      <td>8</td>\n",
       "    </tr>\n",
       "    <tr>\n",
       "      <th>17</th>\n",
       "      <td>5</td>\n",
       "      <td>5</td>\n",
       "      <td>5</td>\n",
       "      <td>5</td>\n",
       "      <td>5</td>\n",
       "      <td>5</td>\n",
       "      <td>5</td>\n",
       "      <td>5</td>\n",
       "      <td>5</td>\n",
       "      <td>5</td>\n",
       "      <td>5</td>\n",
       "    </tr>\n",
       "  </tbody>\n",
       "</table>\n",
       "</div>"
      ],
      "text/plain": [
       "               participant_email  age_group  gender  education  ml_familiar  \\\n",
       "user_study_id                                                                 \n",
       "13                            44         44      44         44           44   \n",
       "14                            73         73      73         73           73   \n",
       "15                             8          8       8          8            8   \n",
       "16                             8          8       8          8            8   \n",
       "17                             5          5       5          5            5   \n",
       "\n",
       "               time_joined  time_finished  uuid  language  extra_data  source  \n",
       "user_study_id                                                                  \n",
       "13                      44             44    44        44          30      44  \n",
       "14                      73             73    73        73          73      73  \n",
       "15                       8              8     8         8           8       8  \n",
       "16                       8              8     8         8           8       8  \n",
       "17                       5              5     5         5           5       5  "
      ]
     },
     "execution_count": 310,
     "metadata": {},
     "output_type": "execute_result"
    }
   ],
   "source": [
    "df_completed_participation.groupby(\"user_study_id\").count()\n",
    "# study ID 14 equals prolific platform, others are various social channels of the study authors"
   ]
  },
  {
   "cell_type": "code",
   "execution_count": 311,
   "id": "25efb27b",
   "metadata": {},
   "outputs": [
    {
     "name": "stderr",
     "output_type": "stream",
     "text": [
      "C:\\Users\\lpesk\\AppData\\Roaming\\Python\\Python38\\site-packages\\pandas\\core\\generic.py:5516: SettingWithCopyWarning: \n",
      "A value is trying to be set on a copy of a slice from a DataFrame.\n",
      "Try using .loc[row_indexer,col_indexer] = value instead\n",
      "\n",
      "See the caveats in the documentation: https://pandas.pydata.org/pandas-docs/stable/user_guide/indexing.html#returning-a-view-versus-a-copy\n",
      "  self[name] = value\n",
      "<ipython-input-311-37a82753ff8d>:4: SettingWithCopyWarning: \n",
      "A value is trying to be set on a copy of a slice from a DataFrame.\n",
      "Try using .loc[row_indexer,col_indexer] = value instead\n",
      "\n",
      "See the caveats in the documentation: https://pandas.pydata.org/pandas-docs/stable/user_guide/indexing.html#returning-a-view-versus-a-copy\n",
      "  df_completed_participation[\"time_taken\"] = (df_completed_participation.time_finished - df_completed_participation.time_joined)\n"
     ]
    },
    {
     "data": {
      "text/plain": [
       "count                          138\n",
       "mean     0 days 00:17:34.987869500\n",
       "std      0 days 00:18:43.331376781\n",
       "min         0 days 00:04:38.463885\n",
       "25%      0 days 00:09:45.106613250\n",
       "50%      0 days 00:13:08.757193500\n",
       "75%         0 days 00:16:25.768684\n",
       "max         0 days 03:11:44.409032\n",
       "Name: time_taken, dtype: object"
      ]
     },
     "execution_count": 311,
     "metadata": {},
     "output_type": "execute_result"
    }
   ],
   "source": [
    "df_completed_participation.time_joined = pd.to_datetime(df_completed_participation.time_joined)\n",
    "df_completed_participation.time_finished = pd.to_datetime(df_completed_participation.time_finished)\n",
    "\n",
    "df_completed_participation[\"time_taken\"] = (df_completed_participation.time_finished - df_completed_participation.time_joined)\n",
    "df_completed_participation[\"time_taken\"] .describe()"
   ]
  },
  {
   "cell_type": "markdown",
   "id": "fcf2f759",
   "metadata": {},
   "source": [
    "- seems like even the shortest time to complete was long enough (also verified by the duration of individual steps)"
   ]
  },
  {
   "cell_type": "code",
   "execution_count": 312,
   "id": "32afb3e1",
   "metadata": {},
   "outputs": [],
   "source": [
    "df_completed_participation = df_completed_participation.drop(\"participant_email\", axis=1)\n",
    "df_completed_participation.to_csv(\"completed_participation.csv\")"
   ]
  },
  {
   "cell_type": "code",
   "execution_count": 313,
   "id": "d623518e",
   "metadata": {},
   "outputs": [
    {
     "data": {
      "text/html": [
       "<div>\n",
       "<style scoped>\n",
       "    .dataframe tbody tr th:only-of-type {\n",
       "        vertical-align: middle;\n",
       "    }\n",
       "\n",
       "    .dataframe tbody tr th {\n",
       "        vertical-align: top;\n",
       "    }\n",
       "\n",
       "    .dataframe thead th {\n",
       "        text-align: right;\n",
       "    }\n",
       "</style>\n",
       "<table border=\"1\" class=\"dataframe\">\n",
       "  <thead>\n",
       "    <tr style=\"text-align: right;\">\n",
       "      <th></th>\n",
       "      <th>age_group</th>\n",
       "      <th>gender</th>\n",
       "      <th>education</th>\n",
       "      <th>ml_familiar</th>\n",
       "      <th>user_study_id</th>\n",
       "      <th>time_joined</th>\n",
       "      <th>time_finished</th>\n",
       "      <th>uuid</th>\n",
       "      <th>language</th>\n",
       "      <th>extra_data</th>\n",
       "      <th>source</th>\n",
       "      <th>time_taken</th>\n",
       "    </tr>\n",
       "    <tr>\n",
       "      <th>id</th>\n",
       "      <th></th>\n",
       "      <th></th>\n",
       "      <th></th>\n",
       "      <th></th>\n",
       "      <th></th>\n",
       "      <th></th>\n",
       "      <th></th>\n",
       "      <th></th>\n",
       "      <th></th>\n",
       "      <th></th>\n",
       "      <th></th>\n",
       "      <th></th>\n",
       "    </tr>\n",
       "  </thead>\n",
       "  <tbody>\n",
       "    <tr>\n",
       "      <th>255</th>\n",
       "      <td>21.0</td>\n",
       "      <td>0.0</td>\n",
       "      <td>3.0</td>\n",
       "      <td>True</td>\n",
       "      <td>13</td>\n",
       "      <td>2023-01-31 09:01:24.865897</td>\n",
       "      <td>2023-01-31 09:44:19.368049</td>\n",
       "      <td>p9dIraC4pkVfqBIUKF8l6w</td>\n",
       "      <td>en</td>\n",
       "      <td>{}</td>\n",
       "      <td>organic</td>\n",
       "      <td>0 days 00:42:54.502152</td>\n",
       "    </tr>\n",
       "    <tr>\n",
       "      <th>257</th>\n",
       "      <td>21.0</td>\n",
       "      <td>0.0</td>\n",
       "      <td>5.0</td>\n",
       "      <td>True</td>\n",
       "      <td>13</td>\n",
       "      <td>2023-02-01 12:10:58.454443</td>\n",
       "      <td>2023-02-01 12:40:07.512894</td>\n",
       "      <td>Ki--H08-fYpLcwfBJsejZg</td>\n",
       "      <td>en</td>\n",
       "      <td>{}</td>\n",
       "      <td>organic</td>\n",
       "      <td>0 days 00:29:09.058451</td>\n",
       "    </tr>\n",
       "    <tr>\n",
       "      <th>258</th>\n",
       "      <td>21.0</td>\n",
       "      <td>1.0</td>\n",
       "      <td>2.0</td>\n",
       "      <td>True</td>\n",
       "      <td>16</td>\n",
       "      <td>2023-02-01 17:25:40.130557</td>\n",
       "      <td>2023-02-01 17:37:57.838756</td>\n",
       "      <td>cX6JGJsf1YadMPM2pLRpZQ</td>\n",
       "      <td>cs</td>\n",
       "      <td>{}</td>\n",
       "      <td>organic</td>\n",
       "      <td>0 days 00:12:17.708199</td>\n",
       "    </tr>\n",
       "    <tr>\n",
       "      <th>260</th>\n",
       "      <td>21.0</td>\n",
       "      <td>0.0</td>\n",
       "      <td>3.0</td>\n",
       "      <td>True</td>\n",
       "      <td>13</td>\n",
       "      <td>2023-02-05 03:17:24.130332</td>\n",
       "      <td>2023-02-05 03:44:28.323313</td>\n",
       "      <td>HTBSOe9r1Gs_thwoah3pYQ</td>\n",
       "      <td>en</td>\n",
       "      <td>{}</td>\n",
       "      <td>organic</td>\n",
       "      <td>0 days 00:27:04.192981</td>\n",
       "    </tr>\n",
       "    <tr>\n",
       "      <th>261</th>\n",
       "      <td>29.0</td>\n",
       "      <td>1.0</td>\n",
       "      <td>4.0</td>\n",
       "      <td>False</td>\n",
       "      <td>13</td>\n",
       "      <td>2023-02-05 18:32:02.852475</td>\n",
       "      <td>2023-02-05 18:47:31.919125</td>\n",
       "      <td>V_ndJ0N8u0x5V8Rk5fgF7g</td>\n",
       "      <td>cs</td>\n",
       "      <td>{}</td>\n",
       "      <td>organic</td>\n",
       "      <td>0 days 00:15:29.066650</td>\n",
       "    </tr>\n",
       "  </tbody>\n",
       "</table>\n",
       "</div>"
      ],
      "text/plain": [
       "     age_group  gender  education ml_familiar  user_study_id  \\\n",
       "id                                                             \n",
       "255       21.0     0.0        3.0        True             13   \n",
       "257       21.0     0.0        5.0        True             13   \n",
       "258       21.0     1.0        2.0        True             16   \n",
       "260       21.0     0.0        3.0        True             13   \n",
       "261       29.0     1.0        4.0       False             13   \n",
       "\n",
       "                   time_joined              time_finished  \\\n",
       "id                                                          \n",
       "255 2023-01-31 09:01:24.865897 2023-01-31 09:44:19.368049   \n",
       "257 2023-02-01 12:10:58.454443 2023-02-01 12:40:07.512894   \n",
       "258 2023-02-01 17:25:40.130557 2023-02-01 17:37:57.838756   \n",
       "260 2023-02-05 03:17:24.130332 2023-02-05 03:44:28.323313   \n",
       "261 2023-02-05 18:32:02.852475 2023-02-05 18:47:31.919125   \n",
       "\n",
       "                       uuid language extra_data   source  \\\n",
       "id                                                         \n",
       "255  p9dIraC4pkVfqBIUKF8l6w       en         {}  organic   \n",
       "257  Ki--H08-fYpLcwfBJsejZg       en         {}  organic   \n",
       "258  cX6JGJsf1YadMPM2pLRpZQ       cs         {}  organic   \n",
       "260  HTBSOe9r1Gs_thwoah3pYQ       en         {}  organic   \n",
       "261  V_ndJ0N8u0x5V8Rk5fgF7g       cs         {}  organic   \n",
       "\n",
       "                time_taken  \n",
       "id                          \n",
       "255 0 days 00:42:54.502152  \n",
       "257 0 days 00:29:09.058451  \n",
       "258 0 days 00:12:17.708199  \n",
       "260 0 days 00:27:04.192981  \n",
       "261 0 days 00:15:29.066650  "
      ]
     },
     "execution_count": 313,
     "metadata": {},
     "output_type": "execute_result"
    }
   ],
   "source": [
    "df_completed_participation.tail()"
   ]
  },
  {
   "cell_type": "code",
   "execution_count": 314,
   "id": "9441b820",
   "metadata": {},
   "outputs": [
    {
     "data": {
      "text/html": [
       "<div>\n",
       "<style scoped>\n",
       "    .dataframe tbody tr th:only-of-type {\n",
       "        vertical-align: middle;\n",
       "    }\n",
       "\n",
       "    .dataframe tbody tr th {\n",
       "        vertical-align: top;\n",
       "    }\n",
       "\n",
       "    .dataframe thead th {\n",
       "        text-align: right;\n",
       "    }\n",
       "</style>\n",
       "<table border=\"1\" class=\"dataframe\">\n",
       "  <thead>\n",
       "    <tr style=\"text-align: right;\">\n",
       "      <th></th>\n",
       "      <th>time_taken</th>\n",
       "    </tr>\n",
       "    <tr>\n",
       "      <th>source</th>\n",
       "      <th></th>\n",
       "    </tr>\n",
       "  </thead>\n",
       "  <tbody>\n",
       "    <tr>\n",
       "      <th>organic</th>\n",
       "      <td>0 days 00:13:51.776985</td>\n",
       "    </tr>\n",
       "    <tr>\n",
       "      <th>proliferic</th>\n",
       "      <td>0 days 00:12:40.200996</td>\n",
       "    </tr>\n",
       "  </tbody>\n",
       "</table>\n",
       "</div>"
      ],
      "text/plain": [
       "                       time_taken\n",
       "source                           \n",
       "organic    0 days 00:13:51.776985\n",
       "proliferic 0 days 00:12:40.200996"
      ]
     },
     "execution_count": 314,
     "metadata": {},
     "output_type": "execute_result"
    }
   ],
   "source": [
    "df_completed_participation.groupby(\"source\")[[\"time_taken\"]].quantile(0.5)"
   ]
  },
  {
   "cell_type": "markdown",
   "id": "8d4c9c08",
   "metadata": {},
   "source": [
    "# Load Interactions"
   ]
  },
  {
   "cell_type": "code",
   "execution_count": 315,
   "id": "d398d009",
   "metadata": {},
   "outputs": [],
   "source": [
    "def get_participants_interaction(df_i, df_p):\n",
    "    return df_i[df_i.participation.isin(df_p.index)]"
   ]
  },
  {
   "cell_type": "code",
   "execution_count": 316,
   "id": "4e578d88",
   "metadata": {
    "scrolled": true
   },
   "outputs": [],
   "source": [
    "df_interaction = pd.read_json(\"interaction-export.json\", encoding='utf-8')\n",
    "# Only get interactions of completing, non-dummy-data participants\n",
    "df_interaction = get_participants_interaction(df_interaction, df_completed_participation)"
   ]
  },
  {
   "cell_type": "code",
   "execution_count": 317,
   "id": "5aa35d09",
   "metadata": {
    "scrolled": true
   },
   "outputs": [
    {
     "data": {
      "text/html": [
       "<div>\n",
       "<style scoped>\n",
       "    .dataframe tbody tr th:only-of-type {\n",
       "        vertical-align: middle;\n",
       "    }\n",
       "\n",
       "    .dataframe tbody tr th {\n",
       "        vertical-align: top;\n",
       "    }\n",
       "\n",
       "    .dataframe thead th {\n",
       "        text-align: right;\n",
       "    }\n",
       "</style>\n",
       "<table border=\"1\" class=\"dataframe\">\n",
       "  <thead>\n",
       "    <tr style=\"text-align: right;\">\n",
       "      <th></th>\n",
       "      <th>id</th>\n",
       "      <th>participation</th>\n",
       "      <th>interaction_type</th>\n",
       "      <th>time</th>\n",
       "      <th>data</th>\n",
       "    </tr>\n",
       "  </thead>\n",
       "  <tbody>\n",
       "    <tr>\n",
       "      <th>47296</th>\n",
       "      <td>47797</td>\n",
       "      <td>261</td>\n",
       "      <td>iteration-ended</td>\n",
       "      <td>2023-02-05 18:47:31.911054</td>\n",
       "      <td>{\"iteration\": 8, \"selected\": [[1231, 1184, 792...</td>\n",
       "    </tr>\n",
       "    <tr>\n",
       "      <th>47297</th>\n",
       "      <td>47798</td>\n",
       "      <td>261</td>\n",
       "      <td>study-ended</td>\n",
       "      <td>2023-02-05 18:47:31.915892</td>\n",
       "      <td>{\"iteration\": 8}</td>\n",
       "    </tr>\n",
       "    <tr>\n",
       "      <th>47298</th>\n",
       "      <td>47799</td>\n",
       "      <td>261</td>\n",
       "      <td>on-input</td>\n",
       "      <td>2023-02-05 18:47:31.930910</td>\n",
       "      <td>{\"id\": \"\", \"text\": \"Ukončit průzkum\", \"name\": ...</td>\n",
       "    </tr>\n",
       "    <tr>\n",
       "      <th>47299</th>\n",
       "      <td>47800</td>\n",
       "      <td>261</td>\n",
       "      <td>loaded-page</td>\n",
       "      <td>2023-02-05 18:47:41.270902</td>\n",
       "      <td>{\"page\": \"finished_user_study\", \"context\": {\"u...</td>\n",
       "    </tr>\n",
       "    <tr>\n",
       "      <th>47300</th>\n",
       "      <td>47801</td>\n",
       "      <td>261</td>\n",
       "      <td>changed-viewport</td>\n",
       "      <td>2023-02-05 18:47:41.289014</td>\n",
       "      <td>{\"viewport\": {\"left\": 0, \"top\": 0, \"width\": 12...</td>\n",
       "    </tr>\n",
       "  </tbody>\n",
       "</table>\n",
       "</div>"
      ],
      "text/plain": [
       "          id  participation  interaction_type                        time  \\\n",
       "47296  47797            261   iteration-ended  2023-02-05 18:47:31.911054   \n",
       "47297  47798            261       study-ended  2023-02-05 18:47:31.915892   \n",
       "47298  47799            261          on-input  2023-02-05 18:47:31.930910   \n",
       "47299  47800            261       loaded-page  2023-02-05 18:47:41.270902   \n",
       "47300  47801            261  changed-viewport  2023-02-05 18:47:41.289014   \n",
       "\n",
       "                                                    data  \n",
       "47296  {\"iteration\": 8, \"selected\": [[1231, 1184, 792...  \n",
       "47297                                   {\"iteration\": 8}  \n",
       "47298  {\"id\": \"\", \"text\": \"Ukončit průzkum\", \"name\": ...  \n",
       "47299  {\"page\": \"finished_user_study\", \"context\": {\"u...  \n",
       "47300  {\"viewport\": {\"left\": 0, \"top\": 0, \"width\": 12...  "
      ]
     },
     "execution_count": 317,
     "metadata": {},
     "output_type": "execute_result"
    }
   ],
   "source": [
    "df_interaction.tail()"
   ]
  },
  {
   "cell_type": "code",
   "execution_count": 318,
   "id": "db753bfa",
   "metadata": {},
   "outputs": [],
   "source": [
    "N_ITERATIONS = 8\n",
    "def get_iteration(x):\n",
    "    return json.loads(x)[\"iteration\"]"
   ]
  },
  {
   "cell_type": "code",
   "execution_count": 319,
   "id": "479b8f7d",
   "metadata": {},
   "outputs": [],
   "source": [
    "import json\n",
    "def set_iteration(row):\n",
    "    if row.interaction_type == \"iteration-started\" or row.interaction_type == \"iteration-ended\":\n",
    "        row['iteration'] = json.loads(row.data)['iteration']\n",
    "    else:\n",
    "        row['iteration'] = None\n",
    "    return row\n",
    "\n",
    "def set_result_layout(row):\n",
    "    if row.interaction_type == \"iteration-started\":\n",
    "        row['result_layout'] = json.loads(row.data)['result_layout']\n",
    "    else:\n",
    "        row['result_layout'] = None\n",
    "    return row\n",
    "\n",
    "#'algorithm_assignment': {'0': {'algorithm': 'relevance_based',\n",
    "#   'name': 'gamma',\n",
    "#   'order': 1},\n",
    "#  '1': {'algorithm': 'weighted_average', 'name': 'delta', 'order': 0}},\n",
    "\n",
    "def set_mapping(row):\n",
    "    if row.interaction_type == 'iteration-started':\n",
    "        dat = json.loads(row.data)['algorithm_assignment'].values()\n",
    "        for mapping in dat:\n",
    "            row[mapping['name'].upper()] = mapping['order']\n",
    "    else:\n",
    "        row['GAMMA'] = None\n",
    "        row['DELTA'] = None\n",
    "    return row\n",
    "\n",
    "\n",
    "\n",
    "\n",
    "d = df_interaction.copy()\n",
    "d = d.set_index(\"id\")\n",
    "d = d.apply(set_iteration, axis=1).apply(set_result_layout, axis=1).apply(set_mapping, axis=1)\n",
    "d['iteration'] = d.groupby(['participation'], sort=False)['iteration'].apply(lambda x: x.ffill())\n",
    "d['result_layout'] = d.groupby(['participation'], sort=False)['result_layout'].apply(lambda x: x.ffill())\n",
    "d['GAMMA'] = d.groupby(['participation'], sort=False)['GAMMA'].apply(lambda x: x.ffill())\n",
    "d['DELTA'] = d.groupby(['participation'], sort=False)['DELTA'].apply(lambda x: x.ffill())\n",
    "d = d[d.iteration.notna()]"
   ]
  },
  {
   "cell_type": "markdown",
   "id": "36a65521",
   "metadata": {},
   "source": [
    "# Statistics on preference elicitation phase"
   ]
  },
  {
   "cell_type": "code",
   "execution_count": 320,
   "id": "d284874b",
   "metadata": {},
   "outputs": [],
   "source": [
    "d_phase_two = df_interaction.copy()\n",
    "d_phase_two = d_phase_two.set_index(\"id\")\n",
    "d_phase_two = d_phase_two.apply(set_iteration, axis=1)\n",
    "d_phase_two['iteration'] = d_phase_two.groupby(['participation'], sort=False)['iteration'].apply(lambda x: x.ffill())"
   ]
  },
  {
   "cell_type": "code",
   "execution_count": 321,
   "id": "5d772b4b",
   "metadata": {},
   "outputs": [],
   "source": [
    "d_phase_two = d_phase_two.fillna(-1)"
   ]
  },
  {
   "cell_type": "code",
   "execution_count": 322,
   "id": "19a7b8aa",
   "metadata": {},
   "outputs": [
    {
     "data": {
      "text/plain": [
       "(2311, 5)"
      ]
     },
     "execution_count": 322,
     "metadata": {},
     "output_type": "execute_result"
    }
   ],
   "source": [
    "d_phase_two = d_phase_two.loc[((d_phase_two.iteration == -1) & (d_phase_two.interaction_type==\"selected-item\"))]\n",
    "d_phase_two.shape"
   ]
  },
  {
   "cell_type": "code",
   "execution_count": 323,
   "id": "a8fd9fb4",
   "metadata": {},
   "outputs": [
    {
     "data": {
      "text/html": [
       "<div>\n",
       "<style scoped>\n",
       "    .dataframe tbody tr th:only-of-type {\n",
       "        vertical-align: middle;\n",
       "    }\n",
       "\n",
       "    .dataframe tbody tr th {\n",
       "        vertical-align: top;\n",
       "    }\n",
       "\n",
       "    .dataframe thead th {\n",
       "        text-align: right;\n",
       "    }\n",
       "</style>\n",
       "<table border=\"1\" class=\"dataframe\">\n",
       "  <thead>\n",
       "    <tr style=\"text-align: right;\">\n",
       "      <th></th>\n",
       "      <th>source</th>\n",
       "      <th>time_taken</th>\n",
       "      <th>interaction_type</th>\n",
       "      <th>time</th>\n",
       "      <th>data</th>\n",
       "      <th>iteration</th>\n",
       "    </tr>\n",
       "  </thead>\n",
       "  <tbody>\n",
       "    <tr>\n",
       "      <th>36</th>\n",
       "      <td>organic</td>\n",
       "      <td>0 days 00:06:55.974455</td>\n",
       "      <td>selected-item</td>\n",
       "      <td>2023-01-15 23:13:32.643579</td>\n",
       "      <td>{\"selected_item\": {\"movieName\": \"Harry Potter ...</td>\n",
       "      <td>-1.0</td>\n",
       "    </tr>\n",
       "    <tr>\n",
       "      <th>36</th>\n",
       "      <td>organic</td>\n",
       "      <td>0 days 00:06:55.974455</td>\n",
       "      <td>selected-item</td>\n",
       "      <td>2023-01-15 23:13:33.090109</td>\n",
       "      <td>{\"selected_item\": {\"movieName\": \"Harry Potter ...</td>\n",
       "      <td>-1.0</td>\n",
       "    </tr>\n",
       "    <tr>\n",
       "      <th>36</th>\n",
       "      <td>organic</td>\n",
       "      <td>0 days 00:06:55.974455</td>\n",
       "      <td>selected-item</td>\n",
       "      <td>2023-01-15 23:13:33.626484</td>\n",
       "      <td>{\"selected_item\": {\"movieName\": \"Harry Potter ...</td>\n",
       "      <td>-1.0</td>\n",
       "    </tr>\n",
       "    <tr>\n",
       "      <th>36</th>\n",
       "      <td>organic</td>\n",
       "      <td>0 days 00:06:55.974455</td>\n",
       "      <td>selected-item</td>\n",
       "      <td>2023-01-15 23:13:33.962249</td>\n",
       "      <td>{\"selected_item\": {\"movieName\": \"Harry Potter ...</td>\n",
       "      <td>-1.0</td>\n",
       "    </tr>\n",
       "    <tr>\n",
       "      <th>36</th>\n",
       "      <td>organic</td>\n",
       "      <td>0 days 00:06:55.974455</td>\n",
       "      <td>selected-item</td>\n",
       "      <td>2023-01-15 23:13:34.461530</td>\n",
       "      <td>{\"selected_item\": {\"movieName\": \"Harry Potter ...</td>\n",
       "      <td>-1.0</td>\n",
       "    </tr>\n",
       "    <tr>\n",
       "      <th>...</th>\n",
       "      <td>...</td>\n",
       "      <td>...</td>\n",
       "      <td>...</td>\n",
       "      <td>...</td>\n",
       "      <td>...</td>\n",
       "      <td>...</td>\n",
       "    </tr>\n",
       "    <tr>\n",
       "      <th>261</th>\n",
       "      <td>organic</td>\n",
       "      <td>0 days 00:15:29.066650</td>\n",
       "      <td>selected-item</td>\n",
       "      <td>2023-02-05 18:33:09.417582</td>\n",
       "      <td>{\"selected_item\": {\"movieName\": \"Blue Planet I...</td>\n",
       "      <td>-1.0</td>\n",
       "    </tr>\n",
       "    <tr>\n",
       "      <th>261</th>\n",
       "      <td>organic</td>\n",
       "      <td>0 days 00:15:29.066650</td>\n",
       "      <td>selected-item</td>\n",
       "      <td>2023-02-05 18:33:17.712428</td>\n",
       "      <td>{\"selected_item\": {\"movieName\": \"Piráti z Kari...</td>\n",
       "      <td>-1.0</td>\n",
       "    </tr>\n",
       "    <tr>\n",
       "      <th>261</th>\n",
       "      <td>organic</td>\n",
       "      <td>0 days 00:15:29.066650</td>\n",
       "      <td>selected-item</td>\n",
       "      <td>2023-02-05 18:33:19.965488</td>\n",
       "      <td>{\"selected_item\": {\"movieName\": \"Chlapec v pru...</td>\n",
       "      <td>-1.0</td>\n",
       "    </tr>\n",
       "    <tr>\n",
       "      <th>261</th>\n",
       "      <td>organic</td>\n",
       "      <td>0 days 00:15:29.066650</td>\n",
       "      <td>selected-item</td>\n",
       "      <td>2023-02-05 18:33:21.284391</td>\n",
       "      <td>{\"selected_item\": {\"movieName\": \"Iron Man (200...</td>\n",
       "      <td>-1.0</td>\n",
       "    </tr>\n",
       "    <tr>\n",
       "      <th>261</th>\n",
       "      <td>organic</td>\n",
       "      <td>0 days 00:15:29.066650</td>\n",
       "      <td>selected-item</td>\n",
       "      <td>2023-02-05 18:33:26.659979</td>\n",
       "      <td>{\"selected_item\": {\"movieName\": \"Hobit: Bitva ...</td>\n",
       "      <td>-1.0</td>\n",
       "    </tr>\n",
       "  </tbody>\n",
       "</table>\n",
       "<p>2313 rows × 6 columns</p>\n",
       "</div>"
      ],
      "text/plain": [
       "      source             time_taken interaction_type  \\\n",
       "36   organic 0 days 00:06:55.974455    selected-item   \n",
       "36   organic 0 days 00:06:55.974455    selected-item   \n",
       "36   organic 0 days 00:06:55.974455    selected-item   \n",
       "36   organic 0 days 00:06:55.974455    selected-item   \n",
       "36   organic 0 days 00:06:55.974455    selected-item   \n",
       "..       ...                    ...              ...   \n",
       "261  organic 0 days 00:15:29.066650    selected-item   \n",
       "261  organic 0 days 00:15:29.066650    selected-item   \n",
       "261  organic 0 days 00:15:29.066650    selected-item   \n",
       "261  organic 0 days 00:15:29.066650    selected-item   \n",
       "261  organic 0 days 00:15:29.066650    selected-item   \n",
       "\n",
       "                           time  \\\n",
       "36   2023-01-15 23:13:32.643579   \n",
       "36   2023-01-15 23:13:33.090109   \n",
       "36   2023-01-15 23:13:33.626484   \n",
       "36   2023-01-15 23:13:33.962249   \n",
       "36   2023-01-15 23:13:34.461530   \n",
       "..                          ...   \n",
       "261  2023-02-05 18:33:09.417582   \n",
       "261  2023-02-05 18:33:17.712428   \n",
       "261  2023-02-05 18:33:19.965488   \n",
       "261  2023-02-05 18:33:21.284391   \n",
       "261  2023-02-05 18:33:26.659979   \n",
       "\n",
       "                                                  data  iteration  \n",
       "36   {\"selected_item\": {\"movieName\": \"Harry Potter ...       -1.0  \n",
       "36   {\"selected_item\": {\"movieName\": \"Harry Potter ...       -1.0  \n",
       "36   {\"selected_item\": {\"movieName\": \"Harry Potter ...       -1.0  \n",
       "36   {\"selected_item\": {\"movieName\": \"Harry Potter ...       -1.0  \n",
       "36   {\"selected_item\": {\"movieName\": \"Harry Potter ...       -1.0  \n",
       "..                                                 ...        ...  \n",
       "261  {\"selected_item\": {\"movieName\": \"Blue Planet I...       -1.0  \n",
       "261  {\"selected_item\": {\"movieName\": \"Piráti z Kari...       -1.0  \n",
       "261  {\"selected_item\": {\"movieName\": \"Chlapec v pru...       -1.0  \n",
       "261  {\"selected_item\": {\"movieName\": \"Iron Man (200...       -1.0  \n",
       "261  {\"selected_item\": {\"movieName\": \"Hobit: Bitva ...       -1.0  \n",
       "\n",
       "[2313 rows x 6 columns]"
      ]
     },
     "execution_count": 323,
     "metadata": {},
     "output_type": "execute_result"
    }
   ],
   "source": [
    "d_phase_two = df_completed_participation[[\"source\",\"time_taken\"]].join(d_phase_two.set_index(\"participation\"))\n",
    "d_phase_two"
   ]
  },
  {
   "cell_type": "code",
   "execution_count": 324,
   "id": "1905a597",
   "metadata": {},
   "outputs": [],
   "source": [
    "countPreferenceElicitationSelected = d_phase_two.reset_index().groupby([\"index\",\"source\"])[[\"data\"]].count()\n",
    "countPreferenceElicitationSelected = countPreferenceElicitationSelected.reset_index()"
   ]
  },
  {
   "cell_type": "code",
   "execution_count": 325,
   "id": "4c84f2e8",
   "metadata": {},
   "outputs": [
    {
     "data": {
      "text/plain": [
       "count     65.000000\n",
       "mean      20.138462\n",
       "std       29.253673\n",
       "min        0.000000\n",
       "25%        9.000000\n",
       "50%       13.000000\n",
       "75%       19.000000\n",
       "max      222.000000\n",
       "Name: data, dtype: float64"
      ]
     },
     "execution_count": 325,
     "metadata": {},
     "output_type": "execute_result"
    }
   ],
   "source": [
    "countPreferenceElicitationSelected.loc[countPreferenceElicitationSelected.source==\"organic\",\"data\"].describe()"
   ]
  },
  {
   "cell_type": "code",
   "execution_count": 326,
   "id": "e2bbbb34",
   "metadata": {},
   "outputs": [
    {
     "data": {
      "text/plain": [
       "count    73.000000\n",
       "mean     13.726027\n",
       "std      11.099625\n",
       "min       0.000000\n",
       "25%       8.000000\n",
       "50%      10.000000\n",
       "75%      14.000000\n",
       "max      52.000000\n",
       "Name: data, dtype: float64"
      ]
     },
     "execution_count": 326,
     "metadata": {},
     "output_type": "execute_result"
    }
   ],
   "source": [
    "countPreferenceElicitationSelected.loc[countPreferenceElicitationSelected.source==\"proliferic\",\"data\"].describe()"
   ]
  },
  {
   "cell_type": "markdown",
   "id": "353aa531",
   "metadata": {},
   "source": [
    "## Screen resolutions"
   ]
  },
  {
   "cell_type": "code",
   "execution_count": 327,
   "id": "a024f109",
   "metadata": {},
   "outputs": [],
   "source": [
    "import json"
   ]
  },
  {
   "cell_type": "code",
   "execution_count": 328,
   "id": "88cd0891",
   "metadata": {},
   "outputs": [],
   "source": [
    "# Returns interactions of given type\n",
    "def get_interactions(df, int_type):\n",
    "    return df[df[\"interaction_type\"] == int_type]"
   ]
  },
  {
   "cell_type": "code",
   "execution_count": 329,
   "id": "9d222129",
   "metadata": {},
   "outputs": [],
   "source": [
    "# Get first changed-viewport event to be able to read resolution\n",
    "df = get_interactions(df_interaction, \"changed-viewport\").groupby([\"participation\"]).first()\n",
    "\n",
    "def get_resolution(x):\n",
    "    d = json.loads(x)[\"screen_sizes\"]\n",
    "    return d[\"window.screen.width\"], d[\"window.screen.height\"]\n",
    "\n",
    "df[\"resolution\"] = df.data.map(get_resolution)"
   ]
  },
  {
   "cell_type": "code",
   "execution_count": 330,
   "id": "fa89375f",
   "metadata": {},
   "outputs": [
    {
     "data": {
      "text/plain": [
       "resolution\n",
       "(1280, 720)      6\n",
       "(1281, 721)      1\n",
       "(1352, 878)      1\n",
       "(1366, 768)     19\n",
       "(1368, 912)      1\n",
       "(1440, 900)     12\n",
       "(1536, 864)     31\n",
       "(1536, 960)      1\n",
       "(1680, 1050)     2\n",
       "(1707, 960)      1\n",
       "(1728, 1117)     1\n",
       "(1920, 1080)    46\n",
       "(1920, 1200)     3\n",
       "(2048, 1153)     1\n",
       "(2275, 1280)     1\n",
       "(2560, 1440)    10\n",
       "(3840, 2160)     1\n",
       "Name: resolution, dtype: int64"
      ]
     },
     "execution_count": 330,
     "metadata": {},
     "output_type": "execute_result"
    }
   ],
   "source": [
    "df.groupby([\"resolution\"])[\"resolution\"].count()"
   ]
  },
  {
   "cell_type": "markdown",
   "id": "8afab6a3",
   "metadata": {},
   "source": [
    "# Participants to remove\n",
    "- no selections in preference ellicitation\n",
    "- time below 4:20 (i.e., 1/3 of median value)"
   ]
  },
  {
   "cell_type": "code",
   "execution_count": 331,
   "id": "08dc0d34",
   "metadata": {},
   "outputs": [
    {
     "data": {
      "text/plain": [
       "[109, 248]"
      ]
     },
     "execution_count": 331,
     "metadata": {},
     "output_type": "execute_result"
    }
   ],
   "source": [
    "participants_to_remove = countPreferenceElicitationSelected.loc[countPreferenceElicitationSelected.data <=0,\"index\"].tolist()\n",
    "participants_to_remove"
   ]
  },
  {
   "cell_type": "code",
   "execution_count": 332,
   "id": "01508ae6",
   "metadata": {},
   "outputs": [
    {
     "name": "stdout",
     "output_type": "stream",
     "text": [
      "(30305, 8) (138, 12) (2313, 6)\n",
      "(29925, 8) (136, 12) (2311, 6)\n"
     ]
    }
   ],
   "source": [
    "print(d.shape, df_completed_participation.shape, d_phase_two.shape)\n",
    "d = d.loc[~d.participation.isin(participants_to_remove)]\n",
    "df_completed_participation = df_completed_participation.loc[~df_completed_participation.index.isin(participants_to_remove)]\n",
    "d_phase_two = d_phase_two.loc[~d_phase_two.index.isin(participants_to_remove)]\n",
    "print(d.shape, df_completed_participation.shape, d_phase_two.shape)"
   ]
  },
  {
   "cell_type": "code",
   "execution_count": 333,
   "id": "235b3d98",
   "metadata": {},
   "outputs": [
    {
     "name": "stdout",
     "output_type": "stream",
     "text": [
      "(29925, 9)\n",
      "(29884, 9)\n"
     ]
    }
   ],
   "source": [
    "d[\"variant\"] = -1\n",
    "print(d.shape)\n",
    "d.loc[d[\"interaction_type\"] == \"selected-item\", \"variant\"] = d[d[\"interaction_type\"] == \"selected-item\"].data.map(lambda x: json.loads(x)[\"selected_item\"]).map(lambda x: x.get(\"variant\", -1))\n",
    "d = d.loc[d.iteration <= 8] \n",
    "print(d.shape)"
   ]
  },
  {
   "cell_type": "markdown",
   "id": "e66e1187",
   "metadata": {},
   "source": [
    "### Usage stats"
   ]
  },
  {
   "cell_type": "code",
   "execution_count": 334,
   "id": "6b402cc3",
   "metadata": {},
   "outputs": [
    {
     "data": {
      "text/plain": [
       "Ttest_indResult(statistic=2.4354076741427844, pvalue=0.01618966123144717)"
      ]
     },
     "execution_count": 334,
     "metadata": {},
     "output_type": "execute_result"
    }
   ],
   "source": [
    "from scipy.stats import ttest_ind\n",
    "ttest_ind(df_completed_participation.loc[df_completed_participation.source==\"organic\",\"time_taken\"].dt.total_seconds(),\n",
    "          df_completed_participation.loc[df_completed_participation.source==\"proliferic\",\"time_taken\"].dt.total_seconds())"
   ]
  },
  {
   "cell_type": "code",
   "execution_count": 335,
   "id": "b6982c14",
   "metadata": {},
   "outputs": [
    {
     "name": "stdout",
     "output_type": "stream",
     "text": [
      "0 days 00:13:37.088258500 0 days 00:12:35.709697500\n"
     ]
    }
   ],
   "source": [
    "print(df_completed_participation.loc[df_completed_participation.source==\"organic\",\"time_taken\"].median(),\n",
    "    df_completed_participation.loc[df_completed_participation.source==\"proliferic\",\"time_taken\"].median())"
   ]
  },
  {
   "cell_type": "code",
   "execution_count": 336,
   "id": "fc2e68ee",
   "metadata": {},
   "outputs": [
    {
     "name": "stdout",
     "output_type": "stream",
     "text": [
      "data    20.453125\n",
      "dtype: float64 data    13.916667\n",
      "dtype: float64\n"
     ]
    }
   ],
   "source": [
    "print(d_phase_two.loc[d_phase_two.source==\"organic\"].reset_index().groupby(\"index\")[[\"data\"]].count().mean(),\n",
    "    d_phase_two.loc[d_phase_two.source==\"proliferic\"].reset_index().groupby(\"index\")[[\"data\"]].count().mean())"
   ]
  },
  {
   "cell_type": "code",
   "execution_count": 337,
   "id": "ac919197",
   "metadata": {},
   "outputs": [
    {
     "data": {
      "text/plain": [
       "Ttest_indResult(statistic=1.7542143976810227, pvalue=0.08167980474691806)"
      ]
     },
     "execution_count": 337,
     "metadata": {},
     "output_type": "execute_result"
    }
   ],
   "source": [
    "ttest_ind(d_phase_two.loc[d_phase_two.source==\"organic\"].reset_index().groupby(\"index\")[\"data\"].count(),\n",
    "          d_phase_two.loc[d_phase_two.source==\"proliferic\"].reset_index().groupby(\"index\")[\"data\"].count())"
   ]
  },
  {
   "cell_type": "code",
   "execution_count": 338,
   "id": "4a87234f",
   "metadata": {},
   "outputs": [
    {
     "data": {
      "text/html": [
       "<div>\n",
       "<style scoped>\n",
       "    .dataframe tbody tr th:only-of-type {\n",
       "        vertical-align: middle;\n",
       "    }\n",
       "\n",
       "    .dataframe tbody tr th {\n",
       "        vertical-align: top;\n",
       "    }\n",
       "\n",
       "    .dataframe thead th {\n",
       "        text-align: right;\n",
       "    }\n",
       "</style>\n",
       "<table border=\"1\" class=\"dataframe\">\n",
       "  <thead>\n",
       "    <tr style=\"text-align: right;\">\n",
       "      <th></th>\n",
       "      <th>age_group</th>\n",
       "      <th>gender</th>\n",
       "      <th>education</th>\n",
       "      <th>ml_familiar</th>\n",
       "      <th>user_study_id</th>\n",
       "      <th>time_joined</th>\n",
       "      <th>time_finished</th>\n",
       "      <th>uuid</th>\n",
       "      <th>language</th>\n",
       "      <th>extra_data</th>\n",
       "      <th>time_taken</th>\n",
       "    </tr>\n",
       "    <tr>\n",
       "      <th>source</th>\n",
       "      <th></th>\n",
       "      <th></th>\n",
       "      <th></th>\n",
       "      <th></th>\n",
       "      <th></th>\n",
       "      <th></th>\n",
       "      <th></th>\n",
       "      <th></th>\n",
       "      <th></th>\n",
       "      <th></th>\n",
       "      <th></th>\n",
       "    </tr>\n",
       "  </thead>\n",
       "  <tbody>\n",
       "    <tr>\n",
       "      <th>organic</th>\n",
       "      <td>64</td>\n",
       "      <td>64</td>\n",
       "      <td>64</td>\n",
       "      <td>64</td>\n",
       "      <td>64</td>\n",
       "      <td>64</td>\n",
       "      <td>64</td>\n",
       "      <td>64</td>\n",
       "      <td>64</td>\n",
       "      <td>50</td>\n",
       "      <td>64</td>\n",
       "    </tr>\n",
       "    <tr>\n",
       "      <th>proliferic</th>\n",
       "      <td>72</td>\n",
       "      <td>72</td>\n",
       "      <td>72</td>\n",
       "      <td>72</td>\n",
       "      <td>72</td>\n",
       "      <td>72</td>\n",
       "      <td>72</td>\n",
       "      <td>72</td>\n",
       "      <td>72</td>\n",
       "      <td>72</td>\n",
       "      <td>72</td>\n",
       "    </tr>\n",
       "  </tbody>\n",
       "</table>\n",
       "</div>"
      ],
      "text/plain": [
       "            age_group  gender  education  ml_familiar  user_study_id  \\\n",
       "source                                                                 \n",
       "organic            64      64         64           64             64   \n",
       "proliferic         72      72         72           72             72   \n",
       "\n",
       "            time_joined  time_finished  uuid  language  extra_data  time_taken  \n",
       "source                                                                          \n",
       "organic              64             64    64        64          50          64  \n",
       "proliferic           72             72    72        72          72          72  "
      ]
     },
     "execution_count": 338,
     "metadata": {},
     "output_type": "execute_result"
    }
   ],
   "source": [
    "df_completed_participation.groupby(\"source\").count()"
   ]
  },
  {
   "cell_type": "markdown",
   "id": "ed60575c",
   "metadata": {},
   "source": [
    "### Number of all recorded interactions per layout"
   ]
  },
  {
   "cell_type": "code",
   "execution_count": 339,
   "id": "e0f4990f",
   "metadata": {},
   "outputs": [
    {
     "data": {
      "text/html": [
       "<div>\n",
       "<style scoped>\n",
       "    .dataframe tbody tr th:only-of-type {\n",
       "        vertical-align: middle;\n",
       "    }\n",
       "\n",
       "    .dataframe tbody tr th {\n",
       "        vertical-align: top;\n",
       "    }\n",
       "\n",
       "    .dataframe thead th {\n",
       "        text-align: right;\n",
       "    }\n",
       "</style>\n",
       "<table border=\"1\" class=\"dataframe\">\n",
       "  <thead>\n",
       "    <tr style=\"text-align: right;\">\n",
       "      <th></th>\n",
       "      <th>participation</th>\n",
       "      <th>interaction_type</th>\n",
       "      <th>time</th>\n",
       "      <th>data</th>\n",
       "      <th>iteration</th>\n",
       "      <th>result_layout</th>\n",
       "      <th>GAMMA</th>\n",
       "      <th>DELTA</th>\n",
       "      <th>variant</th>\n",
       "    </tr>\n",
       "    <tr>\n",
       "      <th>layout_high_level</th>\n",
       "      <th></th>\n",
       "      <th></th>\n",
       "      <th></th>\n",
       "      <th></th>\n",
       "      <th></th>\n",
       "      <th></th>\n",
       "      <th></th>\n",
       "      <th></th>\n",
       "      <th></th>\n",
       "    </tr>\n",
       "  </thead>\n",
       "  <tbody>\n",
       "    <tr>\n",
       "      <th>cols</th>\n",
       "      <td>17343</td>\n",
       "      <td>17343</td>\n",
       "      <td>17343</td>\n",
       "      <td>17343</td>\n",
       "      <td>17343</td>\n",
       "      <td>17343</td>\n",
       "      <td>17343</td>\n",
       "      <td>17343</td>\n",
       "      <td>17343</td>\n",
       "    </tr>\n",
       "    <tr>\n",
       "      <th>rows</th>\n",
       "      <td>12541</td>\n",
       "      <td>12541</td>\n",
       "      <td>12541</td>\n",
       "      <td>12541</td>\n",
       "      <td>12541</td>\n",
       "      <td>12541</td>\n",
       "      <td>12541</td>\n",
       "      <td>12541</td>\n",
       "      <td>12541</td>\n",
       "    </tr>\n",
       "  </tbody>\n",
       "</table>\n",
       "</div>"
      ],
      "text/plain": [
       "                   participation  interaction_type   time   data  iteration  \\\n",
       "layout_high_level                                                             \n",
       "cols                       17343             17343  17343  17343      17343   \n",
       "rows                       12541             12541  12541  12541      12541   \n",
       "\n",
       "                   result_layout  GAMMA  DELTA  variant  \n",
       "layout_high_level                                        \n",
       "cols                       17343  17343  17343    17343  \n",
       "rows                       12541  12541  12541    12541  "
      ]
     },
     "execution_count": 339,
     "metadata": {},
     "output_type": "execute_result"
    }
   ],
   "source": [
    "d[\"layout_high_level\"] = \"cols\"\n",
    "d.loc[d.result_layout == \"row-single-scrollable\",\"layout_high_level\"] = \"rows\"\n",
    "d.loc[d.result_layout == \"row-single\",\"layout_high_level\"] = \"rows\"\n",
    "d.loc[d.result_layout == \"rows\",\"layout_high_level\"] = \"rows\"\n",
    "d.groupby(\"layout_high_level\").count()"
   ]
  },
  {
   "cell_type": "code",
   "execution_count": 340,
   "id": "a2a1a2a2",
   "metadata": {},
   "outputs": [
    {
     "data": {
      "text/html": [
       "<div>\n",
       "<style scoped>\n",
       "    .dataframe tbody tr th:only-of-type {\n",
       "        vertical-align: middle;\n",
       "    }\n",
       "\n",
       "    .dataframe tbody tr th {\n",
       "        vertical-align: top;\n",
       "    }\n",
       "\n",
       "    .dataframe thead th {\n",
       "        text-align: right;\n",
       "    }\n",
       "</style>\n",
       "<table border=\"1\" class=\"dataframe\">\n",
       "  <thead>\n",
       "    <tr style=\"text-align: right;\">\n",
       "      <th></th>\n",
       "      <th>participation</th>\n",
       "      <th>interaction_type</th>\n",
       "      <th>time</th>\n",
       "      <th>data</th>\n",
       "      <th>iteration</th>\n",
       "      <th>GAMMA</th>\n",
       "      <th>DELTA</th>\n",
       "      <th>variant</th>\n",
       "      <th>layout_high_level</th>\n",
       "    </tr>\n",
       "    <tr>\n",
       "      <th>result_layout</th>\n",
       "      <th></th>\n",
       "      <th></th>\n",
       "      <th></th>\n",
       "      <th></th>\n",
       "      <th></th>\n",
       "      <th></th>\n",
       "      <th></th>\n",
       "      <th></th>\n",
       "      <th></th>\n",
       "    </tr>\n",
       "  </thead>\n",
       "  <tbody>\n",
       "    <tr>\n",
       "      <th>column-single</th>\n",
       "      <td>7197</td>\n",
       "      <td>7197</td>\n",
       "      <td>7197</td>\n",
       "      <td>7197</td>\n",
       "      <td>7197</td>\n",
       "      <td>7197</td>\n",
       "      <td>7197</td>\n",
       "      <td>7197</td>\n",
       "      <td>7197</td>\n",
       "    </tr>\n",
       "    <tr>\n",
       "      <th>columns</th>\n",
       "      <td>5539</td>\n",
       "      <td>5539</td>\n",
       "      <td>5539</td>\n",
       "      <td>5539</td>\n",
       "      <td>5539</td>\n",
       "      <td>5539</td>\n",
       "      <td>5539</td>\n",
       "      <td>5539</td>\n",
       "      <td>5539</td>\n",
       "    </tr>\n",
       "    <tr>\n",
       "      <th>max-columns</th>\n",
       "      <td>4607</td>\n",
       "      <td>4607</td>\n",
       "      <td>4607</td>\n",
       "      <td>4607</td>\n",
       "      <td>4607</td>\n",
       "      <td>4607</td>\n",
       "      <td>4607</td>\n",
       "      <td>4607</td>\n",
       "      <td>4607</td>\n",
       "    </tr>\n",
       "    <tr>\n",
       "      <th>row-single</th>\n",
       "      <td>3287</td>\n",
       "      <td>3287</td>\n",
       "      <td>3287</td>\n",
       "      <td>3287</td>\n",
       "      <td>3287</td>\n",
       "      <td>3287</td>\n",
       "      <td>3287</td>\n",
       "      <td>3287</td>\n",
       "      <td>3287</td>\n",
       "    </tr>\n",
       "    <tr>\n",
       "      <th>row-single-scrollable</th>\n",
       "      <td>4407</td>\n",
       "      <td>4407</td>\n",
       "      <td>4407</td>\n",
       "      <td>4407</td>\n",
       "      <td>4407</td>\n",
       "      <td>4407</td>\n",
       "      <td>4407</td>\n",
       "      <td>4407</td>\n",
       "      <td>4407</td>\n",
       "    </tr>\n",
       "    <tr>\n",
       "      <th>rows</th>\n",
       "      <td>4847</td>\n",
       "      <td>4847</td>\n",
       "      <td>4847</td>\n",
       "      <td>4847</td>\n",
       "      <td>4847</td>\n",
       "      <td>4847</td>\n",
       "      <td>4847</td>\n",
       "      <td>4847</td>\n",
       "      <td>4847</td>\n",
       "    </tr>\n",
       "  </tbody>\n",
       "</table>\n",
       "</div>"
      ],
      "text/plain": [
       "                       participation  interaction_type  time  data  iteration  \\\n",
       "result_layout                                                                   \n",
       "column-single                   7197              7197  7197  7197       7197   \n",
       "columns                         5539              5539  5539  5539       5539   \n",
       "max-columns                     4607              4607  4607  4607       4607   \n",
       "row-single                      3287              3287  3287  3287       3287   \n",
       "row-single-scrollable           4407              4407  4407  4407       4407   \n",
       "rows                            4847              4847  4847  4847       4847   \n",
       "\n",
       "                       GAMMA  DELTA  variant  layout_high_level  \n",
       "result_layout                                                    \n",
       "column-single           7197   7197     7197               7197  \n",
       "columns                 5539   5539     5539               5539  \n",
       "max-columns             4607   4607     4607               4607  \n",
       "row-single              3287   3287     3287               3287  \n",
       "row-single-scrollable   4407   4407     4407               4407  \n",
       "rows                    4847   4847     4847               4847  "
      ]
     },
     "execution_count": 340,
     "metadata": {},
     "output_type": "execute_result"
    }
   ],
   "source": [
    "d.groupby(\"result_layout\").count()"
   ]
  },
  {
   "cell_type": "markdown",
   "id": "e5ad9316",
   "metadata": {},
   "source": [
    "### Number of participants per result layout"
   ]
  },
  {
   "cell_type": "code",
   "execution_count": 341,
   "id": "2af03b40",
   "metadata": {},
   "outputs": [
    {
     "data": {
      "text/html": [
       "<div>\n",
       "<style scoped>\n",
       "    .dataframe tbody tr th:only-of-type {\n",
       "        vertical-align: middle;\n",
       "    }\n",
       "\n",
       "    .dataframe tbody tr th {\n",
       "        vertical-align: top;\n",
       "    }\n",
       "\n",
       "    .dataframe thead th {\n",
       "        text-align: right;\n",
       "    }\n",
       "</style>\n",
       "<table border=\"1\" class=\"dataframe\">\n",
       "  <thead>\n",
       "    <tr style=\"text-align: right;\">\n",
       "      <th></th>\n",
       "      <th>participation</th>\n",
       "      <th>interaction_type</th>\n",
       "      <th>time</th>\n",
       "      <th>data</th>\n",
       "      <th>iteration</th>\n",
       "      <th>result_layout</th>\n",
       "      <th>GAMMA</th>\n",
       "      <th>DELTA</th>\n",
       "      <th>variant</th>\n",
       "    </tr>\n",
       "    <tr>\n",
       "      <th>layout_high_level</th>\n",
       "      <th></th>\n",
       "      <th></th>\n",
       "      <th></th>\n",
       "      <th></th>\n",
       "      <th></th>\n",
       "      <th></th>\n",
       "      <th></th>\n",
       "      <th></th>\n",
       "      <th></th>\n",
       "    </tr>\n",
       "  </thead>\n",
       "  <tbody>\n",
       "    <tr>\n",
       "      <th>cols</th>\n",
       "      <td>291</td>\n",
       "      <td>291</td>\n",
       "      <td>291</td>\n",
       "      <td>291</td>\n",
       "      <td>291</td>\n",
       "      <td>291</td>\n",
       "      <td>291</td>\n",
       "      <td>291</td>\n",
       "      <td>291</td>\n",
       "    </tr>\n",
       "    <tr>\n",
       "      <th>rows</th>\n",
       "      <td>262</td>\n",
       "      <td>262</td>\n",
       "      <td>262</td>\n",
       "      <td>262</td>\n",
       "      <td>262</td>\n",
       "      <td>262</td>\n",
       "      <td>262</td>\n",
       "      <td>262</td>\n",
       "      <td>262</td>\n",
       "    </tr>\n",
       "  </tbody>\n",
       "</table>\n",
       "</div>"
      ],
      "text/plain": [
       "                   participation  interaction_type  time  data  iteration  \\\n",
       "layout_high_level                                                           \n",
       "cols                         291               291   291   291        291   \n",
       "rows                         262               262   262   262        262   \n",
       "\n",
       "                   result_layout  GAMMA  DELTA  variant  \n",
       "layout_high_level                                        \n",
       "cols                         291    291    291      291  \n",
       "rows                         262    262    262      262  "
      ]
     },
     "execution_count": 341,
     "metadata": {},
     "output_type": "execute_result"
    }
   ],
   "source": [
    "d[d.interaction_type == \"iteration-started\"].groupby([\"layout_high_level\"]).count() // 2 # Everyone is shown every layout twice (with different algorithm order)"
   ]
  },
  {
   "cell_type": "code",
   "execution_count": 342,
   "id": "dff5fd1c",
   "metadata": {
    "scrolled": true
   },
   "outputs": [
    {
     "data": {
      "text/html": [
       "<div>\n",
       "<style scoped>\n",
       "    .dataframe tbody tr th:only-of-type {\n",
       "        vertical-align: middle;\n",
       "    }\n",
       "\n",
       "    .dataframe tbody tr th {\n",
       "        vertical-align: top;\n",
       "    }\n",
       "\n",
       "    .dataframe thead th {\n",
       "        text-align: right;\n",
       "    }\n",
       "</style>\n",
       "<table border=\"1\" class=\"dataframe\">\n",
       "  <thead>\n",
       "    <tr style=\"text-align: right;\">\n",
       "      <th></th>\n",
       "      <th>participation</th>\n",
       "      <th>interaction_type</th>\n",
       "      <th>time</th>\n",
       "      <th>data</th>\n",
       "      <th>iteration</th>\n",
       "      <th>GAMMA</th>\n",
       "      <th>DELTA</th>\n",
       "      <th>variant</th>\n",
       "      <th>layout_high_level</th>\n",
       "    </tr>\n",
       "    <tr>\n",
       "      <th>result_layout</th>\n",
       "      <th></th>\n",
       "      <th></th>\n",
       "      <th></th>\n",
       "      <th></th>\n",
       "      <th></th>\n",
       "      <th></th>\n",
       "      <th></th>\n",
       "      <th></th>\n",
       "      <th></th>\n",
       "    </tr>\n",
       "  </thead>\n",
       "  <tbody>\n",
       "    <tr>\n",
       "      <th>column-single</th>\n",
       "      <td>103</td>\n",
       "      <td>103</td>\n",
       "      <td>103</td>\n",
       "      <td>103</td>\n",
       "      <td>103</td>\n",
       "      <td>103</td>\n",
       "      <td>103</td>\n",
       "      <td>103</td>\n",
       "      <td>103</td>\n",
       "    </tr>\n",
       "    <tr>\n",
       "      <th>columns</th>\n",
       "      <td>98</td>\n",
       "      <td>98</td>\n",
       "      <td>98</td>\n",
       "      <td>98</td>\n",
       "      <td>98</td>\n",
       "      <td>98</td>\n",
       "      <td>98</td>\n",
       "      <td>98</td>\n",
       "      <td>98</td>\n",
       "    </tr>\n",
       "    <tr>\n",
       "      <th>max-columns</th>\n",
       "      <td>90</td>\n",
       "      <td>90</td>\n",
       "      <td>90</td>\n",
       "      <td>90</td>\n",
       "      <td>90</td>\n",
       "      <td>90</td>\n",
       "      <td>90</td>\n",
       "      <td>90</td>\n",
       "      <td>90</td>\n",
       "    </tr>\n",
       "    <tr>\n",
       "      <th>row-single</th>\n",
       "      <td>89</td>\n",
       "      <td>89</td>\n",
       "      <td>89</td>\n",
       "      <td>89</td>\n",
       "      <td>89</td>\n",
       "      <td>89</td>\n",
       "      <td>89</td>\n",
       "      <td>89</td>\n",
       "      <td>89</td>\n",
       "    </tr>\n",
       "    <tr>\n",
       "      <th>row-single-scrollable</th>\n",
       "      <td>81</td>\n",
       "      <td>81</td>\n",
       "      <td>81</td>\n",
       "      <td>81</td>\n",
       "      <td>81</td>\n",
       "      <td>81</td>\n",
       "      <td>81</td>\n",
       "      <td>81</td>\n",
       "      <td>81</td>\n",
       "    </tr>\n",
       "    <tr>\n",
       "      <th>rows</th>\n",
       "      <td>92</td>\n",
       "      <td>92</td>\n",
       "      <td>92</td>\n",
       "      <td>92</td>\n",
       "      <td>92</td>\n",
       "      <td>92</td>\n",
       "      <td>92</td>\n",
       "      <td>92</td>\n",
       "      <td>92</td>\n",
       "    </tr>\n",
       "  </tbody>\n",
       "</table>\n",
       "</div>"
      ],
      "text/plain": [
       "                       participation  interaction_type  time  data  iteration  \\\n",
       "result_layout                                                                   \n",
       "column-single                    103               103   103   103        103   \n",
       "columns                           98                98    98    98         98   \n",
       "max-columns                       90                90    90    90         90   \n",
       "row-single                        89                89    89    89         89   \n",
       "row-single-scrollable             81                81    81    81         81   \n",
       "rows                              92                92    92    92         92   \n",
       "\n",
       "                       GAMMA  DELTA  variant  layout_high_level  \n",
       "result_layout                                                    \n",
       "column-single            103    103      103                103  \n",
       "columns                   98     98       98                 98  \n",
       "max-columns               90     90       90                 90  \n",
       "row-single                89     89       89                 89  \n",
       "row-single-scrollable     81     81       81                 81  \n",
       "rows                      92     92       92                 92  "
      ]
     },
     "execution_count": 342,
     "metadata": {},
     "output_type": "execute_result"
    }
   ],
   "source": [
    "d[d.interaction_type == \"iteration-started\"].groupby([\"result_layout\"]).count() // 2 # Everyone is shown every layout twice (with different algorithm order)"
   ]
  },
  {
   "cell_type": "markdown",
   "id": "016fb0b4",
   "metadata": {},
   "source": [
    "### Number of selected items per iteration"
   ]
  },
  {
   "cell_type": "code",
   "execution_count": 343,
   "id": "a5fba0cb",
   "metadata": {},
   "outputs": [
    {
     "data": {
      "text/plain": [
       "(6892, 10)"
      ]
     },
     "execution_count": 343,
     "metadata": {},
     "output_type": "execute_result"
    }
   ],
   "source": [
    "selected_item_interactions = d[d.variant >= 0]\n",
    "selected_item_interactions.shape"
   ]
  },
  {
   "cell_type": "code",
   "execution_count": 344,
   "id": "070bfa50",
   "metadata": {},
   "outputs": [
    {
     "name": "stderr",
     "output_type": "stream",
     "text": [
      "<ipython-input-344-5e14ab3e7244>:4: SettingWithCopyWarning: \n",
      "A value is trying to be set on a copy of a slice from a DataFrame.\n",
      "Try using .loc[row_indexer,col_indexer] = value instead\n",
      "\n",
      "See the caveats in the documentation: https://pandas.pydata.org/pandas-docs/stable/user_guide/indexing.html#returning-a-view-versus-a-copy\n",
      "  selected_item_interactions[\"movieID\"] = np.nan\n",
      "C:\\Users\\lpesk\\AppData\\Roaming\\Python\\Python38\\site-packages\\pandas\\core\\generic.py:5516: SettingWithCopyWarning: \n",
      "A value is trying to be set on a copy of a slice from a DataFrame.\n",
      "Try using .loc[row_indexer,col_indexer] = value instead\n",
      "\n",
      "See the caveats in the documentation: https://pandas.pydata.org/pandas-docs/stable/user_guide/indexing.html#returning-a-view-versus-a-copy\n",
      "  self[name] = value\n"
     ]
    }
   ],
   "source": [
    "def getSelectedMovieId(x):\n",
    "    return json.loads(x)[\"selected_item\"][\"movie_id\"]\n",
    "\n",
    "selected_item_interactions[\"movieID\"] = np.nan\n",
    "selected_item_interactions.movieID = selected_item_interactions.data.map(lambda x: getSelectedMovieId(x))"
   ]
  },
  {
   "cell_type": "code",
   "execution_count": 345,
   "id": "488d047c",
   "metadata": {},
   "outputs": [
    {
     "name": "stdout",
     "output_type": "stream",
     "text": [
      "(6784, 11)\n"
     ]
    }
   ],
   "source": [
    "selected_item_interactions = selected_item_interactions.drop_duplicates([\"participation\",\"iteration\",\"variant\",\"movieID\"], keep=\"last\")\n",
    "print(selected_item_interactions.shape)"
   ]
  },
  {
   "cell_type": "code",
   "execution_count": 346,
   "id": "299106e5",
   "metadata": {},
   "outputs": [
    {
     "data": {
      "text/html": [
       "<div>\n",
       "<style scoped>\n",
       "    .dataframe tbody tr th:only-of-type {\n",
       "        vertical-align: middle;\n",
       "    }\n",
       "\n",
       "    .dataframe tbody tr th {\n",
       "        vertical-align: top;\n",
       "    }\n",
       "\n",
       "    .dataframe thead th {\n",
       "        text-align: right;\n",
       "    }\n",
       "</style>\n",
       "<table border=\"1\" class=\"dataframe\">\n",
       "  <thead>\n",
       "    <tr style=\"text-align: right;\">\n",
       "      <th></th>\n",
       "      <th>id</th>\n",
       "      <th>participation</th>\n",
       "      <th>interaction_type</th>\n",
       "      <th>time</th>\n",
       "      <th>data</th>\n",
       "      <th>result_layout</th>\n",
       "      <th>GAMMA</th>\n",
       "      <th>DELTA</th>\n",
       "      <th>variant</th>\n",
       "      <th>layout_high_level</th>\n",
       "      <th>movieID</th>\n",
       "    </tr>\n",
       "    <tr>\n",
       "      <th>iteration</th>\n",
       "      <th></th>\n",
       "      <th></th>\n",
       "      <th></th>\n",
       "      <th></th>\n",
       "      <th></th>\n",
       "      <th></th>\n",
       "      <th></th>\n",
       "      <th></th>\n",
       "      <th></th>\n",
       "      <th></th>\n",
       "      <th></th>\n",
       "    </tr>\n",
       "  </thead>\n",
       "  <tbody>\n",
       "    <tr>\n",
       "      <th>1.0</th>\n",
       "      <td>882</td>\n",
       "      <td>882</td>\n",
       "      <td>882</td>\n",
       "      <td>882</td>\n",
       "      <td>882</td>\n",
       "      <td>882</td>\n",
       "      <td>882</td>\n",
       "      <td>882</td>\n",
       "      <td>882</td>\n",
       "      <td>882</td>\n",
       "      <td>882</td>\n",
       "    </tr>\n",
       "    <tr>\n",
       "      <th>2.0</th>\n",
       "      <td>892</td>\n",
       "      <td>892</td>\n",
       "      <td>892</td>\n",
       "      <td>892</td>\n",
       "      <td>892</td>\n",
       "      <td>892</td>\n",
       "      <td>892</td>\n",
       "      <td>892</td>\n",
       "      <td>892</td>\n",
       "      <td>892</td>\n",
       "      <td>892</td>\n",
       "    </tr>\n",
       "    <tr>\n",
       "      <th>3.0</th>\n",
       "      <td>846</td>\n",
       "      <td>846</td>\n",
       "      <td>846</td>\n",
       "      <td>846</td>\n",
       "      <td>846</td>\n",
       "      <td>846</td>\n",
       "      <td>846</td>\n",
       "      <td>846</td>\n",
       "      <td>846</td>\n",
       "      <td>846</td>\n",
       "      <td>846</td>\n",
       "    </tr>\n",
       "    <tr>\n",
       "      <th>4.0</th>\n",
       "      <td>831</td>\n",
       "      <td>831</td>\n",
       "      <td>831</td>\n",
       "      <td>831</td>\n",
       "      <td>831</td>\n",
       "      <td>831</td>\n",
       "      <td>831</td>\n",
       "      <td>831</td>\n",
       "      <td>831</td>\n",
       "      <td>831</td>\n",
       "      <td>831</td>\n",
       "    </tr>\n",
       "    <tr>\n",
       "      <th>5.0</th>\n",
       "      <td>837</td>\n",
       "      <td>837</td>\n",
       "      <td>837</td>\n",
       "      <td>837</td>\n",
       "      <td>837</td>\n",
       "      <td>837</td>\n",
       "      <td>837</td>\n",
       "      <td>837</td>\n",
       "      <td>837</td>\n",
       "      <td>837</td>\n",
       "      <td>837</td>\n",
       "    </tr>\n",
       "    <tr>\n",
       "      <th>6.0</th>\n",
       "      <td>813</td>\n",
       "      <td>813</td>\n",
       "      <td>813</td>\n",
       "      <td>813</td>\n",
       "      <td>813</td>\n",
       "      <td>813</td>\n",
       "      <td>813</td>\n",
       "      <td>813</td>\n",
       "      <td>813</td>\n",
       "      <td>813</td>\n",
       "      <td>813</td>\n",
       "    </tr>\n",
       "    <tr>\n",
       "      <th>7.0</th>\n",
       "      <td>843</td>\n",
       "      <td>843</td>\n",
       "      <td>843</td>\n",
       "      <td>843</td>\n",
       "      <td>843</td>\n",
       "      <td>843</td>\n",
       "      <td>843</td>\n",
       "      <td>843</td>\n",
       "      <td>843</td>\n",
       "      <td>843</td>\n",
       "      <td>843</td>\n",
       "    </tr>\n",
       "    <tr>\n",
       "      <th>8.0</th>\n",
       "      <td>840</td>\n",
       "      <td>840</td>\n",
       "      <td>840</td>\n",
       "      <td>840</td>\n",
       "      <td>840</td>\n",
       "      <td>840</td>\n",
       "      <td>840</td>\n",
       "      <td>840</td>\n",
       "      <td>840</td>\n",
       "      <td>840</td>\n",
       "      <td>840</td>\n",
       "    </tr>\n",
       "  </tbody>\n",
       "</table>\n",
       "</div>"
      ],
      "text/plain": [
       "            id  participation  interaction_type  time  data  result_layout  \\\n",
       "iteration                                                                    \n",
       "1.0        882            882               882   882   882            882   \n",
       "2.0        892            892               892   892   892            892   \n",
       "3.0        846            846               846   846   846            846   \n",
       "4.0        831            831               831   831   831            831   \n",
       "5.0        837            837               837   837   837            837   \n",
       "6.0        813            813               813   813   813            813   \n",
       "7.0        843            843               843   843   843            843   \n",
       "8.0        840            840               840   840   840            840   \n",
       "\n",
       "           GAMMA  DELTA  variant  layout_high_level  movieID  \n",
       "iteration                                                     \n",
       "1.0          882    882      882                882      882  \n",
       "2.0          892    892      892                892      892  \n",
       "3.0          846    846      846                846      846  \n",
       "4.0          831    831      831                831      831  \n",
       "5.0          837    837      837                837      837  \n",
       "6.0          813    813      813                813      813  \n",
       "7.0          843    843      843                843      843  \n",
       "8.0          840    840      840                840      840  "
      ]
     },
     "execution_count": 346,
     "metadata": {},
     "output_type": "execute_result"
    }
   ],
   "source": [
    "selected_item_interactions.reset_index().groupby(\"iteration\").count()"
   ]
  },
  {
   "cell_type": "markdown",
   "id": "3d72a619",
   "metadata": {},
   "source": [
    "### Volume of selected items per user"
   ]
  },
  {
   "cell_type": "code",
   "execution_count": 347,
   "id": "3288fdb6",
   "metadata": {},
   "outputs": [
    {
     "data": {
      "text/plain": [
       "<AxesSubplot:>"
      ]
     },
     "execution_count": 347,
     "metadata": {},
     "output_type": "execute_result"
    },
    {
     "data": {
      "image/png": "[encoded data removed]",
      "text/plain": [
       "<Figure size 432x288 with 1 Axes>"
      ]
     },
     "metadata": {
      "needs_background": "light"
     },
     "output_type": "display_data"
    }
   ],
   "source": [
    "selected_item_interactions.groupby(\"participation\").count()[\"variant\"].hist()"
   ]
  },
  {
   "cell_type": "markdown",
   "id": "f318abfc",
   "metadata": {},
   "source": [
    "### Volume of selected items per platform"
   ]
  },
  {
   "cell_type": "code",
   "execution_count": 348,
   "id": "3309e96a",
   "metadata": {},
   "outputs": [
    {
     "data": {
      "text/html": [
       "<div>\n",
       "<style scoped>\n",
       "    .dataframe tbody tr th:only-of-type {\n",
       "        vertical-align: middle;\n",
       "    }\n",
       "\n",
       "    .dataframe tbody tr th {\n",
       "        vertical-align: top;\n",
       "    }\n",
       "\n",
       "    .dataframe thead th {\n",
       "        text-align: right;\n",
       "    }\n",
       "</style>\n",
       "<table border=\"1\" class=\"dataframe\">\n",
       "  <thead>\n",
       "    <tr style=\"text-align: right;\">\n",
       "      <th></th>\n",
       "      <th>data</th>\n",
       "    </tr>\n",
       "    <tr>\n",
       "      <th>source</th>\n",
       "      <th></th>\n",
       "    </tr>\n",
       "  </thead>\n",
       "  <tbody>\n",
       "    <tr>\n",
       "      <th>organic</th>\n",
       "      <td>46.468750</td>\n",
       "    </tr>\n",
       "    <tr>\n",
       "      <th>proliferic</th>\n",
       "      <td>52.916667</td>\n",
       "    </tr>\n",
       "  </tbody>\n",
       "</table>\n",
       "</div>"
      ],
      "text/plain": [
       "                 data\n",
       "source               \n",
       "organic     46.468750\n",
       "proliferic  52.916667"
      ]
     },
     "execution_count": 348,
     "metadata": {},
     "output_type": "execute_result"
    }
   ],
   "source": [
    "dfSP = df_completed_participation[[\"source\",\"time_taken\"]].join(selected_item_interactions.set_index(\"participation\"))\n",
    "countPP = dfSP.reset_index().groupby([\"source\",\"index\"])[[\"data\"]].count().reset_index()\n",
    "countPP.groupby(\"source\")[[\"data\"]].mean()"
   ]
  },
  {
   "cell_type": "code",
   "execution_count": 349,
   "id": "f28f5b08",
   "metadata": {},
   "outputs": [
    {
     "data": {
      "text/plain": [
       "Ttest_indResult(statistic=-1.7895377588150694, pvalue=0.07578688255454193)"
      ]
     },
     "execution_count": 349,
     "metadata": {},
     "output_type": "execute_result"
    }
   ],
   "source": [
    "from scipy.stats import ttest_ind\n",
    "ttest_ind(countPP.loc[countPP.source==\"organic\",\"data\"],countPP.loc[countPP.source==\"proliferic\",\"data\"])"
   ]
  },
  {
   "cell_type": "markdown",
   "id": "9a61a124",
   "metadata": {},
   "source": [
    "- although prolific participants have less items (not stat. sign.) selected during pref. elicitation, they selected more (not stat. sign.) in the recs comparison"
   ]
  },
  {
   "cell_type": "markdown",
   "id": "88015abd",
   "metadata": {},
   "source": [
    "# Saving pre-processed data"
   ]
  },
  {
   "cell_type": "code",
   "execution_count": 351,
   "id": "ef9bc190",
   "metadata": {},
   "outputs": [],
   "source": [
    "import pickle\n",
    "\n",
    "outfile = open(\"interaction_data.pkl\",'wb')\n",
    "pickle.dump(d,outfile)\n",
    "outfile.close()\n",
    "\n",
    "outfile = open(\"phase3_selections.pkl\",'wb')\n",
    "pickle.dump(selected_item_interactions,outfile)\n",
    "outfile.close()\n",
    "\n",
    "outfile = open(\"df_completed_participation.pkl\",'wb')\n",
    "pickle.dump(df_completed_participation,outfile)\n",
    "outfile.close()"
   ]
  },
  {
   "cell_type": "code",
   "execution_count": 352,
   "id": "089a5adf",
   "metadata": {},
   "outputs": [
    {
     "data": {
      "text/plain": [
       "((29884, 10), (138, 5))"
      ]
     },
     "execution_count": 352,
     "metadata": {},
     "output_type": "execute_result"
    }
   ],
   "source": [
    "d.shape, df.shape"
   ]
  },
  {
   "cell_type": "markdown",
   "id": "62f111a5",
   "metadata": {},
   "source": [
    "# Basic demographics and participant details\n",
    "#### Number of participations and unique participants"
   ]
  },
  {
   "cell_type": "code",
   "execution_count": 360,
   "id": "94f6a65a",
   "metadata": {},
   "outputs": [
    {
     "name": "stdout",
     "output_type": "stream",
     "text": [
      "N participations: 218\n",
      "N completed participations: 136\n",
      "N uncompleted participations: 80\n"
     ]
    }
   ],
   "source": [
    "print(f\"N participations: {df_participation.shape[0]}\")\n",
    "print(f\"N completed participations: {df_completed_participation.shape[0]}\")\n",
    "print(f\"N uncompleted participations: {df_uncompleted_participation.shape[0]}\")"
   ]
  },
  {
   "cell_type": "code",
   "execution_count": 361,
   "id": "38bf96d4",
   "metadata": {},
   "outputs": [
    {
     "data": {
      "text/html": [
       "<div>\n",
       "<style scoped>\n",
       "    .dataframe tbody tr th:only-of-type {\n",
       "        vertical-align: middle;\n",
       "    }\n",
       "\n",
       "    .dataframe tbody tr th {\n",
       "        vertical-align: top;\n",
       "    }\n",
       "\n",
       "    .dataframe thead th {\n",
       "        text-align: right;\n",
       "    }\n",
       "</style>\n",
       "<table border=\"1\" class=\"dataframe\">\n",
       "  <thead>\n",
       "    <tr style=\"text-align: right;\">\n",
       "      <th></th>\n",
       "      <th>age_group</th>\n",
       "      <th>gender</th>\n",
       "      <th>education</th>\n",
       "      <th>ml_familiar</th>\n",
       "      <th>user_study_id</th>\n",
       "      <th>time_joined</th>\n",
       "      <th>time_finished</th>\n",
       "      <th>uuid</th>\n",
       "      <th>language</th>\n",
       "      <th>extra_data</th>\n",
       "      <th>time_taken</th>\n",
       "    </tr>\n",
       "    <tr>\n",
       "      <th>source</th>\n",
       "      <th></th>\n",
       "      <th></th>\n",
       "      <th></th>\n",
       "      <th></th>\n",
       "      <th></th>\n",
       "      <th></th>\n",
       "      <th></th>\n",
       "      <th></th>\n",
       "      <th></th>\n",
       "      <th></th>\n",
       "      <th></th>\n",
       "    </tr>\n",
       "  </thead>\n",
       "  <tbody>\n",
       "    <tr>\n",
       "      <th>organic</th>\n",
       "      <td>64</td>\n",
       "      <td>64</td>\n",
       "      <td>64</td>\n",
       "      <td>64</td>\n",
       "      <td>64</td>\n",
       "      <td>64</td>\n",
       "      <td>64</td>\n",
       "      <td>64</td>\n",
       "      <td>64</td>\n",
       "      <td>50</td>\n",
       "      <td>64</td>\n",
       "    </tr>\n",
       "    <tr>\n",
       "      <th>proliferic</th>\n",
       "      <td>72</td>\n",
       "      <td>72</td>\n",
       "      <td>72</td>\n",
       "      <td>72</td>\n",
       "      <td>72</td>\n",
       "      <td>72</td>\n",
       "      <td>72</td>\n",
       "      <td>72</td>\n",
       "      <td>72</td>\n",
       "      <td>72</td>\n",
       "      <td>72</td>\n",
       "    </tr>\n",
       "  </tbody>\n",
       "</table>\n",
       "</div>"
      ],
      "text/plain": [
       "            age_group  gender  education  ml_familiar  user_study_id  \\\n",
       "source                                                                 \n",
       "organic            64      64         64           64             64   \n",
       "proliferic         72      72         72           72             72   \n",
       "\n",
       "            time_joined  time_finished  uuid  language  extra_data  time_taken  \n",
       "source                                                                          \n",
       "organic              64             64    64        64          50          64  \n",
       "proliferic           72             72    72        72          72          72  "
      ]
     },
     "execution_count": 361,
     "metadata": {},
     "output_type": "execute_result"
    }
   ],
   "source": [
    "df_completed_participation.groupby(\"source\").count()"
   ]
  },
  {
   "cell_type": "code",
   "execution_count": 362,
   "id": "bef25d1c",
   "metadata": {},
   "outputs": [
    {
     "data": {
      "text/html": [
       "<div>\n",
       "<style scoped>\n",
       "    .dataframe tbody tr th:only-of-type {\n",
       "        vertical-align: middle;\n",
       "    }\n",
       "\n",
       "    .dataframe tbody tr th {\n",
       "        vertical-align: top;\n",
       "    }\n",
       "\n",
       "    .dataframe thead th {\n",
       "        text-align: right;\n",
       "    }\n",
       "</style>\n",
       "<table border=\"1\" class=\"dataframe\">\n",
       "  <thead>\n",
       "    <tr style=\"text-align: right;\">\n",
       "      <th></th>\n",
       "      <th>time_taken</th>\n",
       "    </tr>\n",
       "    <tr>\n",
       "      <th>source</th>\n",
       "      <th></th>\n",
       "    </tr>\n",
       "  </thead>\n",
       "  <tbody>\n",
       "    <tr>\n",
       "      <th>organic</th>\n",
       "      <td>0 days 00:13:37.088258500</td>\n",
       "    </tr>\n",
       "    <tr>\n",
       "      <th>proliferic</th>\n",
       "      <td>0 days 00:12:35.709697500</td>\n",
       "    </tr>\n",
       "  </tbody>\n",
       "</table>\n",
       "</div>"
      ],
      "text/plain": [
       "                          time_taken\n",
       "source                              \n",
       "organic    0 days 00:13:37.088258500\n",
       "proliferic 0 days 00:12:35.709697500"
      ]
     },
     "execution_count": 362,
     "metadata": {},
     "output_type": "execute_result"
    }
   ],
   "source": [
    "df_completed_participation.groupby(\"source\")[[\"time_taken\"]].quantile(0.5)"
   ]
  },
  {
   "cell_type": "code",
   "execution_count": 363,
   "id": "d04d91dd",
   "metadata": {},
   "outputs": [
    {
     "data": {
      "text/plain": [
       "0.0    88\n",
       "1.0    44\n",
       "2.0     4\n",
       "Name: gender, dtype: int64"
      ]
     },
     "execution_count": 363,
     "metadata": {},
     "output_type": "execute_result"
    }
   ],
   "source": [
    "df_completed_participation.gender.value_counts()"
   ]
  },
  {
   "cell_type": "code",
   "execution_count": 364,
   "id": "82d5ac9b",
   "metadata": {},
   "outputs": [
    {
     "data": {
      "text/plain": [
       "2.0    50\n",
       "3.0    49\n",
       "4.0    27\n",
       "5.0     8\n",
       "0.0     2\n",
       "Name: education, dtype: int64"
      ]
     },
     "execution_count": 364,
     "metadata": {},
     "output_type": "execute_result"
    }
   ],
   "source": [
    "df_completed_participation.education.value_counts()"
   ]
  },
  {
   "cell_type": "code",
   "execution_count": 365,
   "id": "d9697ff0",
   "metadata": {},
   "outputs": [
    {
     "data": {
      "text/plain": [
       "21.0    85\n",
       "29.0    22\n",
       "16.0    13\n",
       "51.0     8\n",
       "41.0     4\n",
       "65.0     2\n",
       "0.0      2\n",
       "Name: age_group, dtype: int64"
      ]
     },
     "execution_count": 365,
     "metadata": {},
     "output_type": "execute_result"
    }
   ],
   "source": [
    "df_completed_participation.age_group.value_counts()"
   ]
  },
  {
   "cell_type": "code",
   "execution_count": 366,
   "id": "d5d495d0",
   "metadata": {},
   "outputs": [
    {
     "data": {
      "text/plain": [
       "True     73\n",
       "False    63\n",
       "Name: ml_familiar, dtype: int64"
      ]
     },
     "execution_count": 366,
     "metadata": {},
     "output_type": "execute_result"
    }
   ],
   "source": [
    "df_completed_participation.ml_familiar.value_counts()"
   ]
  },
  {
   "cell_type": "code",
   "execution_count": null,
   "id": "482058ee",
   "metadata": {},
   "outputs": [],
   "source": []
  }
 ],
 "metadata": {
  "kernelspec": {
   "display_name": "Python 3 (ipykernel)",
   "language": "python",
   "name": "python3"
  },
  "language_info": {
   "codemirror_mode": {
    "name": "ipython",
    "version": 3
   },
   "file_extension": ".py",
   "mimetype": "text/x-python",
   "name": "python",
   "nbconvert_exporter": "python",
   "pygments_lexer": "ipython3",
   "version": "3.9.6"
  }
 },
 "nbformat": 4,
 "nbformat_minor": 5
}
