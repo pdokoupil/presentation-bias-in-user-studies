{
 "cells": [
  {
   "cell_type": "code",
   "execution_count": 1,
   "id": "2c5a8487",
   "metadata": {
    "scrolled": true
   },
   "outputs": [],
   "source": [
    "import pandas as pd\n",
    "import numpy as np\n",
    "import os\n",
    "import json\n",
    "from scipy.stats import fisher_exact"
   ]
  },
  {
   "cell_type": "markdown",
   "id": "95d1c0fe",
   "metadata": {},
   "source": [
    "# Load data"
   ]
  },
  {
   "cell_type": "code",
   "execution_count": 3,
   "id": "2dbaf2c2",
   "metadata": {},
   "outputs": [],
   "source": [
    "import pickle\n",
    "infile = open(\"interaction_data.pkl\",'rb')\n",
    "d = pickle.load(infile)\n",
    "infile.close()\n",
    "\n",
    "infile = open(\"phase3_selections.pkl\",'rb')\n",
    "selected_item_interactions = pickle.load(infile)\n",
    "infile.close()\n",
    "\n",
    "infile = open(\"df_completed_participation.pkl\",'rb')\n",
    "df_completed_participation = pickle.load(infile)\n",
    "infile.close()"
   ]
  },
  {
   "cell_type": "markdown",
   "id": "1921eb64",
   "metadata": {},
   "source": [
    "## Screen resolutions"
   ]
  },
  {
   "cell_type": "code",
   "execution_count": 6,
   "id": "0cfd4ea1",
   "metadata": {},
   "outputs": [],
   "source": [
    "# Returns interactions of given type\n",
    "def get_interactions(df, int_type):\n",
    "    return df[df[\"interaction_type\"] == int_type]"
   ]
  },
  {
   "cell_type": "code",
   "execution_count": 9,
   "id": "ae8de061",
   "metadata": {},
   "outputs": [],
   "source": [
    "# Get first changed-viewport event to be able to read resolution\n",
    "df = get_interactions(d, \"changed-viewport\").groupby([\"participation\"]).first()\n",
    "\n",
    "def get_resolution(x):\n",
    "    d = json.loads(x)[\"screen_sizes\"]\n",
    "    return d[\"window.screen.width\"], d[\"window.screen.height\"]\n",
    "\n",
    "df[\"resolution\"] = df.data.map(get_resolution)"
   ]
  },
  {
   "cell_type": "code",
   "execution_count": 10,
   "id": "d15da458",
   "metadata": {},
   "outputs": [
    {
     "data": {
      "text/plain": [
       "resolution\n",
       "(1280, 720)      5\n",
       "(1281, 721)      1\n",
       "(1352, 878)      1\n",
       "(1366, 768)     19\n",
       "(1368, 912)      1\n",
       "(1440, 900)     12\n",
       "(1536, 864)     31\n",
       "(1536, 960)      1\n",
       "(1680, 1050)     2\n",
       "(1707, 960)      1\n",
       "(1728, 1117)     1\n",
       "(1920, 1080)    45\n",
       "(1920, 1200)     3\n",
       "(2048, 1153)     1\n",
       "(2275, 1280)     1\n",
       "(2560, 1440)    10\n",
       "(3840, 2160)     1\n",
       "Name: resolution, dtype: int64"
      ]
     },
     "execution_count": 10,
     "metadata": {},
     "output_type": "execute_result"
    }
   ],
   "source": [
    "df.groupby([\"resolution\"])[\"resolution\"].count()"
   ]
  },
  {
   "cell_type": "code",
   "execution_count": 16,
   "id": "a7d5e913",
   "metadata": {},
   "outputs": [],
   "source": [
    "def set_iteration(row):\n",
    "    if row.interaction_type == \"iteration-started\" or row.interaction_type == \"iteration-ended\":\n",
    "        row['iteration'] = json.loads(row.data)['iteration']\n",
    "    else:\n",
    "        row['iteration'] = None\n",
    "    return row\n",
    "\n",
    "def set_result_layout(row):\n",
    "    if row.interaction_type == \"iteration-started\":\n",
    "        row['result_layout'] = json.loads(row.data)['result_layout']\n",
    "    else:\n",
    "        row['result_layout'] = None\n",
    "    return row\n",
    "\n",
    "def set_mapping(row):\n",
    "    if row.interaction_type == 'iteration-started':\n",
    "        dat = json.loads(row.data)['algorithm_assignment'].values()\n",
    "        for mapping in dat:\n",
    "            row[mapping['name'].upper()] = mapping['order']\n",
    "    else:\n",
    "        row['GAMMA'] = None\n",
    "        row['DELTA'] = None\n",
    "    return row"
   ]
  },
  {
   "cell_type": "code",
   "execution_count": 17,
   "id": "708ffe40",
   "metadata": {},
   "outputs": [],
   "source": [
    "d = d.apply(set_iteration, axis=1).apply(set_result_layout, axis=1).apply(set_mapping, axis=1)"
   ]
  },
  {
   "cell_type": "code",
   "execution_count": 18,
   "id": "25e5bbeb",
   "metadata": {},
   "outputs": [],
   "source": [
    "d['iteration'] = d.groupby(['participation'], sort=False)['iteration'].apply(lambda x: x.ffill())"
   ]
  },
  {
   "cell_type": "code",
   "execution_count": 19,
   "id": "58dd9c68",
   "metadata": {},
   "outputs": [],
   "source": [
    "d['iteration'] = d.groupby(['participation'], sort=False)['iteration'].apply(lambda x: x.ffill())\n",
    "d['result_layout'] = d.groupby(['participation'], sort=False)['result_layout'].apply(lambda x: x.ffill())\n",
    "d['GAMMA'] = d.groupby(['participation'], sort=False)['GAMMA'].apply(lambda x: x.ffill())\n",
    "d['DELTA'] = d.groupby(['participation'], sort=False)['DELTA'].apply(lambda x: x.ffill())"
   ]
  },
  {
   "cell_type": "code",
   "execution_count": 20,
   "id": "3b1832ce",
   "metadata": {
    "scrolled": true
   },
   "outputs": [],
   "source": [
    "d = d[d.iteration.notna()]"
   ]
  },
  {
   "cell_type": "code",
   "execution_count": 21,
   "id": "37e1a412",
   "metadata": {},
   "outputs": [],
   "source": [
    "def set_dim(x):\n",
    "    data = json.loads(x.data)\n",
    "    if not 'screen_sizes' in data:\n",
    "        x['innerWidth'] = None\n",
    "        x['innerHeight'] = None\n",
    "        x['scrollWidth'] = None\n",
    "        x['scrollHeight'] = None\n",
    "        x['viewport'] = None\n",
    "    else:\n",
    "        x['viewport'] = data['viewport']\n",
    "        data = data['screen_sizes']\n",
    "        x['innerWidth'] = data['window.innerWidth']\n",
    "        x['innerHeight'] = data['window.innerHeight']\n",
    "        x['scrollWidth'] = data['document.body.scrollWidth']\n",
    "        x['scrollHeight'] = data['document.body.scrollHeight']\n",
    "        \n",
    "    return x\n",
    "\n",
    "def get_abs_coord(selected_item_viewport, viewport):\n",
    "    return {\n",
    "        \"left\": selected_item_viewport['left'] - viewport['left'],\n",
    "        \"top\": selected_item_viewport['top'] - viewport['top']\n",
    "    };\n"
   ]
  },
  {
   "cell_type": "code",
   "execution_count": 22,
   "id": "e50c48c5",
   "metadata": {
    "scrolled": true
   },
   "outputs": [],
   "source": [
    "d = d.apply(set_dim, axis=1)\n",
    "d['innerWidth'] = d.groupby(['participation'], sort=False)['innerWidth'].apply(lambda x: x.ffill())\n",
    "d['innerHeight'] = d.groupby(['participation'], sort=False)['innerHeight'].apply(lambda x: x.ffill())\n",
    "d['scrollWidth'] = d.groupby(['participation'], sort=False)['scrollWidth'].apply(lambda x: x.ffill())\n",
    "d['scrollHeight'] = d.groupby(['participation'], sort=False)['scrollHeight'].apply(lambda x: x.ffill())\n",
    "d['viewport'] = d.groupby(['participation'], sort=False)['viewport'].apply(lambda x: x.ffill())"
   ]
  },
  {
   "cell_type": "code",
   "execution_count": 23,
   "id": "7537c770",
   "metadata": {},
   "outputs": [],
   "source": [
    "def set_items_positions(x):\n",
    "    if x.interaction_type == 'changed-viewport':\n",
    "        extra = json.loads(x.data)['context']['extra']\n",
    "        if 'items' in extra:\n",
    "            items = extra['items']\n",
    "            x['item_positions'] = {\n",
    "                item['id']: item['viewport']\n",
    "                for item in items\n",
    "            }\n",
    "            x['item_abs_positions'] = {\n",
    "                item['id']: get_abs_coord(item['viewport'], x['viewport'])\n",
    "                for item in items\n",
    "            }\n",
    "        else:\n",
    "            x['item_positions'] = None\n",
    "            x['item_abs_positions'] = None\n",
    "    else:\n",
    "        x['item_positions'] = None\n",
    "        x['item_abs_positions'] = None\n",
    "    return x"
   ]
  },
  {
   "cell_type": "code",
   "execution_count": 24,
   "id": "86fd9bae",
   "metadata": {},
   "outputs": [],
   "source": [
    "d = d.apply(set_items_positions, axis=1).groupby(['participation'], sort=False).apply(lambda x: x.ffill())"
   ]
  },
  {
   "cell_type": "code",
   "execution_count": 25,
   "id": "5b3a21a0",
   "metadata": {},
   "outputs": [],
   "source": [
    "def set_variant(x):\n",
    "    if x.interaction_type == 'selected-item' or x.interaction_type == 'deselected-item':\n",
    "        dat = json.loads(x.data)[x.interaction_type.replace('-', '_')]\n",
    "        if 'variant' in dat:\n",
    "            x['variant'] = dat['variant']\n",
    "        else:\n",
    "            x['variant'] = None\n",
    "    else:\n",
    "        x['variant'] = None\n",
    "    return x\n",
    "\n",
    "def set_selected_item(x):\n",
    "    it = json.loads(x.data)\n",
    "    if 'selected_item' not in it:\n",
    "        if \"deselected_item\" in it:\n",
    "            it = it['deselected_item']\n",
    "        else:\n",
    "            x['selected_item'] = None\n",
    "            x['selected_item_coord'] = None\n",
    "            return x\n",
    "    else:\n",
    "        it = it['selected_item']\n",
    "    \n",
    "    algo = 'GAMMA'\n",
    "    assert x.variant == it['variant']\n",
    "    if x.variant == x.DELTA:\n",
    "        algo = 'DELTA'\n",
    "    it_name = f\"{algo}_{it['movie_idx']}\"\n",
    "    if it_name not in x['item_positions']:\n",
    "        x['selected_item'] = None\n",
    "        x['selected_item_coord'] = None\n",
    "        x['selected_item_abs_coord'] = None\n",
    "    else:\n",
    "        x['selected_item'] = it_name\n",
    "        x['selected_item_coord'] = x['item_positions'][x['selected_item']]\n",
    "        x['selected_item_abs_coord'] = get_abs_coord(x['selected_item_coord'], x['viewport'])\n",
    "    return x"
   ]
  },
  {
   "cell_type": "code",
   "execution_count": 26,
   "id": "22bd2588",
   "metadata": {},
   "outputs": [],
   "source": [
    "def get_grid_positions_impl(x, exp_x_positions, exp_y_positions):\n",
    "    assert bool(exp_x_positions) == bool(exp_y_positions)\n",
    "    \n",
    "    x_positions = set([y['left'] for y in x.values()])\n",
    "    if exp_x_positions and len(x_positions) != exp_x_positions:\n",
    "        return None # single columns should have 2 grid positions\n",
    "    x_positions = sorted(list(x_positions))\n",
    "    \n",
    "    y_positions = set([y['top'] for y in x.values()])\n",
    "    if exp_y_positions and len(y_positions) != exp_y_positions:\n",
    "        return None # single columns should have 10 grid positions in vertical direction\n",
    "    y_positions = sorted(list(y_positions))\n",
    "    \n",
    "    return {\n",
    "        item_id: {\n",
    "            'x': x_positions.index(vals['left']),\n",
    "            'y': y_positions.index(vals['top'])\n",
    "        } for item_id, vals in x.items()\n",
    "    }\n",
    "\n",
    "def get_grid_positions(x, result_layout):\n",
    "    if result_layout == 'columns':\n",
    "        return get_grid_positions_impl(x, 4, 5)\n",
    "    elif result_layout == 'rows':\n",
    "        return get_grid_positions_impl(x, 5, 4)\n",
    "    elif result_layout == 'row-single':\n",
    "        return get_grid_positions_impl(x, 10, 2)\n",
    "    elif result_layout == 'column-single':\n",
    "        return get_grid_positions_impl(x, 2, 10)\n",
    "    elif result_layout == 'row-single-scrollable':\n",
    "        return get_grid_positions_impl(x, 10, 2)\n",
    "    elif result_layout == 'max-columns':\n",
    "        return get_grid_positions_impl(x, None, None) # Resolution dependent\n",
    "\n",
    "def set_selected_item_grid_coord(row):\n",
    "    row['selected_item_grid_coord'] = row['grid_coords'][row.selected_item]\n",
    "    return row"
   ]
  },
  {
   "cell_type": "code",
   "execution_count": 27,
   "id": "3c02c8f4",
   "metadata": {},
   "outputs": [],
   "source": [
    "d = d.dropna()"
   ]
  },
  {
   "cell_type": "markdown",
   "id": "61f734bc",
   "metadata": {},
   "source": [
    "# It may happen, that user selects item right after iteration started but before first viewport changed in that iteration!!!!! We are currently dropping these fast selections"
   ]
  },
  {
   "cell_type": "code",
   "execution_count": 28,
   "id": "984be677",
   "metadata": {},
   "outputs": [],
   "source": [
    "def set_coords(row):\n",
    "    row['x_coords'] = x_to_abs_left[row.result_layout][row.selected_item_grid_coord['x']]\n",
    "    row['y_coords'] = y_to_abs_top[row.result_layout][row.selected_item_grid_coord['y']]\n",
    "    return row"
   ]
  },
  {
   "cell_type": "markdown",
   "id": "b4a51961",
   "metadata": {},
   "source": [
    "## Add high level layout information"
   ]
  },
  {
   "cell_type": "code",
   "execution_count": 29,
   "id": "156de563",
   "metadata": {},
   "outputs": [],
   "source": [
    "d.loc[:, \"high_level_layout\"] = d.result_layout.map(lambda x: \"rows\" if x in [\"rows\", \"row-single-scrollable\", \"row-single\"] else \"columns\")"
   ]
  },
  {
   "cell_type": "code",
   "execution_count": 30,
   "id": "fc5ed803",
   "metadata": {},
   "outputs": [],
   "source": [
    "d.loc[:, \"variant\"] = d[d.interaction_type == \"selected-item\"].data.map(lambda x: json.loads(x)[\"selected_item\"].get(\"variant\", -1))"
   ]
  },
  {
   "cell_type": "code",
   "execution_count": 31,
   "id": "1bd83942",
   "metadata": {},
   "outputs": [],
   "source": [
    "def set_variant_name(row):\n",
    "    if row[\"variant\"] != -1:\n",
    "        if row[\"GAMMA\"] == row[\"variant\"]:\n",
    "            row[\"variant_name\"] = \"GAMMA\"\n",
    "        elif row[\"DELTA\"] == row[\"variant\"]:\n",
    "            row[\"variant_name\"] = \"DELTA\"\n",
    "        else:\n",
    "            row[\"variant_name\"] = None\n",
    "    else:\n",
    "        row[\"variant_name\"] = None\n",
    "    return row\n",
    "d = d.apply(set_variant_name, axis=1)"
   ]
  },
  {
   "cell_type": "code",
   "execution_count": 34,
   "id": "19d99329",
   "metadata": {},
   "outputs": [],
   "source": [
    "df_selections = d[d.interaction_type == \"selected-item\"]"
   ]
  },
  {
   "cell_type": "code",
   "execution_count": 35,
   "id": "6841238a",
   "metadata": {},
   "outputs": [
    {
     "name": "stderr",
     "output_type": "stream",
     "text": [
      "c:\\users\\pd\\appdata\\local\\programs\\python\\python39\\lib\\site-packages\\pandas\\core\\indexing.py:1667: SettingWithCopyWarning: \n",
      "A value is trying to be set on a copy of a slice from a DataFrame.\n",
      "Try using .loc[row_indexer,col_indexer] = value instead\n",
      "\n",
      "See the caveats in the documentation: https://pandas.pydata.org/pandas-docs/stable/user_guide/indexing.html#returning-a-view-versus-a-copy\n",
      "  self.obj[key] = value\n"
     ]
    }
   ],
   "source": [
    "# Add selection order to each selection\n",
    "df_selections.loc[:, 'selection_order'] = df_selections.groupby([\"participation\",\"iteration\"]).cumcount()+1"
   ]
  },
  {
   "cell_type": "code",
   "execution_count": 36,
   "id": "b898e249",
   "metadata": {
    "scrolled": true
   },
   "outputs": [],
   "source": [
    "df_selections = df_selections.apply(set_variant, axis=1)\n",
    "df_selections = df_selections[df_selections.variant.notna()]\n",
    "    \n",
    "df_selections.GAMMA = df_selections.GAMMA.astype(int)\n",
    "df_selections.DELTA = df_selections.DELTA.astype(int)\n",
    "df_selections.iteration = df_selections.iteration.astype(int)"
   ]
  },
  {
   "cell_type": "markdown",
   "id": "4351fdb1",
   "metadata": {},
   "source": [
    "## Analyze switches (JUMPS) per layout"
   ]
  },
  {
   "cell_type": "code",
   "execution_count": 37,
   "id": "4ad02235",
   "metadata": {},
   "outputs": [],
   "source": [
    "def num_switches(x, result_layout):\n",
    "    tmp = x[x.result_layout == result_layout]\n",
    "    tmp = tmp.groupby([\"participation\", \"iteration\"])\n",
    "    \n",
    "    switches = []\n",
    "    for _, row in tmp:\n",
    "        #if x[0] == 229:\n",
    "        #    print(f\"index = {x}\")\n",
    "        #    print(row[\"variant\"])\n",
    "        #    #print(row[\"variant\"].diff().sum(axis=0)) # Without abs we can see the direction of switch\n",
    "        switches.append(np.abs(row[\"variant\"].diff()).sum(axis=0))\n",
    "    return switches\n",
    "\n",
    "def num_switches_high_level(x, high_level_layout):\n",
    "    tmp = x[x.high_level_layout == high_level_layout]\n",
    "    tmp = tmp.groupby([\"participation\", \"iteration\"])\n",
    "    \n",
    "    switches = []\n",
    "    for _, row in tmp:\n",
    "        #if x[0] == 229:\n",
    "        #    print(f\"index = {x}\")\n",
    "        #    print(row[\"variant\"])\n",
    "        #    #print(row[\"variant\"].diff().sum(axis=0)) # Without abs we can see the direction of switch\n",
    "        switches.append(np.abs(row[\"variant\"].diff()).sum(axis=0))\n",
    "    return switches\n",
    "\n",
    "def plot_switches(x3, result_layout):\n",
    "    switches = num_switches(x3, result_layout)\n",
    "    #plt.title(f\"{result_layout} switches\")\n",
    "    \n",
    "    plt.hist(switches, bins=np.arange(np.array(switches).min(), np.array(switches).max()+1)-0.5, label=result_layout)\n",
    "    plt.xlim(xmin=-1.0, xmax = 12)\n",
    "    plt.xticks(np.arange(-1, 12, 1))\n",
    "    plt.legend()\n",
    "    \n",
    "    df_switches = pd.DataFrame(switches)\n",
    "    print(df_switches.describe())\n",
    "    print(f\"Rounded switches mean: {np.round(df_switches.mean(), 3)}\")"
   ]
  },
  {
   "cell_type": "code",
   "execution_count": 40,
   "id": "60e074ff",
   "metadata": {},
   "outputs": [
    {
     "name": "stdout",
     "output_type": "stream",
     "text": [
      "row-single-scrollable columns Ttest_indResult(statistic=-3.5885699265867697, pvalue=0.0003824242965081339)\n",
      "row-single-scrollable max-columns Ttest_indResult(statistic=-2.762499195965861, pvalue=0.006068794557634057)\n",
      "row-single-scrollable rows Ttest_indResult(statistic=0.22345454188627253, pvalue=0.8233212888491869)\n",
      "row-single-scrollable column-single Ttest_indResult(statistic=-5.829897810258099, pvalue=1.2776836101838712e-08)\n",
      "row-single-scrollable row-single Ttest_indResult(statistic=-1.1503403690047156, pvalue=0.25086262042789736)\n",
      "columns row-single-scrollable Ttest_indResult(statistic=3.5885699265867697, pvalue=0.0003824242965081339)\n",
      "columns max-columns Ttest_indResult(statistic=1.0553076439259998, pvalue=0.2920084224051299)\n",
      "columns rows Ttest_indResult(statistic=4.043852560761779, pvalue=6.435080462541443e-05)\n",
      "columns column-single Ttest_indResult(statistic=-3.2267537563693347, pvalue=0.0013615410137098796)\n",
      "columns row-single Ttest_indResult(statistic=3.0669448735256024, pvalue=0.0023295000865271136)\n",
      "max-columns row-single-scrollable Ttest_indResult(statistic=2.762499195965861, pvalue=0.006068794557634057)\n",
      "max-columns columns Ttest_indResult(statistic=-1.0553076439259998, pvalue=0.2920084224051299)\n",
      "max-columns rows Ttest_indResult(statistic=3.168569307112994, pvalue=0.0016684269524522568)\n",
      "max-columns column-single Ttest_indResult(statistic=-4.066130735358446, pvalue=5.864901258322892e-05)\n",
      "max-columns row-single Ttest_indResult(statistic=2.083572643489427, pvalue=0.037947772563808005)\n",
      "rows row-single-scrollable Ttest_indResult(statistic=-0.22345454188627253, pvalue=0.8233212888491869)\n",
      "rows columns Ttest_indResult(statistic=-4.043852560761779, pvalue=6.435080462541443e-05)\n",
      "rows max-columns Ttest_indResult(statistic=-3.168569307112994, pvalue=0.0016684269524522568)\n",
      "rows column-single Ttest_indResult(statistic=-6.43217763386773, pvalue=3.880691301359031e-10)\n",
      "rows row-single Ttest_indResult(statistic=-1.4956269885657951, pvalue=0.13565978159560332)\n",
      "column-single row-single-scrollable Ttest_indResult(statistic=5.829897810258099, pvalue=1.2776836101838712e-08)\n",
      "column-single columns Ttest_indResult(statistic=3.2267537563693347, pvalue=0.0013615410137098796)\n",
      "column-single max-columns Ttest_indResult(statistic=4.066130735358446, pvalue=5.864901258322892e-05)\n",
      "column-single rows Ttest_indResult(statistic=6.43217763386773, pvalue=3.880691301359031e-10)\n",
      "column-single row-single Ttest_indResult(statistic=5.680538579672655, pvalue=2.7514271937197366e-08)\n",
      "row-single row-single-scrollable Ttest_indResult(statistic=1.1503403690047156, pvalue=0.25086262042789736)\n",
      "row-single columns Ttest_indResult(statistic=-3.0669448735256024, pvalue=0.0023295000865271136)\n",
      "row-single max-columns Ttest_indResult(statistic=-2.083572643489427, pvalue=0.037947772563808005)\n",
      "row-single rows Ttest_indResult(statistic=1.4956269885657951, pvalue=0.13565978159560332)\n",
      "row-single column-single Ttest_indResult(statistic=-5.680538579672655, pvalue=2.7514271937197366e-08)\n"
     ]
    }
   ],
   "source": [
    "import numpy as np\n",
    "import matplotlib.pyplot as plt\n",
    "from scipy.stats import ttest_ind, ttest_rel\n",
    "for i in df_selections.result_layout.unique():\n",
    "    for j in df_selections.result_layout.unique():\n",
    "        if i!=j:\n",
    "            dx = num_switches(df_selections, i)\n",
    "            dy = num_switches(df_selections, j)\n",
    "            print(i,j, ttest_ind(dx,dy))"
   ]
  },
  {
   "cell_type": "code",
   "execution_count": 41,
   "id": "90b85b0e",
   "metadata": {},
   "outputs": [
    {
     "name": "stdout",
     "output_type": "stream",
     "text": [
      "rows columns Ttest_indResult(statistic=-7.380344699223924, pvalue=3.2131688259577263e-13)\n",
      "columns rows Ttest_indResult(statistic=7.380344699223924, pvalue=3.2131688259577263e-13)\n"
     ]
    }
   ],
   "source": [
    "from scipy.stats import ttest_ind, ttest_rel\n",
    "for i in df_selections.high_level_layout.unique():\n",
    "    for j in df_selections.high_level_layout.unique():\n",
    "        if i!=j:\n",
    "            dx = num_switches_high_level(df_selections, i)\n",
    "            dy = num_switches_high_level(df_selections, j)\n",
    "            print(i,j, ttest_ind(dx,dy))"
   ]
  },
  {
   "cell_type": "code",
   "execution_count": 43,
   "id": "ed205f00",
   "metadata": {},
   "outputs": [
    {
     "name": "stdout",
     "output_type": "stream",
     "text": [
      "                0\n",
      "count  195.000000\n",
      "mean     1.943590\n",
      "std      2.051376\n",
      "min      0.000000\n",
      "25%      1.000000\n",
      "50%      1.000000\n",
      "75%      2.500000\n",
      "max     11.000000\n",
      "Rounded switches mean: 0    1.944\n",
      "dtype: float64\n"
     ]
    },
    {
     "data": {
      "image/png": "[encoded data removed]",
      "text/plain": [
       "<Figure size 432x288 with 1 Axes>"
      ]
     },
     "metadata": {
      "needs_background": "light"
     },
     "output_type": "display_data"
    }
   ],
   "source": [
    "plot_switches(df_selections, \"column-single\")"
   ]
  },
  {
   "cell_type": "code",
   "execution_count": 45,
   "id": "0eb88f46",
   "metadata": {},
   "outputs": [
    {
     "name": "stdout",
     "output_type": "stream",
     "text": [
      "                0\n",
      "count  184.000000\n",
      "mean     1.364130\n",
      "std      1.352196\n",
      "min      0.000000\n",
      "25%      1.000000\n",
      "50%      1.000000\n",
      "75%      1.000000\n",
      "max      9.000000\n",
      "Rounded switches mean: 0    1.364\n",
      "dtype: float64\n"
     ]
    },
    {
     "data": {
      "image/png": "[encoded data removed]",
      "text/plain": [
       "<Figure size 432x288 with 1 Axes>"
      ]
     },
     "metadata": {
      "needs_background": "light"
     },
     "output_type": "display_data"
    }
   ],
   "source": [
    "plot_switches(df_selections, \"columns\")"
   ]
  },
  {
   "cell_type": "code",
   "execution_count": 50,
   "id": "d22319a7",
   "metadata": {},
   "outputs": [
    {
     "name": "stdout",
     "output_type": "stream",
     "text": [
      "                0\n",
      "count  170.000000\n",
      "mean     1.223529\n",
      "std      1.134468\n",
      "min      0.000000\n",
      "25%      1.000000\n",
      "50%      1.000000\n",
      "75%      1.000000\n",
      "max      9.000000\n",
      "Rounded switches mean: 0    1.224\n",
      "dtype: float64\n"
     ]
    },
    {
     "data": {
      "image/png": "[encoded data removed]",
      "text/plain": [
       "<Figure size 432x288 with 1 Axes>"
      ]
     },
     "metadata": {
      "needs_background": "light"
     },
     "output_type": "display_data"
    }
   ],
   "source": [
    "plot_switches(df_selections, \"max-columns\")"
   ]
  },
  {
   "cell_type": "code",
   "execution_count": 51,
   "id": "5e3ecdba",
   "metadata": {},
   "outputs": [
    {
     "name": "stdout",
     "output_type": "stream",
     "text": [
      "                0\n",
      "count  178.000000\n",
      "mean     0.926966\n",
      "std      0.510071\n",
      "min      0.000000\n",
      "25%      1.000000\n",
      "50%      1.000000\n",
      "75%      1.000000\n",
      "max      3.000000\n",
      "Rounded switches mean: 0    0.927\n",
      "dtype: float64\n"
     ]
    },
    {
     "data": {
      "image/png": "[encoded data removed]",
      "text/plain": [
       "<Figure size 432x288 with 1 Axes>"
      ]
     },
     "metadata": {
      "needs_background": "light"
     },
     "output_type": "display_data"
    }
   ],
   "source": [
    "plot_switches(df_selections, \"rows\")"
   ]
  },
  {
   "cell_type": "code",
   "execution_count": 52,
   "id": "d0c5e844",
   "metadata": {},
   "outputs": [
    {
     "name": "stdout",
     "output_type": "stream",
     "text": [
      "                0\n",
      "count  171.000000\n",
      "mean     1.017544\n",
      "std      0.618097\n",
      "min      0.000000\n",
      "25%      1.000000\n",
      "50%      1.000000\n",
      "75%      1.000000\n",
      "max      4.000000\n",
      "Rounded switches mean: 0    1.018\n",
      "dtype: float64\n"
     ]
    },
    {
     "data": {
      "image/png": "[encoded data removed]",
      "text/plain": [
       "<Figure size 432x288 with 1 Axes>"
      ]
     },
     "metadata": {
      "needs_background": "light"
     },
     "output_type": "display_data"
    }
   ],
   "source": [
    "plot_switches(df_selections, \"row-single\")"
   ]
  },
  {
   "cell_type": "code",
   "execution_count": 53,
   "id": "abc726d6",
   "metadata": {},
   "outputs": [
    {
     "name": "stdout",
     "output_type": "stream",
     "text": [
      "                0\n",
      "count  151.000000\n",
      "mean     0.940397\n",
      "std      0.580021\n",
      "min      0.000000\n",
      "25%      1.000000\n",
      "50%      1.000000\n",
      "75%      1.000000\n",
      "max      3.000000\n",
      "Rounded switches mean: 0    0.94\n",
      "dtype: float64\n"
     ]
    },
    {
     "data": {
      "image/png": "[encoded data removed]",
      "text/plain": [
       "<Figure size 432x288 with 1 Axes>"
      ]
     },
     "metadata": {
      "needs_background": "light"
     },
     "output_type": "display_data"
    }
   ],
   "source": [
    "plot_switches(df_selections, \"row-single-scrollable\")"
   ]
  },
  {
   "cell_type": "code",
   "execution_count": 46,
   "id": "36454006",
   "metadata": {},
   "outputs": [
    {
     "data": {
      "text/plain": [
       "<AxesSubplot:title={'center':'Number of switches column-single'}>"
      ]
     },
     "execution_count": 46,
     "metadata": {},
     "output_type": "execute_result"
    },
    {
     "data": {
      "image/png": "[encoded data removed]",
      "text/plain": [
       "<Figure size 432x288 with 1 Axes>"
      ]
     },
     "metadata": {
      "needs_background": "light"
     },
     "output_type": "display_data"
    }
   ],
   "source": [
    "pd.Series(num_switches(df_selections, \"column-single\")).value_counts().plot(kind='bar', title=\"Number of switches column-single\")"
   ]
  },
  {
   "cell_type": "code",
   "execution_count": 47,
   "id": "79ce7fcd",
   "metadata": {},
   "outputs": [
    {
     "data": {
      "text/plain": [
       "<AxesSubplot:title={'center':'Number of switches columns'}>"
      ]
     },
     "execution_count": 47,
     "metadata": {},
     "output_type": "execute_result"
    },
    {
     "data": {
      "image/png": "[encoded data removed]",
      "text/plain": [
       "<Figure size 432x288 with 1 Axes>"
      ]
     },
     "metadata": {
      "needs_background": "light"
     },
     "output_type": "display_data"
    }
   ],
   "source": [
    "pd.Series(num_switches(df_selections, \"columns\")).value_counts().plot(kind='bar', title=\"Number of switches columns\")"
   ]
  },
  {
   "cell_type": "code",
   "execution_count": 48,
   "id": "efee0385",
   "metadata": {},
   "outputs": [
    {
     "data": {
      "text/plain": [
       "<AxesSubplot:title={'center':'Number of switches rows'}>"
      ]
     },
     "execution_count": 48,
     "metadata": {},
     "output_type": "execute_result"
    },
    {
     "data": {
      "image/png": "[encoded data removed]",
      "text/plain": [
       "<Figure size 432x288 with 1 Axes>"
      ]
     },
     "metadata": {
      "needs_background": "light"
     },
     "output_type": "display_data"
    }
   ],
   "source": [
    "pd.Series(num_switches(df_selections, \"rows\")).value_counts().plot(kind='bar', title=\"Number of switches rows\")"
   ]
  },
  {
   "cell_type": "code",
   "execution_count": 49,
   "id": "3bf660bb",
   "metadata": {},
   "outputs": [
    {
     "data": {
      "text/plain": [
       "<AxesSubplot:title={'center':'Number of switches max-columns'}>"
      ]
     },
     "execution_count": 49,
     "metadata": {},
     "output_type": "execute_result"
    },
    {
     "data": {
      "image/png": "[encoded data removed]",
      "text/plain": [
       "<Figure size 432x288 with 1 Axes>"
      ]
     },
     "metadata": {
      "needs_background": "light"
     },
     "output_type": "display_data"
    }
   ],
   "source": [
    "pd.Series(num_switches(df_selections, \"max-columns\")).value_counts().plot(kind='bar', title=\"Number of switches max-columns\")"
   ]
  },
  {
   "cell_type": "code",
   "execution_count": 54,
   "id": "a88644f0",
   "metadata": {},
   "outputs": [
    {
     "data": {
      "text/plain": [
       "<AxesSubplot:title={'center':'Number of switches row-single'}>"
      ]
     },
     "execution_count": 54,
     "metadata": {},
     "output_type": "execute_result"
    },
    {
     "data": {
      "image/png": "[encoded data removed]",
      "text/plain": [
       "<Figure size 432x288 with 1 Axes>"
      ]
     },
     "metadata": {
      "needs_background": "light"
     },
     "output_type": "display_data"
    }
   ],
   "source": [
    "pd.Series(num_switches(df_selections, \"row-single\")).value_counts().plot(kind='bar', title=\"Number of switches row-single\")"
   ]
  },
  {
   "cell_type": "code",
   "execution_count": 55,
   "id": "8e94af23",
   "metadata": {},
   "outputs": [
    {
     "data": {
      "text/plain": [
       "<AxesSubplot:title={'center':'Number of switches row-single-scrollable'}>"
      ]
     },
     "execution_count": 55,
     "metadata": {},
     "output_type": "execute_result"
    },
    {
     "data": {
      "image/png": "[encoded data removed]",
      "text/plain": [
       "<Figure size 432x288 with 1 Axes>"
      ]
     },
     "metadata": {
      "needs_background": "light"
     },
     "output_type": "display_data"
    }
   ],
   "source": [
    "pd.Series(num_switches(df_selections, \"row-single-scrollable\")).value_counts().plot(kind='bar', title=\"Number of switches row-single-scrollable\")"
   ]
  },
  {
   "cell_type": "code",
   "execution_count": 56,
   "id": "ecc4f32f",
   "metadata": {},
   "outputs": [
    {
     "data": {
      "text/plain": [
       "<AxesSubplot:title={'center':'Number of switches high level ROWS'}>"
      ]
     },
     "execution_count": 56,
     "metadata": {},
     "output_type": "execute_result"
    },
    {
     "data": {
      "image/png": "[encoded data removed]",
      "text/plain": [
       "<Figure size 432x288 with 1 Axes>"
      ]
     },
     "metadata": {
      "needs_background": "light"
     },
     "output_type": "display_data"
    }
   ],
   "source": [
    "pd.Series(num_switches_high_level(df_selections, \"rows\")).value_counts().plot(kind='bar', title=\"Number of switches high level ROWS\")"
   ]
  },
  {
   "cell_type": "code",
   "execution_count": 57,
   "id": "cb034f4b",
   "metadata": {},
   "outputs": [
    {
     "data": {
      "text/plain": [
       "<AxesSubplot:title={'center':'Number of switches high level COLUMNS'}>"
      ]
     },
     "execution_count": 57,
     "metadata": {},
     "output_type": "execute_result"
    },
    {
     "data": {
      "image/png": "[encoded data removed]",
      "text/plain": [
       "<Figure size 432x288 with 1 Axes>"
      ]
     },
     "metadata": {
      "needs_background": "light"
     },
     "output_type": "display_data"
    }
   ],
   "source": [
    "pd.Series(num_switches_high_level(df_selections, \"columns\")).value_counts().plot(kind='bar', title=\"Number of switches high level COLUMNS\")"
   ]
  },
  {
   "cell_type": "code",
   "execution_count": 58,
   "id": "48f1286d",
   "metadata": {},
   "outputs": [
    {
     "data": {
      "text/html": [
       "<div>\n",
       "<style scoped>\n",
       "    .dataframe tbody tr th:only-of-type {\n",
       "        vertical-align: middle;\n",
       "    }\n",
       "\n",
       "    .dataframe tbody tr th {\n",
       "        vertical-align: top;\n",
       "    }\n",
       "\n",
       "    .dataframe thead th {\n",
       "        text-align: right;\n",
       "    }\n",
       "</style>\n",
       "<table border=\"1\" class=\"dataframe\">\n",
       "  <thead>\n",
       "    <tr style=\"text-align: right;\">\n",
       "      <th></th>\n",
       "      <th>rows</th>\n",
       "      <th>columns</th>\n",
       "    </tr>\n",
       "  </thead>\n",
       "  <tbody>\n",
       "    <tr>\n",
       "      <th>0</th>\n",
       "      <td>1.0</td>\n",
       "      <td>0.0</td>\n",
       "    </tr>\n",
       "    <tr>\n",
       "      <th>1</th>\n",
       "      <td>0.0</td>\n",
       "      <td>1.0</td>\n",
       "    </tr>\n",
       "    <tr>\n",
       "      <th>2</th>\n",
       "      <td>1.0</td>\n",
       "      <td>0.0</td>\n",
       "    </tr>\n",
       "    <tr>\n",
       "      <th>3</th>\n",
       "      <td>0.0</td>\n",
       "      <td>0.0</td>\n",
       "    </tr>\n",
       "    <tr>\n",
       "      <th>4</th>\n",
       "      <td>1.0</td>\n",
       "      <td>2.0</td>\n",
       "    </tr>\n",
       "    <tr>\n",
       "      <th>...</th>\n",
       "      <td>...</td>\n",
       "      <td>...</td>\n",
       "    </tr>\n",
       "    <tr>\n",
       "      <th>494</th>\n",
       "      <td>1.0</td>\n",
       "      <td>1.0</td>\n",
       "    </tr>\n",
       "    <tr>\n",
       "      <th>495</th>\n",
       "      <td>1.0</td>\n",
       "      <td>2.0</td>\n",
       "    </tr>\n",
       "    <tr>\n",
       "      <th>496</th>\n",
       "      <td>2.0</td>\n",
       "      <td>4.0</td>\n",
       "    </tr>\n",
       "    <tr>\n",
       "      <th>497</th>\n",
       "      <td>1.0</td>\n",
       "      <td>0.0</td>\n",
       "    </tr>\n",
       "    <tr>\n",
       "      <th>498</th>\n",
       "      <td>1.0</td>\n",
       "      <td>1.0</td>\n",
       "    </tr>\n",
       "  </tbody>\n",
       "</table>\n",
       "<p>499 rows × 2 columns</p>\n",
       "</div>"
      ],
      "text/plain": [
       "     rows  columns\n",
       "0     1.0      0.0\n",
       "1     0.0      1.0\n",
       "2     1.0      0.0\n",
       "3     0.0      0.0\n",
       "4     1.0      2.0\n",
       "..    ...      ...\n",
       "494   1.0      1.0\n",
       "495   1.0      2.0\n",
       "496   2.0      4.0\n",
       "497   1.0      0.0\n",
       "498   1.0      1.0\n",
       "\n",
       "[499 rows x 2 columns]"
      ]
     },
     "execution_count": 58,
     "metadata": {},
     "output_type": "execute_result"
    }
   ],
   "source": [
    "df = pd.DataFrame()\n",
    "df.loc[:, \"rows\"] = pd.Series(num_switches_high_level(df_selections, \"rows\"))\n",
    "df.loc[:, \"columns\"] = pd.Series(num_switches_high_level(df_selections, \"columns\"))\n",
    "df"
   ]
  },
  {
   "cell_type": "code",
   "execution_count": 59,
   "id": "fffe367b",
   "metadata": {},
   "outputs": [
    {
     "data": {
      "text/plain": [
       "Ttest_indResult(statistic=-7.380344699223924, pvalue=3.2131688259577263e-13)"
      ]
     },
     "execution_count": 59,
     "metadata": {},
     "output_type": "execute_result"
    }
   ],
   "source": [
    "from scipy.stats import ttest_ind\n",
    "ttest_ind(pd.Series(num_switches_high_level(df_selections, \"rows\")), pd.Series(num_switches_high_level(df_selections, \"columns\")))"
   ]
  },
  {
   "cell_type": "code",
   "execution_count": 60,
   "id": "d81af45e",
   "metadata": {},
   "outputs": [
    {
     "data": {
      "text/html": [
       "<div>\n",
       "<style scoped>\n",
       "    .dataframe tbody tr th:only-of-type {\n",
       "        vertical-align: middle;\n",
       "    }\n",
       "\n",
       "    .dataframe tbody tr th {\n",
       "        vertical-align: top;\n",
       "    }\n",
       "\n",
       "    .dataframe thead th {\n",
       "        text-align: right;\n",
       "    }\n",
       "</style>\n",
       "<table border=\"1\" class=\"dataframe\">\n",
       "  <thead>\n",
       "    <tr style=\"text-align: right;\">\n",
       "      <th></th>\n",
       "      <th>switches</th>\n",
       "      <th>occurrences</th>\n",
       "      <th>layout</th>\n",
       "    </tr>\n",
       "  </thead>\n",
       "  <tbody>\n",
       "    <tr>\n",
       "      <th>0</th>\n",
       "      <td>switches &lt;= 1</td>\n",
       "      <td>1</td>\n",
       "      <td>rows</td>\n",
       "    </tr>\n",
       "    <tr>\n",
       "      <th>1</th>\n",
       "      <td>switches &lt;= 1</td>\n",
       "      <td>1</td>\n",
       "      <td>rows</td>\n",
       "    </tr>\n",
       "    <tr>\n",
       "      <th>2</th>\n",
       "      <td>switches &lt;= 1</td>\n",
       "      <td>1</td>\n",
       "      <td>rows</td>\n",
       "    </tr>\n",
       "    <tr>\n",
       "      <th>3</th>\n",
       "      <td>switches &lt;= 1</td>\n",
       "      <td>1</td>\n",
       "      <td>rows</td>\n",
       "    </tr>\n",
       "    <tr>\n",
       "      <th>4</th>\n",
       "      <td>switches &lt;= 1</td>\n",
       "      <td>1</td>\n",
       "      <td>rows</td>\n",
       "    </tr>\n",
       "    <tr>\n",
       "      <th>...</th>\n",
       "      <td>...</td>\n",
       "      <td>...</td>\n",
       "      <td>...</td>\n",
       "    </tr>\n",
       "    <tr>\n",
       "      <th>1043</th>\n",
       "      <td>switches &lt;= 1</td>\n",
       "      <td>1</td>\n",
       "      <td>columns</td>\n",
       "    </tr>\n",
       "    <tr>\n",
       "      <th>1044</th>\n",
       "      <td>switches &lt;= 1</td>\n",
       "      <td>1</td>\n",
       "      <td>columns</td>\n",
       "    </tr>\n",
       "    <tr>\n",
       "      <th>1045</th>\n",
       "      <td>switches &lt;= 1</td>\n",
       "      <td>1</td>\n",
       "      <td>columns</td>\n",
       "    </tr>\n",
       "    <tr>\n",
       "      <th>1046</th>\n",
       "      <td>switches &lt;= 1</td>\n",
       "      <td>1</td>\n",
       "      <td>columns</td>\n",
       "    </tr>\n",
       "    <tr>\n",
       "      <th>1047</th>\n",
       "      <td>switches &lt;= 1</td>\n",
       "      <td>1</td>\n",
       "      <td>columns</td>\n",
       "    </tr>\n",
       "  </tbody>\n",
       "</table>\n",
       "<p>1048 rows × 3 columns</p>\n",
       "</div>"
      ],
      "text/plain": [
       "           switches occurrences   layout\n",
       "0     switches <= 1           1     rows\n",
       "1     switches <= 1           1     rows\n",
       "2     switches <= 1           1     rows\n",
       "3     switches <= 1           1     rows\n",
       "4     switches <= 1           1     rows\n",
       "...             ...         ...      ...\n",
       "1043  switches <= 1           1  columns\n",
       "1044  switches <= 1           1  columns\n",
       "1045  switches <= 1           1  columns\n",
       "1046  switches <= 1           1  columns\n",
       "1047  switches <= 1           1  columns\n",
       "\n",
       "[1048 rows x 3 columns]"
      ]
     },
     "execution_count": 60,
     "metadata": {},
     "output_type": "execute_result"
    }
   ],
   "source": [
    "df_results = pd.DataFrame(columns=[\"switches\", \"occurrences\", \"layout\"])\n",
    "\n",
    "for row_switches in pd.Series(num_switches_high_level(df_selections, \"rows\")):\n",
    "    if row_switches > 1:\n",
    "        df_results.loc[len(df_results.index)] = [\"switches > 1\", 1, \"rows\"]\n",
    "    else:\n",
    "        df_results.loc[len(df_results.index)] = [\"switches <= 1\", 1, \"rows\"]\n",
    "        \n",
    "for column_switches in pd.Series(num_switches_high_level(df_selections, \"columns\")):\n",
    "    if column_switches > 1:\n",
    "        df_results.loc[len(df_results.index)] = [\"switches > 1\", 1, \"columns\"]\n",
    "    else:\n",
    "        df_results.loc[len(df_results.index)] = [\"switches <= 1\", 1, \"columns\"]\n",
    "\n",
    "df_results"
   ]
  },
  {
   "cell_type": "code",
   "execution_count": 61,
   "id": "8b9efd6a",
   "metadata": {},
   "outputs": [
    {
     "data": {
      "text/html": [
       "<div>\n",
       "<style scoped>\n",
       "    .dataframe tbody tr th:only-of-type {\n",
       "        vertical-align: middle;\n",
       "    }\n",
       "\n",
       "    .dataframe tbody tr th {\n",
       "        vertical-align: top;\n",
       "    }\n",
       "\n",
       "    .dataframe thead th {\n",
       "        text-align: right;\n",
       "    }\n",
       "</style>\n",
       "<table border=\"1\" class=\"dataframe\">\n",
       "  <thead>\n",
       "    <tr style=\"text-align: right;\">\n",
       "      <th>switches</th>\n",
       "      <th>switches &lt;= 1</th>\n",
       "      <th>switches &gt; 1</th>\n",
       "    </tr>\n",
       "    <tr>\n",
       "      <th>layout</th>\n",
       "      <th></th>\n",
       "      <th></th>\n",
       "    </tr>\n",
       "  </thead>\n",
       "  <tbody>\n",
       "    <tr>\n",
       "      <th>columns</th>\n",
       "      <td>408</td>\n",
       "      <td>141</td>\n",
       "    </tr>\n",
       "    <tr>\n",
       "      <th>rows</th>\n",
       "      <td>455</td>\n",
       "      <td>44</td>\n",
       "    </tr>\n",
       "  </tbody>\n",
       "</table>\n",
       "</div>"
      ],
      "text/plain": [
       "switches  switches <= 1  switches > 1\n",
       "layout                               \n",
       "columns             408           141\n",
       "rows                455            44"
      ]
     },
     "execution_count": 61,
     "metadata": {},
     "output_type": "execute_result"
    }
   ],
   "source": [
    "cont = pd.crosstab(df_results.switches, df_results.layout).T\n",
    "cont"
   ]
  },
  {
   "cell_type": "code",
   "execution_count": 62,
   "id": "12a50e08",
   "metadata": {},
   "outputs": [
    {
     "data": {
      "text/html": [
       "<div>\n",
       "<style scoped>\n",
       "    .dataframe tbody tr th:only-of-type {\n",
       "        vertical-align: middle;\n",
       "    }\n",
       "\n",
       "    .dataframe tbody tr th {\n",
       "        vertical-align: top;\n",
       "    }\n",
       "\n",
       "    .dataframe thead th {\n",
       "        text-align: right;\n",
       "    }\n",
       "</style>\n",
       "<table border=\"1\" class=\"dataframe\">\n",
       "  <thead>\n",
       "    <tr style=\"text-align: right;\">\n",
       "      <th>switches</th>\n",
       "      <th>switches &lt;= 1</th>\n",
       "      <th>switches &gt; 1</th>\n",
       "    </tr>\n",
       "    <tr>\n",
       "      <th>layout</th>\n",
       "      <th></th>\n",
       "      <th></th>\n",
       "    </tr>\n",
       "  </thead>\n",
       "  <tbody>\n",
       "    <tr>\n",
       "      <th>columns</th>\n",
       "      <td>74.3</td>\n",
       "      <td>25.7</td>\n",
       "    </tr>\n",
       "    <tr>\n",
       "      <th>rows</th>\n",
       "      <td>91.2</td>\n",
       "      <td>8.8</td>\n",
       "    </tr>\n",
       "  </tbody>\n",
       "</table>\n",
       "</div>"
      ],
      "text/plain": [
       "switches  switches <= 1  switches > 1\n",
       "layout                               \n",
       "columns            74.3          25.7\n",
       "rows               91.2           8.8"
      ]
     },
     "execution_count": 62,
     "metadata": {},
     "output_type": "execute_result"
    }
   ],
   "source": [
    "np.round(cont / np.stack([cont.sum(axis=1).values, cont.sum(axis=1).values]).T * 100, 1)"
   ]
  },
  {
   "cell_type": "code",
   "execution_count": 63,
   "id": "a992bdac",
   "metadata": {},
   "outputs": [
    {
     "name": "stdout",
     "output_type": "stream",
     "text": [
      "columns rows (7.151927606996008, 8.55676951305154e-13)\n",
      "rows columns (-7.151927606996008, 8.55676951305154e-13)\n"
     ]
    }
   ],
   "source": [
    "from statsmodels.stats.proportion import proportions_ztest\n",
    "for c1 in cont.index.unique():\n",
    "    for c2 in cont.index.unique():\n",
    "        if c1 != c2:\n",
    "            cx = cont.loc[c1]\n",
    "            cy = cont.loc[c2]\n",
    "            succ = [cx[1], cy[1]]\n",
    "            nobs = [cx[0] + cx[1], cy[0] + cy[1]]\n",
    "            print(c1, c2, proportions_ztest(succ, nobs))"
   ]
  },
  {
   "cell_type": "code",
   "execution_count": 65,
   "id": "5f6753b3",
   "metadata": {},
   "outputs": [
    {
     "data": {
      "text/html": [
       "<div>\n",
       "<style scoped>\n",
       "    .dataframe tbody tr th:only-of-type {\n",
       "        vertical-align: middle;\n",
       "    }\n",
       "\n",
       "    .dataframe tbody tr th {\n",
       "        vertical-align: top;\n",
       "    }\n",
       "\n",
       "    .dataframe thead th {\n",
       "        text-align: right;\n",
       "    }\n",
       "</style>\n",
       "<table border=\"1\" class=\"dataframe\">\n",
       "  <thead>\n",
       "    <tr style=\"text-align: right;\">\n",
       "      <th></th>\n",
       "      <th>switches</th>\n",
       "      <th>occurrences</th>\n",
       "      <th>layout</th>\n",
       "    </tr>\n",
       "  </thead>\n",
       "  <tbody>\n",
       "    <tr>\n",
       "      <th>0</th>\n",
       "      <td>switches &lt;= 1</td>\n",
       "      <td>1</td>\n",
       "      <td>row-single-scrollable</td>\n",
       "    </tr>\n",
       "    <tr>\n",
       "      <th>1</th>\n",
       "      <td>switches &lt;= 1</td>\n",
       "      <td>1</td>\n",
       "      <td>row-single-scrollable</td>\n",
       "    </tr>\n",
       "    <tr>\n",
       "      <th>2</th>\n",
       "      <td>switches &lt;= 1</td>\n",
       "      <td>1</td>\n",
       "      <td>row-single-scrollable</td>\n",
       "    </tr>\n",
       "    <tr>\n",
       "      <th>3</th>\n",
       "      <td>switches &gt; 1</td>\n",
       "      <td>1</td>\n",
       "      <td>row-single-scrollable</td>\n",
       "    </tr>\n",
       "    <tr>\n",
       "      <th>4</th>\n",
       "      <td>switches &lt;= 1</td>\n",
       "      <td>1</td>\n",
       "      <td>row-single-scrollable</td>\n",
       "    </tr>\n",
       "    <tr>\n",
       "      <th>...</th>\n",
       "      <td>...</td>\n",
       "      <td>...</td>\n",
       "      <td>...</td>\n",
       "    </tr>\n",
       "    <tr>\n",
       "      <th>1044</th>\n",
       "      <td>switches &lt;= 1</td>\n",
       "      <td>1</td>\n",
       "      <td>row-single</td>\n",
       "    </tr>\n",
       "    <tr>\n",
       "      <th>1045</th>\n",
       "      <td>switches &lt;= 1</td>\n",
       "      <td>1</td>\n",
       "      <td>row-single</td>\n",
       "    </tr>\n",
       "    <tr>\n",
       "      <th>1046</th>\n",
       "      <td>switches &lt;= 1</td>\n",
       "      <td>1</td>\n",
       "      <td>row-single</td>\n",
       "    </tr>\n",
       "    <tr>\n",
       "      <th>1047</th>\n",
       "      <td>switches &gt; 1</td>\n",
       "      <td>1</td>\n",
       "      <td>row-single</td>\n",
       "    </tr>\n",
       "    <tr>\n",
       "      <th>1048</th>\n",
       "      <td>switches &lt;= 1</td>\n",
       "      <td>1</td>\n",
       "      <td>row-single</td>\n",
       "    </tr>\n",
       "  </tbody>\n",
       "</table>\n",
       "<p>1049 rows × 3 columns</p>\n",
       "</div>"
      ],
      "text/plain": [
       "           switches occurrences                 layout\n",
       "0     switches <= 1           1  row-single-scrollable\n",
       "1     switches <= 1           1  row-single-scrollable\n",
       "2     switches <= 1           1  row-single-scrollable\n",
       "3      switches > 1           1  row-single-scrollable\n",
       "4     switches <= 1           1  row-single-scrollable\n",
       "...             ...         ...                    ...\n",
       "1044  switches <= 1           1             row-single\n",
       "1045  switches <= 1           1             row-single\n",
       "1046  switches <= 1           1             row-single\n",
       "1047   switches > 1           1             row-single\n",
       "1048  switches <= 1           1             row-single\n",
       "\n",
       "[1049 rows x 3 columns]"
      ]
     },
     "execution_count": 65,
     "metadata": {},
     "output_type": "execute_result"
    }
   ],
   "source": [
    "df_results = pd.DataFrame(columns=[\"switches\", \"occurrences\", \"layout\"])\n",
    "\n",
    "for layout in df_selections.result_layout.unique():\n",
    "    for switches in pd.Series(num_switches(df_selections, layout)):\n",
    "        if switches > 1:\n",
    "            df_results.loc[len(df_results.index)] = [\"switches > 1\", 1, layout]\n",
    "        else:\n",
    "            df_results.loc[len(df_results.index)] = [\"switches <= 1\", 1, layout]\n",
    "df_results"
   ]
  },
  {
   "cell_type": "code",
   "execution_count": 66,
   "id": "222221b5",
   "metadata": {},
   "outputs": [
    {
     "data": {
      "text/html": [
       "<div>\n",
       "<style scoped>\n",
       "    .dataframe tbody tr th:only-of-type {\n",
       "        vertical-align: middle;\n",
       "    }\n",
       "\n",
       "    .dataframe tbody tr th {\n",
       "        vertical-align: top;\n",
       "    }\n",
       "\n",
       "    .dataframe thead th {\n",
       "        text-align: right;\n",
       "    }\n",
       "</style>\n",
       "<table border=\"1\" class=\"dataframe\">\n",
       "  <thead>\n",
       "    <tr style=\"text-align: right;\">\n",
       "      <th>switches</th>\n",
       "      <th>switches &lt;= 1</th>\n",
       "      <th>switches &gt; 1</th>\n",
       "    </tr>\n",
       "    <tr>\n",
       "      <th>layout</th>\n",
       "      <th></th>\n",
       "      <th></th>\n",
       "    </tr>\n",
       "  </thead>\n",
       "  <tbody>\n",
       "    <tr>\n",
       "      <th>column-single</th>\n",
       "      <td>127</td>\n",
       "      <td>68</td>\n",
       "    </tr>\n",
       "    <tr>\n",
       "      <th>columns</th>\n",
       "      <td>142</td>\n",
       "      <td>42</td>\n",
       "    </tr>\n",
       "    <tr>\n",
       "      <th>max-columns</th>\n",
       "      <td>139</td>\n",
       "      <td>31</td>\n",
       "    </tr>\n",
       "    <tr>\n",
       "      <th>row-single</th>\n",
       "      <td>151</td>\n",
       "      <td>20</td>\n",
       "    </tr>\n",
       "    <tr>\n",
       "      <th>row-single-scrollable</th>\n",
       "      <td>138</td>\n",
       "      <td>13</td>\n",
       "    </tr>\n",
       "    <tr>\n",
       "      <th>rows</th>\n",
       "      <td>167</td>\n",
       "      <td>11</td>\n",
       "    </tr>\n",
       "  </tbody>\n",
       "</table>\n",
       "</div>"
      ],
      "text/plain": [
       "switches               switches <= 1  switches > 1\n",
       "layout                                            \n",
       "column-single                    127            68\n",
       "columns                          142            42\n",
       "max-columns                      139            31\n",
       "row-single                       151            20\n",
       "row-single-scrollable            138            13\n",
       "rows                             167            11"
      ]
     },
     "execution_count": 66,
     "metadata": {},
     "output_type": "execute_result"
    }
   ],
   "source": [
    "cont2 = pd.crosstab(df_results.switches, df_results.layout).T\n",
    "cont2"
   ]
  },
  {
   "cell_type": "code",
   "execution_count": 68,
   "id": "47ae7b1e",
   "metadata": {},
   "outputs": [
    {
     "data": {
      "text/html": [
       "<div>\n",
       "<style scoped>\n",
       "    .dataframe tbody tr th:only-of-type {\n",
       "        vertical-align: middle;\n",
       "    }\n",
       "\n",
       "    .dataframe tbody tr th {\n",
       "        vertical-align: top;\n",
       "    }\n",
       "\n",
       "    .dataframe thead th {\n",
       "        text-align: right;\n",
       "    }\n",
       "</style>\n",
       "<table border=\"1\" class=\"dataframe\">\n",
       "  <thead>\n",
       "    <tr style=\"text-align: right;\">\n",
       "      <th>switches</th>\n",
       "      <th>switches &lt;= 1</th>\n",
       "      <th>switches &gt; 1</th>\n",
       "    </tr>\n",
       "    <tr>\n",
       "      <th>layout</th>\n",
       "      <th></th>\n",
       "      <th></th>\n",
       "    </tr>\n",
       "  </thead>\n",
       "  <tbody>\n",
       "    <tr>\n",
       "      <th>column-single</th>\n",
       "      <td>65.1</td>\n",
       "      <td>34.9</td>\n",
       "    </tr>\n",
       "    <tr>\n",
       "      <th>columns</th>\n",
       "      <td>77.2</td>\n",
       "      <td>22.8</td>\n",
       "    </tr>\n",
       "    <tr>\n",
       "      <th>max-columns</th>\n",
       "      <td>81.8</td>\n",
       "      <td>18.2</td>\n",
       "    </tr>\n",
       "    <tr>\n",
       "      <th>row-single</th>\n",
       "      <td>88.3</td>\n",
       "      <td>11.7</td>\n",
       "    </tr>\n",
       "    <tr>\n",
       "      <th>row-single-scrollable</th>\n",
       "      <td>91.4</td>\n",
       "      <td>8.6</td>\n",
       "    </tr>\n",
       "    <tr>\n",
       "      <th>rows</th>\n",
       "      <td>93.8</td>\n",
       "      <td>6.2</td>\n",
       "    </tr>\n",
       "  </tbody>\n",
       "</table>\n",
       "</div>"
      ],
      "text/plain": [
       "switches               switches <= 1  switches > 1\n",
       "layout                                            \n",
       "column-single                   65.1          34.9\n",
       "columns                         77.2          22.8\n",
       "max-columns                     81.8          18.2\n",
       "row-single                      88.3          11.7\n",
       "row-single-scrollable           91.4           8.6\n",
       "rows                            93.8           6.2"
      ]
     },
     "execution_count": 68,
     "metadata": {},
     "output_type": "execute_result"
    }
   ],
   "source": [
    "np.round(cont2 / np.stack([cont2.sum(axis=1).values, cont2.sum(axis=1).values]).T * 100, 1)"
   ]
  },
  {
   "cell_type": "code",
   "execution_count": 70,
   "id": "57865656",
   "metadata": {},
   "outputs": [
    {
     "name": "stdout",
     "output_type": "stream",
     "text": [
      "column-single columns (2.582293890669529, 0.009814596681364664)\n",
      "column-single max-columns (3.566085627009654, 0.00036235302119809617)\n",
      "column-single row-single (5.176408732646106, 2.2619762505859593e-07)\n",
      "column-single row-single-scrollable (5.72156496996728, 1.0554728111981278e-08)\n",
      "column-single rows (6.774162815230879, 1.2512869607938399e-11)\n",
      "columns column-single (-2.582293890669529, 0.009814596681364664)\n",
      "columns max-columns (1.0666160358329162, 0.2861452562551501)\n",
      "columns row-single (2.7599022253303263, 0.005781866304199897)\n",
      "columns row-single-scrollable (3.495117282666145, 0.0004738534856907359)\n",
      "columns rows (4.478927630374807, 7.501895982082622e-06)\n",
      "max-columns column-single (-3.566085627009654, 0.00036235302119809617)\n",
      "max-columns columns (-1.0666160358329162, 0.2861452562551501)\n",
      "max-columns row-single (1.6929834143533096, 0.09045862425096317)\n",
      "max-columns row-single-scrollable (2.5029150198834516, 0.012317511563542344)\n",
      "max-columns rows (3.450838473432558, 0.0005588479271761014)\n",
      "row-single column-single (-5.176408732646106, 2.2619762505859593e-07)\n",
      "row-single columns (-2.7599022253303263, 0.005781866304199897)\n",
      "row-single max-columns (-1.6929834143533096, 0.09045862425096317)\n",
      "row-single row-single-scrollable (0.9113681291421726, 0.36210144037684533)\n",
      "row-single rows (1.810760225434477, 0.07017797569753005)\n",
      "row-single-scrollable column-single (-5.72156496996728, 1.0554728111981278e-08)\n",
      "row-single-scrollable columns (-3.495117282666145, 0.0004738534856907359)\n",
      "row-single-scrollable max-columns (-2.5029150198834516, 0.012317511563542344)\n",
      "row-single-scrollable row-single (-0.9113681291421726, 0.36210144037684533)\n",
      "row-single-scrollable rows (0.8444172855818811, 0.3984362664822988)\n",
      "rows column-single (-6.774162815230879, 1.2512869607938399e-11)\n",
      "rows columns (-4.478927630374807, 7.501895982082622e-06)\n",
      "rows max-columns (-3.450838473432558, 0.0005588479271761014)\n",
      "rows row-single (-1.810760225434477, 0.07017797569753005)\n",
      "rows row-single-scrollable (-0.8444172855818811, 0.3984362664822988)\n"
     ]
    }
   ],
   "source": [
    "for c1 in cont2.index.unique():\n",
    "    for c2 in cont2.index.unique():\n",
    "        if c1 != c2:\n",
    "            cx = cont2.loc[c1]\n",
    "            cy = cont2.loc[c2]\n",
    "            succ = [cx[1], cy[1]]\n",
    "            nobs = [cx[0] + cx[1], cy[0] + cy[1]]\n",
    "            print(c1, c2, proportions_ztest(succ, nobs))"
   ]
  }
 ],
 "metadata": {
  "kernelspec": {
   "display_name": "Python 3 (ipykernel)",
   "language": "python",
   "name": "python3"
  },
  "language_info": {
   "codemirror_mode": {
    "name": "ipython",
    "version": 3
   },
   "file_extension": ".py",
   "mimetype": "text/x-python",
   "name": "python",
   "nbconvert_exporter": "python",
   "pygments_lexer": "ipython3",
   "version": "3.9.6"
  }
 },
 "nbformat": 4,
 "nbformat_minor": 5
}
