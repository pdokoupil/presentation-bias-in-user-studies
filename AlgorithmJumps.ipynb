{
 "cells": [
  {
   "cell_type": "code",
   "execution_count": 1,
   "id": "2c5a8487",
   "metadata": {
    "scrolled": true
   },
   "outputs": [],
   "source": [
    "import pandas as pd\n",
    "import numpy as np\n",
    "import os\n",
    "import json\n",
    "from scipy.stats import fisher_exact"
   ]
  },
  {
   "cell_type": "markdown",
   "id": "f372b6b4",
   "metadata": {},
   "source": [
    "# Load data"
   ]
  },
  {
   "cell_type": "code",
   "execution_count": 2,
   "id": "2dbaf2c2",
   "metadata": {},
   "outputs": [],
   "source": [
    "import pickle\n",
    "infile = open(\"interaction_data.pkl\",'rb')\n",
    "d = pickle.load(infile)\n",
    "infile.close()\n",
    "\n",
    "infile = open(\"phase3_selections.pkl\",'rb')\n",
    "selected_item_interactions = pickle.load(infile)\n",
    "infile.close()\n",
    "\n",
    "infile = open(\"df_completed_participation.pkl\",'rb')\n",
    "df_completed_participation = pickle.load(infile)\n",
    "infile.close()"
   ]
  },
  {
   "cell_type": "code",
   "execution_count": 3,
   "id": "a7d5e913",
   "metadata": {},
   "outputs": [],
   "source": [
    "def set_iteration(row):\n",
    "    if row.interaction_type == \"iteration-started\" or row.interaction_type == \"iteration-ended\":\n",
    "        row['iteration'] = json.loads(row.data)['iteration']\n",
    "    else:\n",
    "        row['iteration'] = None\n",
    "    return row\n",
    "\n",
    "def set_result_layout(row):\n",
    "    if row.interaction_type == \"iteration-started\":\n",
    "        row['result_layout'] = json.loads(row.data)['result_layout']\n",
    "    else:\n",
    "        row['result_layout'] = None\n",
    "    return row\n",
    "\n",
    "def set_mapping(row):\n",
    "    if row.interaction_type == 'iteration-started':\n",
    "        dat = json.loads(row.data)['algorithm_assignment'].values()\n",
    "        for mapping in dat:\n",
    "            row[mapping['name'].upper()] = mapping['order']\n",
    "    else:\n",
    "        row['GAMMA'] = None\n",
    "        row['DELTA'] = None\n",
    "    return row"
   ]
  },
  {
   "cell_type": "code",
   "execution_count": 4,
   "id": "708ffe40",
   "metadata": {},
   "outputs": [],
   "source": [
    "d = d.apply(set_iteration, axis=1).apply(set_result_layout, axis=1).apply(set_mapping, axis=1)"
   ]
  },
  {
   "cell_type": "code",
   "execution_count": 5,
   "id": "25e5bbeb",
   "metadata": {},
   "outputs": [],
   "source": [
    "d['iteration'] = d.groupby(['participation'], sort=False)['iteration'].apply(lambda x: x.ffill())"
   ]
  },
  {
   "cell_type": "code",
   "execution_count": 6,
   "id": "58dd9c68",
   "metadata": {},
   "outputs": [],
   "source": [
    "d['iteration'] = d.groupby(['participation'], sort=False)['iteration'].apply(lambda x: x.ffill())\n",
    "d['result_layout'] = d.groupby(['participation'], sort=False)['result_layout'].apply(lambda x: x.ffill())\n",
    "d['GAMMA'] = d.groupby(['participation'], sort=False)['GAMMA'].apply(lambda x: x.ffill())\n",
    "d['DELTA'] = d.groupby(['participation'], sort=False)['DELTA'].apply(lambda x: x.ffill())"
   ]
  },
  {
   "cell_type": "code",
   "execution_count": 7,
   "id": "3b1832ce",
   "metadata": {
    "scrolled": true
   },
   "outputs": [],
   "source": [
    "d = d[d.iteration.notna()]"
   ]
  },
  {
   "cell_type": "code",
   "execution_count": 8,
   "id": "5b3a21a0",
   "metadata": {},
   "outputs": [],
   "source": [
    "def set_variant(x):\n",
    "    if x.interaction_type == 'selected-item' or x.interaction_type == 'deselected-item':\n",
    "        dat = json.loads(x.data)[x.interaction_type.replace('-', '_')]\n",
    "        if 'variant' in dat:\n",
    "            x['variant'] = dat['variant']\n",
    "        else:\n",
    "            x['variant'] = None\n",
    "    else:\n",
    "        x['variant'] = None\n",
    "    return x\n",
    "\n",
    "def set_selected_item(x):\n",
    "    it = json.loads(x.data)\n",
    "    if 'selected_item' not in it:\n",
    "        if \"deselected_item\" in it:\n",
    "            it = it['deselected_item']\n",
    "        else:\n",
    "            x['selected_item'] = None\n",
    "            x['selected_item_coord'] = None\n",
    "            return x\n",
    "    else:\n",
    "        it = it['selected_item']\n",
    "    \n",
    "    algo = 'GAMMA'\n",
    "    assert x.variant == it['variant']\n",
    "    if x.variant == x.DELTA:\n",
    "        algo = 'DELTA'\n",
    "    it_name = f\"{algo}_{it['movie_idx']}\"\n",
    "    if it_name not in x['item_positions']:\n",
    "        x['selected_item'] = None\n",
    "        x['selected_item_coord'] = None\n",
    "        x['selected_item_abs_coord'] = None\n",
    "    else:\n",
    "        x['selected_item'] = it_name\n",
    "        x['selected_item_coord'] = x['item_positions'][x['selected_item']]\n",
    "        x['selected_item_abs_coord'] = get_abs_coord(x['selected_item_coord'], x['viewport'])\n",
    "    return x"
   ]
  },
  {
   "cell_type": "code",
   "execution_count": 9,
   "id": "3c02c8f4",
   "metadata": {},
   "outputs": [],
   "source": [
    "d = d.dropna()"
   ]
  },
  {
   "cell_type": "markdown",
   "id": "b4a51961",
   "metadata": {},
   "source": [
    "## Add high level layout information"
   ]
  },
  {
   "cell_type": "code",
   "execution_count": 10,
   "id": "156de563",
   "metadata": {},
   "outputs": [],
   "source": [
    "d.loc[:, \"high_level_layout\"] = d.result_layout.map(lambda x: \"rows\" if x in [\"rows\", \"row-single-scrollable\", \"row-single\"] else \"columns\")"
   ]
  },
  {
   "cell_type": "code",
   "execution_count": 11,
   "id": "fc5ed803",
   "metadata": {},
   "outputs": [],
   "source": [
    "d.loc[:, \"variant\"] = d[d.interaction_type == \"selected-item\"].data.map(lambda x: json.loads(x)[\"selected_item\"].get(\"variant\", -1))"
   ]
  },
  {
   "cell_type": "code",
   "execution_count": 49,
   "id": "19d99329",
   "metadata": {},
   "outputs": [],
   "source": [
    "df_selections = d[d.interaction_type == \"selected-item\"]"
   ]
  },
  {
   "cell_type": "code",
   "execution_count": 50,
   "id": "6841238a",
   "metadata": {},
   "outputs": [],
   "source": [
    "# Add selection order to each selection\n",
    "df_selections.loc[:, 'selection_order'] = df_selections.groupby([\"participation\",\"iteration\"]).cumcount()+1"
   ]
  },
  {
   "cell_type": "code",
   "execution_count": 14,
   "id": "b898e249",
   "metadata": {
    "scrolled": true
   },
   "outputs": [],
   "source": [
    "df_selections = df_selections.apply(set_variant, axis=1)\n",
    "df_selections = df_selections[df_selections.variant.notna()]\n",
    "\n",
    "df_selections.GAMMA = df_selections.GAMMA.astype(int)\n",
    "df_selections.DELTA = df_selections.DELTA.astype(int)\n",
    "df_selections.iteration = df_selections.iteration.astype(int)"
   ]
  },
  {
   "cell_type": "markdown",
   "id": "4351fdb1",
   "metadata": {},
   "source": [
    "## Analyze switches (JUMPS) per layout"
   ]
  },
  {
   "cell_type": "code",
   "execution_count": 15,
   "id": "4ad02235",
   "metadata": {},
   "outputs": [],
   "source": [
    "def num_switches(x, result_layout):\n",
    "    tmp = x[x.result_layout == result_layout]\n",
    "    tmp = tmp.groupby([\"participation\", \"iteration\"])\n",
    "    \n",
    "    switches = []\n",
    "    for _, row in tmp:\n",
    "        #if x[0] == 229:\n",
    "        #    print(f\"index = {x}\")\n",
    "        #    print(row[\"variant\"])\n",
    "        #    #print(row[\"variant\"].diff().sum(axis=0)) # Without abs we can see the direction of switch\n",
    "        switches.append(np.abs(row[\"variant\"].diff()).sum(axis=0))\n",
    "    return switches\n",
    "\n",
    "def num_switches_high_level(x, high_level_layout):\n",
    "    tmp = x[x.high_level_layout == high_level_layout]\n",
    "    tmp = tmp.groupby([\"participation\", \"iteration\"])\n",
    "    \n",
    "    switches = []\n",
    "    for _, row in tmp:\n",
    "        #if x[0] == 229:\n",
    "        #    print(f\"index = {x}\")\n",
    "        #    print(row[\"variant\"])\n",
    "        #    #print(row[\"variant\"].diff().sum(axis=0)) # Without abs we can see the direction of switch\n",
    "        switches.append(np.abs(row[\"variant\"].diff()).sum(axis=0))\n",
    "    return switches\n",
    "\n",
    "def plot_switches(x3, result_layout):\n",
    "    switches = num_switches(x3, result_layout)\n",
    "    #plt.title(f\"{result_layout} switches\")\n",
    "    \n",
    "    plt.hist(switches, bins=np.arange(np.array(switches).min(), np.array(switches).max()+1)-0.5, label=result_layout)\n",
    "    plt.xlim(xmin=-1.0, xmax = 12)\n",
    "    plt.xticks(np.arange(-1, 12, 1))\n",
    "    plt.legend()\n",
    "    \n",
    "    df_switches = pd.DataFrame(switches)\n",
    "    print(df_switches.describe())\n",
    "    print(f\"Rounded switches mean: {np.round(df_switches.mean(), 3)}\")"
   ]
  },
  {
   "cell_type": "code",
   "execution_count": 16,
   "id": "26c184c3",
   "metadata": {},
   "outputs": [
    {
     "name": "stdout",
     "output_type": "stream",
     "text": [
      "row-single-scrollable columns Ttest_indResult(statistic=-3.5885699265867697, pvalue=0.0003824242965081339)\n",
      "row-single-scrollable max-columns Ttest_indResult(statistic=-2.762499195965861, pvalue=0.006068794557634057)\n",
      "row-single-scrollable rows Ttest_indResult(statistic=0.13057013283085744, pvalue=0.896195658317338)\n",
      "row-single-scrollable column-single Ttest_indResult(statistic=-5.829897810258099, pvalue=1.2776836101838712e-08)\n",
      "row-single-scrollable row-single Ttest_indResult(statistic=-1.1503403690047156, pvalue=0.25086262042789736)\n",
      "columns row-single-scrollable Ttest_indResult(statistic=3.5885699265867697, pvalue=0.0003824242965081339)\n",
      "columns max-columns Ttest_indResult(statistic=1.0553076439259998, pvalue=0.2920084224051299)\n",
      "columns rows Ttest_indResult(statistic=3.996399851236159, pvalue=7.802872862926617e-05)\n",
      "columns column-single Ttest_indResult(statistic=-3.2267537563693347, pvalue=0.0013615410137098796)\n",
      "columns row-single Ttest_indResult(statistic=3.0669448735256024, pvalue=0.0023295000865271136)\n",
      "max-columns row-single-scrollable Ttest_indResult(statistic=2.762499195965861, pvalue=0.006068794557634057)\n",
      "max-columns columns Ttest_indResult(statistic=-1.0553076439259998, pvalue=0.2920084224051299)\n",
      "max-columns rows Ttest_indResult(statistic=3.113626614435656, pvalue=0.00200215215345511)\n",
      "max-columns column-single Ttest_indResult(statistic=-4.066130735358446, pvalue=5.864901258322892e-05)\n",
      "max-columns row-single Ttest_indResult(statistic=2.083572643489427, pvalue=0.037947772563808005)\n",
      "rows row-single-scrollable Ttest_indResult(statistic=-0.13057013283085744, pvalue=0.896195658317338)\n",
      "rows columns Ttest_indResult(statistic=-3.996399851236159, pvalue=7.802872862926617e-05)\n",
      "rows max-columns Ttest_indResult(statistic=-3.113626614435656, pvalue=0.00200215215345511)\n",
      "rows column-single Ttest_indResult(statistic=-6.399822706718218, pvalue=4.698249225681219e-10)\n",
      "rows row-single Ttest_indResult(statistic=-1.4083258362823368, pvalue=0.15992992863859556)\n",
      "column-single row-single-scrollable Ttest_indResult(statistic=5.829897810258099, pvalue=1.2776836101838712e-08)\n",
      "column-single columns Ttest_indResult(statistic=3.2267537563693347, pvalue=0.0013615410137098796)\n",
      "column-single max-columns Ttest_indResult(statistic=4.066130735358446, pvalue=5.864901258322892e-05)\n",
      "column-single rows Ttest_indResult(statistic=6.399822706718218, pvalue=4.698249225681219e-10)\n",
      "column-single row-single Ttest_indResult(statistic=5.680538579672655, pvalue=2.7514271937197366e-08)\n",
      "row-single row-single-scrollable Ttest_indResult(statistic=1.1503403690047156, pvalue=0.25086262042789736)\n",
      "row-single columns Ttest_indResult(statistic=-3.0669448735256024, pvalue=0.0023295000865271136)\n",
      "row-single max-columns Ttest_indResult(statistic=-2.083572643489427, pvalue=0.037947772563808005)\n",
      "row-single rows Ttest_indResult(statistic=1.4083258362823368, pvalue=0.15992992863859556)\n",
      "row-single column-single Ttest_indResult(statistic=-5.680538579672655, pvalue=2.7514271937197366e-08)\n"
     ]
    }
   ],
   "source": [
    "import numpy as np\n",
    "import matplotlib.pyplot as plt\n",
    "from scipy.stats import ttest_ind, ttest_rel\n",
    "for i in df_selections.result_layout.unique():\n",
    "    for j in df_selections.result_layout.unique():\n",
    "        if i!=j:\n",
    "            dx = num_switches(df_selections, i)\n",
    "            dy = num_switches(df_selections, j)\n",
    "            print(i,j, ttest_ind(dx,dy))"
   ]
  },
  {
   "cell_type": "code",
   "execution_count": 17,
   "id": "90b85b0e",
   "metadata": {},
   "outputs": [
    {
     "name": "stdout",
     "output_type": "stream",
     "text": [
      "rows columns Ttest_indResult(statistic=-7.356203876057192, pvalue=3.816603389185729e-13)\n",
      "columns rows Ttest_indResult(statistic=7.356203876057192, pvalue=3.816603389185729e-13)\n"
     ]
    }
   ],
   "source": [
    "from scipy.stats import ttest_ind, ttest_rel\n",
    "for i in df_selections.high_level_layout.unique():\n",
    "    for j in df_selections.high_level_layout.unique():\n",
    "        if i!=j:\n",
    "            dx = num_switches_high_level(df_selections, i)\n",
    "            dy = num_switches_high_level(df_selections, j)\n",
    "            print(i,j, ttest_ind(dx,dy))"
   ]
  },
  {
   "cell_type": "code",
   "execution_count": 18,
   "id": "b4c741d3",
   "metadata": {},
   "outputs": [
    {
     "name": "stdout",
     "output_type": "stream",
     "text": [
      "                0\n",
      "count  195.000000\n",
      "mean     1.943590\n",
      "std      2.051376\n",
      "min      0.000000\n",
      "25%      1.000000\n",
      "50%      1.000000\n",
      "75%      2.500000\n",
      "max     11.000000\n",
      "Rounded switches mean: 0    1.944\n",
      "dtype: float64\n"
     ]
    },
    {
     "data": {
      "image/png": "[encoded data removed]",
      "text/plain": [
       "<Figure size 432x288 with 1 Axes>"
      ]
     },
     "metadata": {
      "needs_background": "light"
     },
     "output_type": "display_data"
    }
   ],
   "source": [
    "plot_switches(df_selections, \"column-single\")"
   ]
  },
  {
   "cell_type": "code",
   "execution_count": 19,
   "id": "0eb88f46",
   "metadata": {},
   "outputs": [
    {
     "name": "stdout",
     "output_type": "stream",
     "text": [
      "                0\n",
      "count  184.000000\n",
      "mean     1.364130\n",
      "std      1.352196\n",
      "min      0.000000\n",
      "25%      1.000000\n",
      "50%      1.000000\n",
      "75%      1.000000\n",
      "max      9.000000\n",
      "Rounded switches mean: 0    1.364\n",
      "dtype: float64\n"
     ]
    },
    {
     "data": {
      "image/png": "[encoded data removed]",
      "text/plain": [
       "<Figure size 432x288 with 1 Axes>"
      ]
     },
     "metadata": {
      "needs_background": "light"
     },
     "output_type": "display_data"
    }
   ],
   "source": [
    "plot_switches(df_selections, \"columns\")"
   ]
  },
  {
   "cell_type": "code",
   "execution_count": 20,
   "id": "6fa6c769",
   "metadata": {},
   "outputs": [
    {
     "name": "stdout",
     "output_type": "stream",
     "text": [
      "                0\n",
      "count  170.000000\n",
      "mean     1.223529\n",
      "std      1.134468\n",
      "min      0.000000\n",
      "25%      1.000000\n",
      "50%      1.000000\n",
      "75%      1.000000\n",
      "max      9.000000\n",
      "Rounded switches mean: 0    1.224\n",
      "dtype: float64\n"
     ]
    },
    {
     "data": {
      "image/png": "[encoded data removed]",
      "text/plain": [
       "<Figure size 432x288 with 1 Axes>"
      ]
     },
     "metadata": {
      "needs_background": "light"
     },
     "output_type": "display_data"
    }
   ],
   "source": [
    "plot_switches(df_selections, \"max-columns\")"
   ]
  },
  {
   "cell_type": "code",
   "execution_count": 21,
   "id": "42454e5c",
   "metadata": {},
   "outputs": [
    {
     "name": "stdout",
     "output_type": "stream",
     "text": [
      "                0\n",
      "count  178.000000\n",
      "mean     0.932584\n",
      "std      0.505288\n",
      "min      0.000000\n",
      "25%      1.000000\n",
      "50%      1.000000\n",
      "75%      1.000000\n",
      "max      3.000000\n",
      "Rounded switches mean: 0    0.933\n",
      "dtype: float64\n"
     ]
    },
    {
     "data": {
      "image/png": "[encoded data removed]",
      "text/plain": [
       "<Figure size 432x288 with 1 Axes>"
      ]
     },
     "metadata": {
      "needs_background": "light"
     },
     "output_type": "display_data"
    }
   ],
   "source": [
    "plot_switches(df_selections, \"rows\")"
   ]
  },
  {
   "cell_type": "code",
   "execution_count": 22,
   "id": "393e5b34",
   "metadata": {},
   "outputs": [
    {
     "name": "stdout",
     "output_type": "stream",
     "text": [
      "                0\n",
      "count  171.000000\n",
      "mean     1.017544\n",
      "std      0.618097\n",
      "min      0.000000\n",
      "25%      1.000000\n",
      "50%      1.000000\n",
      "75%      1.000000\n",
      "max      4.000000\n",
      "Rounded switches mean: 0    1.018\n",
      "dtype: float64\n"
     ]
    },
    {
     "data": {
      "image/png": "[encoded data removed]",
      "text/plain": [
       "<Figure size 432x288 with 1 Axes>"
      ]
     },
     "metadata": {
      "needs_background": "light"
     },
     "output_type": "display_data"
    }
   ],
   "source": [
    "plot_switches(df_selections, \"row-single\")"
   ]
  },
  {
   "cell_type": "code",
   "execution_count": 23,
   "id": "6109e93e",
   "metadata": {},
   "outputs": [
    {
     "name": "stdout",
     "output_type": "stream",
     "text": [
      "                0\n",
      "count  151.000000\n",
      "mean     0.940397\n",
      "std      0.580021\n",
      "min      0.000000\n",
      "25%      1.000000\n",
      "50%      1.000000\n",
      "75%      1.000000\n",
      "max      3.000000\n",
      "Rounded switches mean: 0    0.94\n",
      "dtype: float64\n"
     ]
    },
    {
     "data": {
      "image/png": "[encoded data removed]",
      "text/plain": [
       "<Figure size 432x288 with 1 Axes>"
      ]
     },
     "metadata": {
      "needs_background": "light"
     },
     "output_type": "display_data"
    }
   ],
   "source": [
    "plot_switches(df_selections, \"row-single-scrollable\")"
   ]
  },
  {
   "cell_type": "code",
   "execution_count": 24,
   "id": "36454006",
   "metadata": {},
   "outputs": [
    {
     "data": {
      "text/plain": [
       "<AxesSubplot:title={'center':'Number of switches column-single'}>"
      ]
     },
     "execution_count": 24,
     "metadata": {},
     "output_type": "execute_result"
    },
    {
     "data": {
      "image/png": "[encoded data removed]",
      "text/plain": [
       "<Figure size 432x288 with 1 Axes>"
      ]
     },
     "metadata": {
      "needs_background": "light"
     },
     "output_type": "display_data"
    }
   ],
   "source": [
    "pd.Series(num_switches(df_selections, \"column-single\")).value_counts().plot(kind='bar', title=\"Number of switches column-single\")"
   ]
  },
  {
   "cell_type": "code",
   "execution_count": 25,
   "id": "79ce7fcd",
   "metadata": {},
   "outputs": [
    {
     "data": {
      "text/plain": [
       "<AxesSubplot:title={'center':'Number of switches columns'}>"
      ]
     },
     "execution_count": 25,
     "metadata": {},
     "output_type": "execute_result"
    },
    {
     "data": {
      "image/png": "[encoded data removed]",
      "text/plain": [
       "<Figure size 432x288 with 1 Axes>"
      ]
     },
     "metadata": {
      "needs_background": "light"
     },
     "output_type": "display_data"
    }
   ],
   "source": [
    "pd.Series(num_switches(df_selections, \"columns\")).value_counts().plot(kind='bar', title=\"Number of switches columns\")"
   ]
  },
  {
   "cell_type": "code",
   "execution_count": 26,
   "id": "efee0385",
   "metadata": {},
   "outputs": [
    {
     "data": {
      "text/plain": [
       "<AxesSubplot:title={'center':'Number of switches rows'}>"
      ]
     },
     "execution_count": 26,
     "metadata": {},
     "output_type": "execute_result"
    },
    {
     "data": {
      "image/png": "[encoded data removed]",
      "text/plain": [
       "<Figure size 432x288 with 1 Axes>"
      ]
     },
     "metadata": {
      "needs_background": "light"
     },
     "output_type": "display_data"
    }
   ],
   "source": [
    "pd.Series(num_switches(df_selections, \"rows\")).value_counts().plot(kind='bar', title=\"Number of switches rows\")"
   ]
  },
  {
   "cell_type": "code",
   "execution_count": 27,
   "id": "3bf660bb",
   "metadata": {},
   "outputs": [
    {
     "data": {
      "text/plain": [
       "<AxesSubplot:title={'center':'Number of switches max-columns'}>"
      ]
     },
     "execution_count": 27,
     "metadata": {},
     "output_type": "execute_result"
    },
    {
     "data": {
      "image/png": "[encoded data removed]",
      "text/plain": [
       "<Figure size 432x288 with 1 Axes>"
      ]
     },
     "metadata": {
      "needs_background": "light"
     },
     "output_type": "display_data"
    }
   ],
   "source": [
    "pd.Series(num_switches(df_selections, \"max-columns\")).value_counts().plot(kind='bar', title=\"Number of switches max-columns\")"
   ]
  },
  {
   "cell_type": "code",
   "execution_count": 28,
   "id": "a88644f0",
   "metadata": {},
   "outputs": [
    {
     "data": {
      "text/plain": [
       "<AxesSubplot:title={'center':'Number of switches row-single'}>"
      ]
     },
     "execution_count": 28,
     "metadata": {},
     "output_type": "execute_result"
    },
    {
     "data": {
      "image/png": "[encoded data removed]",
      "text/plain": [
       "<Figure size 432x288 with 1 Axes>"
      ]
     },
     "metadata": {
      "needs_background": "light"
     },
     "output_type": "display_data"
    }
   ],
   "source": [
    "pd.Series(num_switches(df_selections, \"row-single\")).value_counts().plot(kind='bar', title=\"Number of switches row-single\")"
   ]
  },
  {
   "cell_type": "code",
   "execution_count": 29,
   "id": "8e94af23",
   "metadata": {},
   "outputs": [
    {
     "data": {
      "text/plain": [
       "<AxesSubplot:title={'center':'Number of switches row-single-scrollable'}>"
      ]
     },
     "execution_count": 29,
     "metadata": {},
     "output_type": "execute_result"
    },
    {
     "data": {
      "image/png": "[encoded data removed]",
      "text/plain": [
       "<Figure size 432x288 with 1 Axes>"
      ]
     },
     "metadata": {
      "needs_background": "light"
     },
     "output_type": "display_data"
    }
   ],
   "source": [
    "pd.Series(num_switches(df_selections, \"row-single-scrollable\")).value_counts().plot(kind='bar', title=\"Number of switches row-single-scrollable\")"
   ]
  },
  {
   "cell_type": "code",
   "execution_count": 30,
   "id": "ecc4f32f",
   "metadata": {},
   "outputs": [
    {
     "data": {
      "text/plain": [
       "<AxesSubplot:title={'center':'Number of switches high level ROWS'}>"
      ]
     },
     "execution_count": 30,
     "metadata": {},
     "output_type": "execute_result"
    },
    {
     "data": {
      "image/png": "[encoded data removed]",
      "text/plain": [
       "<Figure size 432x288 with 1 Axes>"
      ]
     },
     "metadata": {
      "needs_background": "light"
     },
     "output_type": "display_data"
    }
   ],
   "source": [
    "pd.Series(num_switches_high_level(df_selections, \"rows\")).value_counts().plot(kind='bar', title=\"Number of switches high level ROWS\")"
   ]
  },
  {
   "cell_type": "code",
   "execution_count": 31,
   "id": "cb034f4b",
   "metadata": {},
   "outputs": [
    {
     "data": {
      "text/plain": [
       "<AxesSubplot:title={'center':'Number of switches high level COLUMNS'}>"
      ]
     },
     "execution_count": 31,
     "metadata": {},
     "output_type": "execute_result"
    },
    {
     "data": {
      "image/png": "[encoded data removed]",
      "text/plain": [
       "<Figure size 432x288 with 1 Axes>"
      ]
     },
     "metadata": {
      "needs_background": "light"
     },
     "output_type": "display_data"
    }
   ],
   "source": [
    "pd.Series(num_switches_high_level(df_selections, \"columns\")).value_counts().plot(kind='bar', title=\"Number of switches high level COLUMNS\")"
   ]
  },
  {
   "cell_type": "code",
   "execution_count": 32,
   "id": "48f1286d",
   "metadata": {},
   "outputs": [
    {
     "data": {
      "text/html": [
       "<div>\n",
       "<style scoped>\n",
       "    .dataframe tbody tr th:only-of-type {\n",
       "        vertical-align: middle;\n",
       "    }\n",
       "\n",
       "    .dataframe tbody tr th {\n",
       "        vertical-align: top;\n",
       "    }\n",
       "\n",
       "    .dataframe thead th {\n",
       "        text-align: right;\n",
       "    }\n",
       "</style>\n",
       "<table border=\"1\" class=\"dataframe\">\n",
       "  <thead>\n",
       "    <tr style=\"text-align: right;\">\n",
       "      <th></th>\n",
       "      <th>rows</th>\n",
       "      <th>columns</th>\n",
       "    </tr>\n",
       "  </thead>\n",
       "  <tbody>\n",
       "    <tr>\n",
       "      <th>0</th>\n",
       "      <td>1.0</td>\n",
       "      <td>0.0</td>\n",
       "    </tr>\n",
       "    <tr>\n",
       "      <th>1</th>\n",
       "      <td>0.0</td>\n",
       "      <td>1.0</td>\n",
       "    </tr>\n",
       "    <tr>\n",
       "      <th>2</th>\n",
       "      <td>1.0</td>\n",
       "      <td>0.0</td>\n",
       "    </tr>\n",
       "    <tr>\n",
       "      <th>3</th>\n",
       "      <td>0.0</td>\n",
       "      <td>0.0</td>\n",
       "    </tr>\n",
       "    <tr>\n",
       "      <th>4</th>\n",
       "      <td>1.0</td>\n",
       "      <td>2.0</td>\n",
       "    </tr>\n",
       "    <tr>\n",
       "      <th>...</th>\n",
       "      <td>...</td>\n",
       "      <td>...</td>\n",
       "    </tr>\n",
       "    <tr>\n",
       "      <th>494</th>\n",
       "      <td>1.0</td>\n",
       "      <td>1.0</td>\n",
       "    </tr>\n",
       "    <tr>\n",
       "      <th>495</th>\n",
       "      <td>1.0</td>\n",
       "      <td>2.0</td>\n",
       "    </tr>\n",
       "    <tr>\n",
       "      <th>496</th>\n",
       "      <td>2.0</td>\n",
       "      <td>4.0</td>\n",
       "    </tr>\n",
       "    <tr>\n",
       "      <th>497</th>\n",
       "      <td>1.0</td>\n",
       "      <td>0.0</td>\n",
       "    </tr>\n",
       "    <tr>\n",
       "      <th>498</th>\n",
       "      <td>1.0</td>\n",
       "      <td>1.0</td>\n",
       "    </tr>\n",
       "  </tbody>\n",
       "</table>\n",
       "<p>499 rows × 2 columns</p>\n",
       "</div>"
      ],
      "text/plain": [
       "     rows  columns\n",
       "0     1.0      0.0\n",
       "1     0.0      1.0\n",
       "2     1.0      0.0\n",
       "3     0.0      0.0\n",
       "4     1.0      2.0\n",
       "..    ...      ...\n",
       "494   1.0      1.0\n",
       "495   1.0      2.0\n",
       "496   2.0      4.0\n",
       "497   1.0      0.0\n",
       "498   1.0      1.0\n",
       "\n",
       "[499 rows x 2 columns]"
      ]
     },
     "execution_count": 32,
     "metadata": {},
     "output_type": "execute_result"
    }
   ],
   "source": [
    "df = pd.DataFrame()\n",
    "df.loc[:, \"rows\"] = pd.Series(num_switches_high_level(df_selections, \"rows\"))\n",
    "df.loc[:, \"columns\"] = pd.Series(num_switches_high_level(df_selections, \"columns\"))\n",
    "df"
   ]
  },
  {
   "cell_type": "code",
   "execution_count": 33,
   "id": "fffe367b",
   "metadata": {},
   "outputs": [
    {
     "data": {
      "text/plain": [
       "Ttest_indResult(statistic=-7.356203876057192, pvalue=3.816603389185729e-13)"
      ]
     },
     "execution_count": 33,
     "metadata": {},
     "output_type": "execute_result"
    }
   ],
   "source": [
    "from scipy.stats import ttest_ind\n",
    "ttest_ind(pd.Series(num_switches_high_level(df_selections, \"rows\")), pd.Series(num_switches_high_level(df_selections, \"columns\")))"
   ]
  },
  {
   "cell_type": "code",
   "execution_count": 34,
   "id": "d81af45e",
   "metadata": {},
   "outputs": [
    {
     "data": {
      "text/html": [
       "<div>\n",
       "<style scoped>\n",
       "    .dataframe tbody tr th:only-of-type {\n",
       "        vertical-align: middle;\n",
       "    }\n",
       "\n",
       "    .dataframe tbody tr th {\n",
       "        vertical-align: top;\n",
       "    }\n",
       "\n",
       "    .dataframe thead th {\n",
       "        text-align: right;\n",
       "    }\n",
       "</style>\n",
       "<table border=\"1\" class=\"dataframe\">\n",
       "  <thead>\n",
       "    <tr style=\"text-align: right;\">\n",
       "      <th></th>\n",
       "      <th>switches</th>\n",
       "      <th>occurrences</th>\n",
       "      <th>layout</th>\n",
       "    </tr>\n",
       "  </thead>\n",
       "  <tbody>\n",
       "    <tr>\n",
       "      <th>0</th>\n",
       "      <td>switches &lt;= 1</td>\n",
       "      <td>1</td>\n",
       "      <td>rows</td>\n",
       "    </tr>\n",
       "    <tr>\n",
       "      <th>1</th>\n",
       "      <td>switches &lt;= 1</td>\n",
       "      <td>1</td>\n",
       "      <td>rows</td>\n",
       "    </tr>\n",
       "    <tr>\n",
       "      <th>2</th>\n",
       "      <td>switches &lt;= 1</td>\n",
       "      <td>1</td>\n",
       "      <td>rows</td>\n",
       "    </tr>\n",
       "    <tr>\n",
       "      <th>3</th>\n",
       "      <td>switches &lt;= 1</td>\n",
       "      <td>1</td>\n",
       "      <td>rows</td>\n",
       "    </tr>\n",
       "    <tr>\n",
       "      <th>4</th>\n",
       "      <td>switches &lt;= 1</td>\n",
       "      <td>1</td>\n",
       "      <td>rows</td>\n",
       "    </tr>\n",
       "    <tr>\n",
       "      <th>...</th>\n",
       "      <td>...</td>\n",
       "      <td>...</td>\n",
       "      <td>...</td>\n",
       "    </tr>\n",
       "    <tr>\n",
       "      <th>1043</th>\n",
       "      <td>switches &lt;= 1</td>\n",
       "      <td>1</td>\n",
       "      <td>columns</td>\n",
       "    </tr>\n",
       "    <tr>\n",
       "      <th>1044</th>\n",
       "      <td>switches &lt;= 1</td>\n",
       "      <td>1</td>\n",
       "      <td>columns</td>\n",
       "    </tr>\n",
       "    <tr>\n",
       "      <th>1045</th>\n",
       "      <td>switches &lt;= 1</td>\n",
       "      <td>1</td>\n",
       "      <td>columns</td>\n",
       "    </tr>\n",
       "    <tr>\n",
       "      <th>1046</th>\n",
       "      <td>switches &lt;= 1</td>\n",
       "      <td>1</td>\n",
       "      <td>columns</td>\n",
       "    </tr>\n",
       "    <tr>\n",
       "      <th>1047</th>\n",
       "      <td>switches &lt;= 1</td>\n",
       "      <td>1</td>\n",
       "      <td>columns</td>\n",
       "    </tr>\n",
       "  </tbody>\n",
       "</table>\n",
       "<p>1048 rows × 3 columns</p>\n",
       "</div>"
      ],
      "text/plain": [
       "           switches occurrences   layout\n",
       "0     switches <= 1           1     rows\n",
       "1     switches <= 1           1     rows\n",
       "2     switches <= 1           1     rows\n",
       "3     switches <= 1           1     rows\n",
       "4     switches <= 1           1     rows\n",
       "...             ...         ...      ...\n",
       "1043  switches <= 1           1  columns\n",
       "1044  switches <= 1           1  columns\n",
       "1045  switches <= 1           1  columns\n",
       "1046  switches <= 1           1  columns\n",
       "1047  switches <= 1           1  columns\n",
       "\n",
       "[1048 rows x 3 columns]"
      ]
     },
     "execution_count": 34,
     "metadata": {},
     "output_type": "execute_result"
    }
   ],
   "source": [
    "df_results = pd.DataFrame(columns=[\"switches\", \"occurrences\", \"layout\"])\n",
    "\n",
    "for row_switches in pd.Series(num_switches_high_level(df_selections, \"rows\")):\n",
    "    if row_switches > 1:\n",
    "        df_results.loc[len(df_results.index)] = [\"switches > 1\", 1, \"rows\"]\n",
    "    else:\n",
    "        df_results.loc[len(df_results.index)] = [\"switches <= 1\", 1, \"rows\"]\n",
    "        \n",
    "for column_switches in pd.Series(num_switches_high_level(df_selections, \"columns\")):\n",
    "    if column_switches > 1:\n",
    "        df_results.loc[len(df_results.index)] = [\"switches > 1\", 1, \"columns\"]\n",
    "    else:\n",
    "        df_results.loc[len(df_results.index)] = [\"switches <= 1\", 1, \"columns\"]\n",
    "\n",
    "df_results"
   ]
  },
  {
   "cell_type": "code",
   "execution_count": 35,
   "id": "2d204c0e",
   "metadata": {},
   "outputs": [
    {
     "data": {
      "text/html": [
       "<div>\n",
       "<style scoped>\n",
       "    .dataframe tbody tr th:only-of-type {\n",
       "        vertical-align: middle;\n",
       "    }\n",
       "\n",
       "    .dataframe tbody tr th {\n",
       "        vertical-align: top;\n",
       "    }\n",
       "\n",
       "    .dataframe thead th {\n",
       "        text-align: right;\n",
       "    }\n",
       "</style>\n",
       "<table border=\"1\" class=\"dataframe\">\n",
       "  <thead>\n",
       "    <tr style=\"text-align: right;\">\n",
       "      <th>switches</th>\n",
       "      <th>switches &lt;= 1</th>\n",
       "      <th>switches &gt; 1</th>\n",
       "    </tr>\n",
       "    <tr>\n",
       "      <th>layout</th>\n",
       "      <th></th>\n",
       "      <th></th>\n",
       "    </tr>\n",
       "  </thead>\n",
       "  <tbody>\n",
       "    <tr>\n",
       "      <th>columns</th>\n",
       "      <td>408</td>\n",
       "      <td>141</td>\n",
       "    </tr>\n",
       "    <tr>\n",
       "      <th>rows</th>\n",
       "      <td>455</td>\n",
       "      <td>44</td>\n",
       "    </tr>\n",
       "  </tbody>\n",
       "</table>\n",
       "</div>"
      ],
      "text/plain": [
       "switches  switches <= 1  switches > 1\n",
       "layout                               \n",
       "columns             408           141\n",
       "rows                455            44"
      ]
     },
     "execution_count": 35,
     "metadata": {},
     "output_type": "execute_result"
    }
   ],
   "source": [
    "cont = pd.crosstab(df_results.switches, df_results.layout).T\n",
    "cont"
   ]
  },
  {
   "cell_type": "code",
   "execution_count": 36,
   "id": "12a50e08",
   "metadata": {},
   "outputs": [
    {
     "data": {
      "text/html": [
       "<div>\n",
       "<style scoped>\n",
       "    .dataframe tbody tr th:only-of-type {\n",
       "        vertical-align: middle;\n",
       "    }\n",
       "\n",
       "    .dataframe tbody tr th {\n",
       "        vertical-align: top;\n",
       "    }\n",
       "\n",
       "    .dataframe thead th {\n",
       "        text-align: right;\n",
       "    }\n",
       "</style>\n",
       "<table border=\"1\" class=\"dataframe\">\n",
       "  <thead>\n",
       "    <tr style=\"text-align: right;\">\n",
       "      <th>switches</th>\n",
       "      <th>switches &lt;= 1</th>\n",
       "      <th>switches &gt; 1</th>\n",
       "    </tr>\n",
       "    <tr>\n",
       "      <th>layout</th>\n",
       "      <th></th>\n",
       "      <th></th>\n",
       "    </tr>\n",
       "  </thead>\n",
       "  <tbody>\n",
       "    <tr>\n",
       "      <th>columns</th>\n",
       "      <td>74.3</td>\n",
       "      <td>25.7</td>\n",
       "    </tr>\n",
       "    <tr>\n",
       "      <th>rows</th>\n",
       "      <td>91.2</td>\n",
       "      <td>8.8</td>\n",
       "    </tr>\n",
       "  </tbody>\n",
       "</table>\n",
       "</div>"
      ],
      "text/plain": [
       "switches  switches <= 1  switches > 1\n",
       "layout                               \n",
       "columns            74.3          25.7\n",
       "rows               91.2           8.8"
      ]
     },
     "execution_count": 36,
     "metadata": {},
     "output_type": "execute_result"
    }
   ],
   "source": [
    "np.round(cont / np.stack([cont.sum(axis=1).values, cont.sum(axis=1).values]).T * 100, 1)"
   ]
  },
  {
   "cell_type": "code",
   "execution_count": 37,
   "id": "a992bdac",
   "metadata": {},
   "outputs": [
    {
     "name": "stdout",
     "output_type": "stream",
     "text": [
      "columns rows (7.151927606996008, 8.55676951305154e-13)\n",
      "rows columns (-7.151927606996008, 8.55676951305154e-13)\n"
     ]
    }
   ],
   "source": [
    "from statsmodels.stats.proportion import proportions_ztest\n",
    "for c1 in cont.index.unique():\n",
    "    for c2 in cont.index.unique():\n",
    "        if c1 != c2:\n",
    "            cx = cont.loc[c1]\n",
    "            cy = cont.loc[c2]\n",
    "            succ = [cx[1], cy[1]]\n",
    "            nobs = [cx[0] + cx[1], cy[0] + cy[1]]\n",
    "            print(c1, c2, proportions_ztest(succ, nobs))"
   ]
  },
  {
   "cell_type": "code",
   "execution_count": 38,
   "id": "5f6753b3",
   "metadata": {},
   "outputs": [
    {
     "data": {
      "text/html": [
       "<div>\n",
       "<style scoped>\n",
       "    .dataframe tbody tr th:only-of-type {\n",
       "        vertical-align: middle;\n",
       "    }\n",
       "\n",
       "    .dataframe tbody tr th {\n",
       "        vertical-align: top;\n",
       "    }\n",
       "\n",
       "    .dataframe thead th {\n",
       "        text-align: right;\n",
       "    }\n",
       "</style>\n",
       "<table border=\"1\" class=\"dataframe\">\n",
       "  <thead>\n",
       "    <tr style=\"text-align: right;\">\n",
       "      <th></th>\n",
       "      <th>switches</th>\n",
       "      <th>occurrences</th>\n",
       "      <th>layout</th>\n",
       "    </tr>\n",
       "  </thead>\n",
       "  <tbody>\n",
       "    <tr>\n",
       "      <th>0</th>\n",
       "      <td>switches &lt;= 1</td>\n",
       "      <td>1</td>\n",
       "      <td>row-single-scrollable</td>\n",
       "    </tr>\n",
       "    <tr>\n",
       "      <th>1</th>\n",
       "      <td>switches &lt;= 1</td>\n",
       "      <td>1</td>\n",
       "      <td>row-single-scrollable</td>\n",
       "    </tr>\n",
       "    <tr>\n",
       "      <th>2</th>\n",
       "      <td>switches &lt;= 1</td>\n",
       "      <td>1</td>\n",
       "      <td>row-single-scrollable</td>\n",
       "    </tr>\n",
       "    <tr>\n",
       "      <th>3</th>\n",
       "      <td>switches &gt; 1</td>\n",
       "      <td>1</td>\n",
       "      <td>row-single-scrollable</td>\n",
       "    </tr>\n",
       "    <tr>\n",
       "      <th>4</th>\n",
       "      <td>switches &lt;= 1</td>\n",
       "      <td>1</td>\n",
       "      <td>row-single-scrollable</td>\n",
       "    </tr>\n",
       "    <tr>\n",
       "      <th>...</th>\n",
       "      <td>...</td>\n",
       "      <td>...</td>\n",
       "      <td>...</td>\n",
       "    </tr>\n",
       "    <tr>\n",
       "      <th>1044</th>\n",
       "      <td>switches &lt;= 1</td>\n",
       "      <td>1</td>\n",
       "      <td>row-single</td>\n",
       "    </tr>\n",
       "    <tr>\n",
       "      <th>1045</th>\n",
       "      <td>switches &lt;= 1</td>\n",
       "      <td>1</td>\n",
       "      <td>row-single</td>\n",
       "    </tr>\n",
       "    <tr>\n",
       "      <th>1046</th>\n",
       "      <td>switches &lt;= 1</td>\n",
       "      <td>1</td>\n",
       "      <td>row-single</td>\n",
       "    </tr>\n",
       "    <tr>\n",
       "      <th>1047</th>\n",
       "      <td>switches &gt; 1</td>\n",
       "      <td>1</td>\n",
       "      <td>row-single</td>\n",
       "    </tr>\n",
       "    <tr>\n",
       "      <th>1048</th>\n",
       "      <td>switches &lt;= 1</td>\n",
       "      <td>1</td>\n",
       "      <td>row-single</td>\n",
       "    </tr>\n",
       "  </tbody>\n",
       "</table>\n",
       "<p>1049 rows × 3 columns</p>\n",
       "</div>"
      ],
      "text/plain": [
       "           switches occurrences                 layout\n",
       "0     switches <= 1           1  row-single-scrollable\n",
       "1     switches <= 1           1  row-single-scrollable\n",
       "2     switches <= 1           1  row-single-scrollable\n",
       "3      switches > 1           1  row-single-scrollable\n",
       "4     switches <= 1           1  row-single-scrollable\n",
       "...             ...         ...                    ...\n",
       "1044  switches <= 1           1             row-single\n",
       "1045  switches <= 1           1             row-single\n",
       "1046  switches <= 1           1             row-single\n",
       "1047   switches > 1           1             row-single\n",
       "1048  switches <= 1           1             row-single\n",
       "\n",
       "[1049 rows x 3 columns]"
      ]
     },
     "execution_count": 38,
     "metadata": {},
     "output_type": "execute_result"
    }
   ],
   "source": [
    "df_results = pd.DataFrame(columns=[\"switches\", \"occurrences\", \"layout\"])\n",
    "\n",
    "for layout in df_selections.result_layout.unique():\n",
    "    for switches in pd.Series(num_switches(df_selections, layout)):\n",
    "        if switches > 1:\n",
    "            df_results.loc[len(df_results.index)] = [\"switches > 1\", 1, layout]\n",
    "        else:\n",
    "            df_results.loc[len(df_results.index)] = [\"switches <= 1\", 1, layout]\n",
    "df_results"
   ]
  },
  {
   "cell_type": "code",
   "execution_count": 39,
   "id": "b1e7154a",
   "metadata": {},
   "outputs": [
    {
     "data": {
      "text/html": [
       "<div>\n",
       "<style scoped>\n",
       "    .dataframe tbody tr th:only-of-type {\n",
       "        vertical-align: middle;\n",
       "    }\n",
       "\n",
       "    .dataframe tbody tr th {\n",
       "        vertical-align: top;\n",
       "    }\n",
       "\n",
       "    .dataframe thead th {\n",
       "        text-align: right;\n",
       "    }\n",
       "</style>\n",
       "<table border=\"1\" class=\"dataframe\">\n",
       "  <thead>\n",
       "    <tr style=\"text-align: right;\">\n",
       "      <th>switches</th>\n",
       "      <th>switches &lt;= 1</th>\n",
       "      <th>switches &gt; 1</th>\n",
       "    </tr>\n",
       "    <tr>\n",
       "      <th>layout</th>\n",
       "      <th></th>\n",
       "      <th></th>\n",
       "    </tr>\n",
       "  </thead>\n",
       "  <tbody>\n",
       "    <tr>\n",
       "      <th>column-single</th>\n",
       "      <td>127</td>\n",
       "      <td>68</td>\n",
       "    </tr>\n",
       "    <tr>\n",
       "      <th>columns</th>\n",
       "      <td>142</td>\n",
       "      <td>42</td>\n",
       "    </tr>\n",
       "    <tr>\n",
       "      <th>max-columns</th>\n",
       "      <td>139</td>\n",
       "      <td>31</td>\n",
       "    </tr>\n",
       "    <tr>\n",
       "      <th>row-single</th>\n",
       "      <td>151</td>\n",
       "      <td>20</td>\n",
       "    </tr>\n",
       "    <tr>\n",
       "      <th>row-single-scrollable</th>\n",
       "      <td>138</td>\n",
       "      <td>13</td>\n",
       "    </tr>\n",
       "    <tr>\n",
       "      <th>rows</th>\n",
       "      <td>167</td>\n",
       "      <td>11</td>\n",
       "    </tr>\n",
       "  </tbody>\n",
       "</table>\n",
       "</div>"
      ],
      "text/plain": [
       "switches               switches <= 1  switches > 1\n",
       "layout                                            \n",
       "column-single                    127            68\n",
       "columns                          142            42\n",
       "max-columns                      139            31\n",
       "row-single                       151            20\n",
       "row-single-scrollable            138            13\n",
       "rows                             167            11"
      ]
     },
     "execution_count": 39,
     "metadata": {},
     "output_type": "execute_result"
    }
   ],
   "source": [
    "cont2 = pd.crosstab(df_results.switches, df_results.layout).T\n",
    "cont2"
   ]
  },
  {
   "cell_type": "code",
   "execution_count": 40,
   "id": "47ae7b1e",
   "metadata": {},
   "outputs": [
    {
     "data": {
      "text/html": [
       "<div>\n",
       "<style scoped>\n",
       "    .dataframe tbody tr th:only-of-type {\n",
       "        vertical-align: middle;\n",
       "    }\n",
       "\n",
       "    .dataframe tbody tr th {\n",
       "        vertical-align: top;\n",
       "    }\n",
       "\n",
       "    .dataframe thead th {\n",
       "        text-align: right;\n",
       "    }\n",
       "</style>\n",
       "<table border=\"1\" class=\"dataframe\">\n",
       "  <thead>\n",
       "    <tr style=\"text-align: right;\">\n",
       "      <th>switches</th>\n",
       "      <th>switches &lt;= 1</th>\n",
       "      <th>switches &gt; 1</th>\n",
       "    </tr>\n",
       "    <tr>\n",
       "      <th>layout</th>\n",
       "      <th></th>\n",
       "      <th></th>\n",
       "    </tr>\n",
       "  </thead>\n",
       "  <tbody>\n",
       "    <tr>\n",
       "      <th>column-single</th>\n",
       "      <td>65.1</td>\n",
       "      <td>34.9</td>\n",
       "    </tr>\n",
       "    <tr>\n",
       "      <th>columns</th>\n",
       "      <td>77.2</td>\n",
       "      <td>22.8</td>\n",
       "    </tr>\n",
       "    <tr>\n",
       "      <th>max-columns</th>\n",
       "      <td>81.8</td>\n",
       "      <td>18.2</td>\n",
       "    </tr>\n",
       "    <tr>\n",
       "      <th>row-single</th>\n",
       "      <td>88.3</td>\n",
       "      <td>11.7</td>\n",
       "    </tr>\n",
       "    <tr>\n",
       "      <th>row-single-scrollable</th>\n",
       "      <td>91.4</td>\n",
       "      <td>8.6</td>\n",
       "    </tr>\n",
       "    <tr>\n",
       "      <th>rows</th>\n",
       "      <td>93.8</td>\n",
       "      <td>6.2</td>\n",
       "    </tr>\n",
       "  </tbody>\n",
       "</table>\n",
       "</div>"
      ],
      "text/plain": [
       "switches               switches <= 1  switches > 1\n",
       "layout                                            \n",
       "column-single                   65.1          34.9\n",
       "columns                         77.2          22.8\n",
       "max-columns                     81.8          18.2\n",
       "row-single                      88.3          11.7\n",
       "row-single-scrollable           91.4           8.6\n",
       "rows                            93.8           6.2"
      ]
     },
     "execution_count": 40,
     "metadata": {},
     "output_type": "execute_result"
    }
   ],
   "source": [
    "np.round(cont2 / np.stack([cont2.sum(axis=1).values, cont2.sum(axis=1).values]).T * 100, 1)"
   ]
  },
  {
   "cell_type": "code",
   "execution_count": 41,
   "id": "57865656",
   "metadata": {},
   "outputs": [
    {
     "name": "stdout",
     "output_type": "stream",
     "text": [
      "column-single columns (2.582293890669529, 0.009814596681364664)\n",
      "column-single max-columns (3.566085627009654, 0.00036235302119809617)\n",
      "column-single row-single (5.176408732646106, 2.2619762505859593e-07)\n",
      "column-single row-single-scrollable (5.72156496996728, 1.0554728111981278e-08)\n",
      "column-single rows (6.774162815230879, 1.2512869607938399e-11)\n",
      "columns column-single (-2.582293890669529, 0.009814596681364664)\n",
      "columns max-columns (1.0666160358329162, 0.2861452562551501)\n",
      "columns row-single (2.7599022253303263, 0.005781866304199897)\n",
      "columns row-single-scrollable (3.495117282666145, 0.0004738534856907359)\n",
      "columns rows (4.478927630374807, 7.501895982082622e-06)\n",
      "max-columns column-single (-3.566085627009654, 0.00036235302119809617)\n",
      "max-columns columns (-1.0666160358329162, 0.2861452562551501)\n",
      "max-columns row-single (1.6929834143533096, 0.09045862425096317)\n",
      "max-columns row-single-scrollable (2.5029150198834516, 0.012317511563542344)\n",
      "max-columns rows (3.450838473432558, 0.0005588479271761014)\n",
      "row-single column-single (-5.176408732646106, 2.2619762505859593e-07)\n",
      "row-single columns (-2.7599022253303263, 0.005781866304199897)\n",
      "row-single max-columns (-1.6929834143533096, 0.09045862425096317)\n",
      "row-single row-single-scrollable (0.9113681291421726, 0.36210144037684533)\n",
      "row-single rows (1.810760225434477, 0.07017797569753005)\n",
      "row-single-scrollable column-single (-5.72156496996728, 1.0554728111981278e-08)\n",
      "row-single-scrollable columns (-3.495117282666145, 0.0004738534856907359)\n",
      "row-single-scrollable max-columns (-2.5029150198834516, 0.012317511563542344)\n",
      "row-single-scrollable row-single (-0.9113681291421726, 0.36210144037684533)\n",
      "row-single-scrollable rows (0.8444172855818811, 0.3984362664822988)\n",
      "rows column-single (-6.774162815230879, 1.2512869607938399e-11)\n",
      "rows columns (-4.478927630374807, 7.501895982082622e-06)\n",
      "rows max-columns (-3.450838473432558, 0.0005588479271761014)\n",
      "rows row-single (-1.810760225434477, 0.07017797569753005)\n",
      "rows row-single-scrollable (-0.8444172855818811, 0.3984362664822988)\n"
     ]
    }
   ],
   "source": [
    "for c1 in cont2.index.unique():\n",
    "    for c2 in cont2.index.unique():\n",
    "        if c1 != c2:\n",
    "            cx = cont2.loc[c1]\n",
    "            cy = cont2.loc[c2]\n",
    "            succ = [cx[1], cy[1]]\n",
    "            nobs = [cx[0] + cx[1], cy[0] + cy[1]]\n",
    "            print(c1, c2, proportions_ztest(succ, nobs))"
   ]
  }
 ],
 "metadata": {
  "kernelspec": {
   "display_name": "Python 3 (ipykernel)",
   "language": "python",
   "name": "python3"
  },
  "language_info": {
   "codemirror_mode": {
    "name": "ipython",
    "version": 3
   },
   "file_extension": ".py",
   "mimetype": "text/x-python",
   "name": "python",
   "nbconvert_exporter": "python",
   "pygments_lexer": "ipython3",
   "version": "3.9.6"
  }
 },
 "nbformat": 4,
 "nbformat_minor": 5
}
